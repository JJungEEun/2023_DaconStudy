{
  "nbformat": 4,
  "nbformat_minor": 0,
  "metadata": {
    "colab": {
      "provenance": [],
      "authorship_tag": "ABX9TyNI9j2Q1xgAOjKdnd5AqEUD",
      "include_colab_link": true
    },
    "kernelspec": {
      "name": "python3",
      "display_name": "Python 3"
    },
    "language_info": {
      "name": "python"
    }
  },
  "cells": [
    {
      "cell_type": "markdown",
      "metadata": {
        "id": "view-in-github",
        "colab_type": "text"
      },
      "source": [
        "<a href=\"https://colab.research.google.com/github/JJungEEun/2023_DaconStudy/blob/main/KBO%20%ED%83%80%EC%9E%90%20OPS%20%EC%98%88%EC%B8%A1%20%EA%B2%BD%EC%A7%84%EB%8C%80%ED%9A%8C/preprocessing.ipynb\" target=\"_parent\"><img src=\"https://colab.research.google.com/assets/colab-badge.svg\" alt=\"Open In Colab\"/></a>"
      ]
    },
    {
      "cell_type": "code",
      "execution_count": 1,
      "metadata": {
        "colab": {
          "base_uri": "https://localhost:8080/"
        },
        "id": "e5GhOBRl4MMr",
        "outputId": "a2bae278-e0f9-4041-c9d7-c5f9a790c647"
      },
      "outputs": [
        {
          "output_type": "stream",
          "name": "stdout",
          "text": [
            "Mounted at /content/drive\n"
          ]
        }
      ],
      "source": [
        "from google.colab import drive\n",
        "drive.mount('/content/drive')     "
      ]
    },
    {
      "cell_type": "code",
      "source": [
        "import random\n",
        "import pandas as pd\n",
        "import numpy as np\n",
        "import os\n",
        "import seaborn as sns\n",
        "from tqdm.auto import tqdm\n",
        "\n",
        "import matplotlib.pyplot as plt\n",
        "plt.rc('font', family='NanumBarunGothic') \n",
        "\n",
        "import warnings\n",
        "warnings.filterwarnings(action='ignore') "
      ],
      "metadata": {
        "id": "rrgb0fLW4THR"
      },
      "execution_count": 7,
      "outputs": []
    },
    {
      "cell_type": "code",
      "source": [
        "cd /content/drive/MyDrive/2023/데이콘/KBO 타자 OPS 예측 경진대회/data"
      ],
      "metadata": {
        "colab": {
          "base_uri": "https://localhost:8080/"
        },
        "id": "qyo5EQkd5AqU",
        "outputId": "f3b6dc33-5aa4-496c-bc83-7e7b6bed9337"
      },
      "execution_count": 8,
      "outputs": [
        {
          "output_type": "stream",
          "name": "stdout",
          "text": [
            "/content/drive/MyDrive/2023/데이콘/KBO 타자 OPS 예측 경진대회/data\n"
          ]
        }
      ]
    },
    {
      "cell_type": "markdown",
      "source": [
        "### Library import"
      ],
      "metadata": {
        "id": "p9UtGT_M4aE4"
      }
    },
    {
      "cell_type": "code",
      "source": [
        "# 팀 통합\n",
        "def team_change(team):\n",
        "\n",
        "    if team == \"쌍방울\":\n",
        "        team = \"SK\"\n",
        "\n",
        "    elif team == \"OB\":\n",
        "        team = \"두산\"\n",
        "    \n",
        "    elif team == \"해태\":\n",
        "        team = \"KIA\"\n",
        "\n",
        "    elif team == \"우리\":\n",
        "        team = \"넥센\"\n",
        "    \n",
        "    elif team == \"히어로즈\":\n",
        "        team = \"넥센\"\n",
        "\n",
        "    else:\n",
        "        team\n",
        "\n",
        "    return team"
      ],
      "metadata": {
        "id": "d9EDaAFM4b43"
      },
      "execution_count": 2,
      "outputs": []
    },
    {
      "cell_type": "code",
      "source": [
        "# 몸무게로 변환\n",
        "def weigth(kg):\n",
        "\n",
        "    # 몸무게가 3자리인 선수 고려\n",
        "    if len(kg) == 11:\n",
        "\n",
        "        kg = str(kg)[6:9]\n",
        "\n",
        "    else:\n",
        "        kg = str(kg)[6:8]\n",
        "\n",
        "    return int(kg)"
      ],
      "metadata": {
        "id": "gPREdfAK40Jm"
      },
      "execution_count": 3,
      "outputs": []
    },
    {
      "cell_type": "code",
      "source": [
        "# 몸무게 범주화\n",
        "def weight_to_category(kg):\n",
        "\n",
        "    if kg >= 94:\n",
        "        \n",
        "        x = int(3)\n",
        "\n",
        "    elif kg >= 85:\n",
        "\n",
        "        x = int(2)\n",
        "\n",
        "    elif kg >= 78:\n",
        "\n",
        "        x = int(1)\n",
        "\n",
        "    elif kg >= 0 and kg < 78:\n",
        "\n",
        "        x = int(0)\n",
        "\n",
        "    else:\n",
        "\n",
        "        x = np.NaN\n",
        "\n",
        "    return x"
      ],
      "metadata": {
        "id": "kzWmW9fN42ZV"
      },
      "execution_count": 4,
      "outputs": []
    },
    {
      "cell_type": "code",
      "source": [
        "# 나이 범주화\n",
        "def age_to_category(age):\n",
        "    if age >= 38:\n",
        "\n",
        "        age = 3\n",
        "\n",
        "    elif age >= 29:\n",
        "        \n",
        "        age = 2\n",
        "\n",
        "    elif age >= 23:\n",
        "\n",
        "        age = 1\n",
        "\n",
        "    else:\n",
        "\n",
        "        age = 0\n",
        "\n",
        "    return age\n",
        "     "
      ],
      "metadata": {
        "id": "UjDHE4kd43oA"
      },
      "execution_count": 5,
      "outputs": []
    },
    {
      "cell_type": "markdown",
      "source": [
        "### Load Data"
      ],
      "metadata": {
        "id": "dT08QcwM46wU"
      }
    },
    {
      "cell_type": "code",
      "source": [
        "regular = pd.read_csv('Regular_Season_Batter.csv')\n",
        "pre = pd.read_csv('Pre_Season_Batter.csv')"
      ],
      "metadata": {
        "id": "QdQBG297448R"
      },
      "execution_count": 9,
      "outputs": []
    },
    {
      "cell_type": "markdown",
      "source": [
        "### preprocessing"
      ],
      "metadata": {
        "id": "cQkgcMra5EzY"
      }
    },
    {
      "cell_type": "markdown",
      "source": [
        "#### 팀 전처리"
      ],
      "metadata": {
        "id": "xsnKX8ZG5GjB"
      }
    },
    {
      "cell_type": "code",
      "source": [
        "regular[\"team\"].value_counts()"
      ],
      "metadata": {
        "colab": {
          "base_uri": "https://localhost:8080/"
        },
        "id": "QreSzcuL5CQq",
        "outputId": "c0f276f3-10b1-448a-f4b4-3a48bad51d0c"
      },
      "execution_count": 10,
      "outputs": [
        {
          "output_type": "execute_result",
          "data": {
            "text/plain": [
              "한화      302\n",
              "롯데      298\n",
              "LG      294\n",
              "두산      282\n",
              "삼성      280\n",
              "SK      254\n",
              "KIA     254\n",
              "넥센      172\n",
              "NC      131\n",
              "KT       85\n",
              "현대       60\n",
              "우리       13\n",
              "히어로즈     13\n",
              "해태       12\n",
              "OB        3\n",
              "쌍방울       1\n",
              "Name: team, dtype: int64"
            ]
          },
          "metadata": {},
          "execution_count": 10
        }
      ]
    },
    {
      "cell_type": "markdown",
      "source": [
        "- 위의 팀들을 살펴봤을 때 데이터의 처리가 팀 별로 구분이 되어있다.\n",
        "\n",
        "- 하지만, 여러 팀에서 경기를 진행한 선수의 경우 팀별로 다른 양상을 보이기에 통합이 필요함\n",
        "\n",
        "- 쌍방울레이더스의 경우 1999년 해체 후 2000년도 부터 SK가 이어 받아 진행하였고, OB의 경우 두산베어스로, 해태의 경우 기아타이거즈, 우리 및 서울 히어로즈의 경우 전부 넥센 히어로즈의 전신이기 때문에\n",
        "- 팀의 데이터를 획일화 시켜주기 위하여 팀의 전신도 동일 팀이라 취급하여 전처리를 한다."
      ],
      "metadata": {
        "id": "ZFm_YZvk5K6z"
      }
    },
    {
      "cell_type": "code",
      "source": [
        "regular[\"team\"] = regular[\"team\"].apply(team_change)"
      ],
      "metadata": {
        "id": "KEPscoXS5KFc"
      },
      "execution_count": 11,
      "outputs": []
    },
    {
      "cell_type": "markdown",
      "source": [
        "#### 외국인 타자"
      ],
      "metadata": {
        "id": "MHM2QTHy5Tx8"
      }
    },
    {
      "cell_type": "code",
      "source": [
        "foreign = pd.DataFrame({\"name\":[\"가르시아\", \"고메즈\", \"대니돈\", \"러프\", \"로맥\", \"로메로\",\n",
        "                                \"로사리오\", \"로티노\", \"로하스\", \"스나이더\", \"스크럭스\", \"알드리지\",\n",
        "                                \"초이스\", \"칸투\", \"테임즈\", \"피에\", \"호잉\"]})"
      ],
      "metadata": {
        "id": "7Lql5PrA5RmH"
      },
      "execution_count": 12,
      "outputs": []
    },
    {
      "cell_type": "code",
      "source": [
        "regular.loc[regular[\"batter_name\"].isin(foreign[\"name\"]), \"외국인\"] = 0\n",
        "regular.loc[~regular[\"batter_name\"].isin(foreign[\"name\"]), \"외국인\"] = 1"
      ],
      "metadata": {
        "id": "GRwGFQpi5Wta"
      },
      "execution_count": 13,
      "outputs": []
    },
    {
      "cell_type": "code",
      "source": [
        "regular[\"외국인\"] = regular[\"외국인\"].astype(\"int\")"
      ],
      "metadata": {
        "id": "s0OMLjmP5Xlv"
      },
      "execution_count": 14,
      "outputs": []
    },
    {
      "cell_type": "markdown",
      "source": [
        "### 몸무게"
      ],
      "metadata": {
        "id": "adGXMXD25Zej"
      }
    },
    {
      "cell_type": "code",
      "source": [
        "regular['height/weight'].isna().sum()"
      ],
      "metadata": {
        "colab": {
          "base_uri": "https://localhost:8080/"
        },
        "id": "BcbF8pMY5Yq5",
        "outputId": "9662a3aa-5a8c-4a3c-827a-0b8c2c93dc92"
      },
      "execution_count": 15,
      "outputs": [
        {
          "output_type": "execute_result",
          "data": {
            "text/plain": [
              "802"
            ]
          },
          "metadata": {},
          "execution_count": 15
        }
      ]
    },
    {
      "cell_type": "code",
      "source": [
        "regular[regular['height/weight'].isna()==True]['batter_name'].unique()"
      ],
      "metadata": {
        "colab": {
          "base_uri": "https://localhost:8080/"
        },
        "id": "qsZJ8B0r5ghB",
        "outputId": "e00d6baf-a50b-4c8f-97cc-5462883ae58d"
      },
      "execution_count": 16,
      "outputs": [
        {
          "output_type": "execute_result",
          "data": {
            "text/plain": [
              "array(['백승룡', '진갑용', '강병식', '강봉규', '강정호', '고도현', '고동진', '고메즈', '고영민',\n",
              "       '이종환', '박재홍', '권용관', '김경모', '김경언', '김광연', '박재상', '김대륙', '김동주',\n",
              "       '신현철', '김연훈', '연경흠', '김원석', '김원섭', '나바로', '김종찬', '김종호', '나성용',\n",
              "       '대니돈', '로메로', '로사리오', '로티노', '마낙길', '모상기', '문우람', '박계현', '박기남',\n",
              "       '박노민', '박상규', '박용근', '박준서', '박진만', '박진원', '성의준', '손용석', '송지만',\n",
              "       '스나이더', '신경현', '신명철', '안치용', '알드리지', '양영동', '오재필', '용덕한', '우동균',\n",
              "       '유선정', '이종범', '유재혁', '윤완주', '윤요섭', '이명환', '이민재', '이승재', '이양기',\n",
              "       '이여상', '이우민', '이인구', '이정식', '이태원', '한상훈', '이현곤', '이홍구', '이희근',\n",
              "       '임재철', '장성호', '전현태', '정보명', '정상교', '정수성', '정현석', '정형식', '조성환',\n",
              "       '조영훈', '조인성', '조중근', '지재옥', '차일목', '채상병', '최경철', '최동수', '최민구',\n",
              "       '최선호', '최훈락', '칸투', '테임즈', '피에', '한윤섭', '현재윤', '홍성흔', '황목치승',\n",
              "       '황선일', '황정립'], dtype=object)"
            ]
          },
          "metadata": {},
          "execution_count": 16
        }
      ]
    },
    {
      "cell_type": "code",
      "source": [
        "import requests\n",
        "from bs4 import BeautifulSoup\n",
        "import collections"
      ],
      "metadata": {
        "id": "_tFg3J685wYg"
      },
      "execution_count": 17,
      "outputs": []
    },
    {
      "cell_type": "code",
      "source": [
        "noHW_batter = regular[regular['height/weight'].isna()==True]['batter_name'].unique()"
      ],
      "metadata": {
        "id": "QOUwIzwH5yPF"
      },
      "execution_count": 18,
      "outputs": []
    },
    {
      "cell_type": "code",
      "source": [
        "for batter in noHW_batter:\n",
        "  response = requests.get('https://search.naver.com/search.naver?where=nexearch&sm=top_hty&fbm=0&ie=utf8&query='+batter+'야구')\n",
        "  soup = BeautifulSoup(response.content, 'html.parser')\n",
        "  table = soup.select(\".detail_info > .txt_3 > .info_group > dd\")\n",
        "  \n",
        "  for a in table:\n",
        "    if a.string:\n",
        "      if a.string.endswith('kg'):\n",
        "        print(batter,a.string[1:])\n",
        "        regular.loc[regular['batter_name']==batter, 'height/weight']=a.string[1:]"
      ],
      "metadata": {
        "colab": {
          "base_uri": "https://localhost:8080/"
        },
        "id": "Ze0R2ZVs5zXo",
        "outputId": "b82a6004-1b6e-4ba2-b57d-31552988cde9"
      },
      "execution_count": 19,
      "outputs": [
        {
          "output_type": "stream",
          "name": "stdout",
          "text": [
            "백승룡 180cm, 80kg\n",
            "진갑용 182cm, 90kg\n",
            "강병식 182cm, 85kg\n",
            "강봉규 183cm, 88kg\n",
            "강정호 183cm, 99.8kg\n",
            "고도현 182cm, 97kg\n",
            "고동진 183cm, 85kg\n",
            "고영민 182cm, 73kg\n",
            "이종환 175cm, 90kg\n",
            "권용관 180cm, 80kg\n",
            "김경모 177cm, 72kg\n",
            "김경언 188cm, 84kg\n",
            "김광연 181cm, 76kg\n",
            "박재상 178cm, 83kg\n",
            "김대륙 185cm, 82kg\n",
            "김동주 180cm, 94kg\n",
            "김동주 190cm, 90kg\n",
            "신현철 179cm, 73kg\n",
            "김연훈 180cm, 80kg\n",
            "연경흠 176cm, 78kg\n",
            "김원석 182cm, 83kg\n",
            "김원섭 180cm, 75kg\n",
            "김종호 183cm, 82kg\n",
            "나성용 183cm, 94kg\n",
            "대니돈 186cm, 92kg\n",
            "마낙길 178cm, 75kg\n",
            "모상기 193cm, 100kg\n",
            "문우람 177cm, 80kg\n",
            "박계현 181cm, 82kg\n",
            "박기남 175cm, 80kg\n",
            "박상규 185cm, 88kg\n",
            "박용근 172cm, 76kg\n",
            "박준서 180cm, 80kg\n",
            "박진만 178cm, 82kg\n",
            "성의준 178cm, 76kg\n",
            "손용석 176cm, 88kg\n",
            "송지만 178cm, 85kg\n",
            "신경현 186cm, 95kg\n",
            "신명철 181cm, 77kg\n",
            "안치용 183cm, 90kg\n",
            "양영동 173cm, 70kg\n",
            "용덕한 176cm, 82kg\n",
            "우동균 175cm, 68kg\n",
            "유선정 180cm, 82kg\n",
            "이종범 178cm, 73kg\n",
            "유재혁 182cm, 70kg\n",
            "윤요섭 180cm, 96kg\n",
            "이명환 188cm, 94kg\n",
            "이민재 177cm, 77kg\n",
            "이승재 182cm, 82kg\n",
            "이양기 185cm, 88kg\n",
            "이정식 183cm, 90kg\n",
            "이태원 177cm, 78kg\n",
            "한상훈 178cm, 78kg\n",
            "이현곤 183cm, 83kg\n",
            "이홍구 180cm, 95kg\n",
            "이희근 178cm, 84kg\n",
            "임재철 182cm, 89kg\n",
            "정보명 177cm, 80kg\n",
            "정상교 177cm, 73kg\n",
            "정수성 173cm, 72kg\n",
            "정현석 182cm, 93kg\n",
            "정형식 178cm, 74kg\n",
            "조성환 180cm, 83kg\n",
            "조영훈 185cm, 90kg\n",
            "조인성 182cm, 107kg\n",
            "조중근 183cm, 98kg\n",
            "지재옥 181cm, 78kg\n",
            "차일목 176cm, 81kg\n",
            "채상병 185cm, 95kg\n",
            "최경철 188cm, 86kg\n",
            "최민구 178cm, 75kg\n",
            "최선호 179cm, 70kg\n",
            "최훈락 189cm, 82kg\n",
            "한윤섭 183cm, 82kg\n",
            "현재윤 174cm, 72kg\n",
            "홍성흔 180cm, 90kg\n",
            "황목치승 173cm, 68kg\n",
            "황선일 186cm, 81kg\n",
            "황정립 182cm, 85kg\n"
          ]
        }
      ]
    },
    {
      "cell_type": "code",
      "source": [
        "regular[regular['height/weight'].isna()==True]['batter_name'].unique()\n",
        "# 네이버 인물검색에 안뜸 !"
      ],
      "metadata": {
        "colab": {
          "base_uri": "https://localhost:8080/"
        },
        "id": "2oMpqXUo50aw",
        "outputId": "6ef542f2-fc92-4ee1-b234-bccdc25c7bd5"
      },
      "execution_count": 20,
      "outputs": [
        {
          "output_type": "execute_result",
          "data": {
            "text/plain": [
              "array(['고메즈', '박재홍', '나바로', '김종찬', '로메로', '로사리오', '로티노', '박노민', '박진원',\n",
              "       '스나이더', '알드리지', '오재필', '윤완주', '이여상', '이우민', '이인구', '장성호', '전현태',\n",
              "       '최동수', '칸투', '테임즈', '피에'], dtype=object)"
            ]
          },
          "metadata": {},
          "execution_count": 20
        }
      ]
    },
    {
      "cell_type": "code",
      "source": [
        "regular.loc[regular['batter_name']=='고메즈', 'height/weight'] = '188cm/88kg'\n",
        "regular.loc[regular['batter_name']=='박재홍', 'height/weight'] = '176cm/85kg'\n",
        "regular.loc[regular['batter_name']=='나바로', 'height/weight'] = '183cm/93kg'\n",
        "regular.loc[regular['batter_name']=='김종찬', 'height/weight'] = '188cm/102kg'\n",
        "regular.loc[regular['batter_name']=='로메로', 'height/weight'] = '188cm/102kg'\n",
        "regular.loc[regular['batter_name']=='로사리오', 'height/weight'] = '180cm/100kg'\n",
        "regular.loc[regular['batter_name']=='로티노', 'height/weight'] = '183cm/86kg'\n",
        "regular.loc[regular['batter_name']=='박노민', 'height/weight'] = '182cm/93kg'\n",
        "regular.loc[regular['batter_name']=='박지원', 'height/weight'] = '186cm, 85kg'\n",
        "regular.loc[regular['batter_name']=='스나이더', 'height/weight'] = '192cm/96kg'\n",
        "regular.loc[regular['batter_name']=='알드리지', 'height/weight'] = '185cm/102kg'\n",
        "regular.loc[regular['batter_name']=='오재필', 'height/weight'] = '181cm/83kg'\n",
        "regular.loc[regular['batter_name']=='윤완주', 'height/weight'] = '178cm, 84kg'\n",
        "regular.loc[regular['batter_name']=='이여상', 'height/weight'] = '183cm/84kg'\n",
        "regular.loc[regular['batter_name']=='이우민', 'height/weight'] = '182cm/85kg'\n",
        "regular.loc[regular['batter_name']=='이인구', 'height/weight'] = '186cm/94kg'\n",
        "regular.loc[regular['batter_name']=='장성호', 'height/weight'] = '183cm/93kg'\n",
        "regular.loc[regular['batter_name']=='전현태', 'height/weight'] = '184cm/87kg'\n",
        "regular.loc[regular['batter_name']=='최동수', 'height/weight'] = '186cm/98kg'\n",
        "regular.loc[regular['batter_name']=='칸투', 'height/weight'] = '192cm/92kg'\n",
        "regular.loc[regular['batter_name']=='테임즈', 'height/weight'] = '180cm/106kg'\n",
        "regular.loc[regular['batter_name']=='피에', 'height/weight'] = '188cm/86kg'\n",
        "regular.loc[regular['batter_name']=='박진원', 'height/weight'] = '179cm, 75kg'\n",
        "\n",
        "# http://www.kbreport.com/main 바탕으로 수기로 넣어줌"
      ],
      "metadata": {
        "id": "LAiaIAv96JmJ"
      },
      "execution_count": 21,
      "outputs": []
    },
    {
      "cell_type": "code",
      "source": [
        "regular['height/weight'].isna().sum()"
      ],
      "metadata": {
        "colab": {
          "base_uri": "https://localhost:8080/"
        },
        "id": "7liUa78_6Lz7",
        "outputId": "e5b1210d-8329-4a34-db3c-a5648e799137"
      },
      "execution_count": 22,
      "outputs": [
        {
          "output_type": "execute_result",
          "data": {
            "text/plain": [
              "0"
            ]
          },
          "metadata": {},
          "execution_count": 22
        }
      ]
    },
    {
      "cell_type": "code",
      "source": [
        "regular['weight'] = regular['height/weight'].apply(weigth)\n",
        "regular[\"weight_category\"] = regular[\"weight\"].apply(weight_to_category)"
      ],
      "metadata": {
        "id": "XkV9JRlU6UCj"
      },
      "execution_count": 23,
      "outputs": []
    },
    {
      "cell_type": "markdown",
      "source": [
        "### 연령"
      ],
      "metadata": {
        "id": "P1nr-Fpq6rZ2"
      }
    },
    {
      "cell_type": "code",
      "source": [
        "regular[\"year_born\"] = regular[\"year_born\"].apply(lambda x: int(str(x)[:4]))\n",
        "regular[\"age\"] = regular[\"year\"] - regular[\"year_born\"]"
      ],
      "metadata": {
        "id": "RmXH3rdt7BX9"
      },
      "execution_count": 30,
      "outputs": []
    },
    {
      "cell_type": "code",
      "source": [
        "regular[\"age_category\"] = regular[\"age\"].apply(age_to_category)"
      ],
      "metadata": {
        "id": "nJEGt_Y_7C3X"
      },
      "execution_count": 31,
      "outputs": []
    },
    {
      "cell_type": "markdown",
      "source": [
        "#### 노화곡선\n",
        "\n",
        "- 연령에 따른 OPS 평균값 확인 > 생존자 편향 문제 발생\n",
        "  + 19-22살 타자들의 평균 OPS는 프로 입단 초기부터 성적이 좋은 이정후같은 엘리트들이 주로 대상이 됨\n",
        "  + 반면 39-42살 평균 OPS는 노화가 천천히 진행된 특수한 타자들만 대상이 됨\n",
        "- 연령별 OPS 평균 X, OPS 평균 변화값 O\n",
        "\n",
        "```\n",
        "1) 19살에서 20살로 증가할 때, 해당 선수들의 OPS 평균 변화값\n",
        "\n",
        "2) 20살에서 21살로 증가할 때, 해당 선수들의 OPS 평균 변화값\n",
        "\n",
        "3) ...\n",
        "\n",
        "4) 각 나이별 OPS 평균 변화값 평균\n",
        "```"
      ],
      "metadata": {
        "id": "UJ9p8lTK6uyW"
      }
    },
    {
      "cell_type": "code",
      "source": [
        "print(regular['batter_id'].value_counts().unique())\n",
        "print(regular['batter_id'].value_counts().mean())\n",
        "print(regular['batter_id'].value_counts().median())"
      ],
      "metadata": {
        "colab": {
          "base_uri": "https://localhost:8080/"
        },
        "id": "QzGAFNme6NHo",
        "outputId": "4e30e9ce-88fe-4e63-bc54-b6e73f442dcd"
      },
      "execution_count": 27,
      "outputs": [
        {
          "output_type": "stream",
          "name": "stdout",
          "text": [
            "[20 19 18 17 16 15 14 13 12 11 10  9  8  7  6  5  4  3  2  1]\n",
            "7.113043478260869\n",
            "6.0\n"
          ]
        }
      ]
    },
    {
      "cell_type": "code",
      "source": [
        "regular2 = regular.groupby(['batter_id']).filter(lambda x: len(x)>=6)\n",
        "regular2.shape"
      ],
      "metadata": {
        "colab": {
          "base_uri": "https://localhost:8080/"
        },
        "id": "RMXroCz76WOa",
        "outputId": "c9b5b521-ea3d-4b5f-ef26-143a5ee97625"
      },
      "execution_count": 33,
      "outputs": [
        {
          "output_type": "execute_result",
          "data": {
            "text/plain": [
              "(1972, 34)"
            ]
          },
          "metadata": {},
          "execution_count": 33
        }
      ]
    },
    {
      "cell_type": "code",
      "source": [
        "regular2['mean_ops'] = regular2.groupby(['batter_id'])['OPS'].transform('mean')\n",
        "\n",
        "\n",
        "df = regular2.sort_values(['batter_id','age'])\n",
        "df['ops_diff'] = df['OPS'] - df['mean_ops']"
      ],
      "metadata": {
        "id": "_lNIJluE63zq"
      },
      "execution_count": 34,
      "outputs": []
    },
    {
      "cell_type": "code",
      "source": [
        "df['ops_diff'].isna().sum()"
      ],
      "metadata": {
        "colab": {
          "base_uri": "https://localhost:8080/"
        },
        "id": "3YyO9Rvp66S7",
        "outputId": "64c2bd19-3930-4216-d436-449b2bb37284"
      },
      "execution_count": 35,
      "outputs": [
        {
          "output_type": "execute_result",
          "data": {
            "text/plain": [
              "17"
            ]
          },
          "metadata": {},
          "execution_count": 35
        }
      ]
    },
    {
      "cell_type": "code",
      "source": [
        "df['ops_diff'] = df['ops_diff'].fillna(0)"
      ],
      "metadata": {
        "id": "5aKU1LFr7Ln5"
      },
      "execution_count": 36,
      "outputs": []
    },
    {
      "cell_type": "code",
      "source": [
        "mean_df = df.groupby(['age'])['ops_diff'].mean().reset_index()\n",
        "sns.lineplot(x='age',y='ops_diff', data=mean_df[3:-3])"
      ],
      "metadata": {
        "colab": {
          "base_uri": "https://localhost:8080/",
          "height": 297
        },
        "id": "GN_0gJJ_7M54",
        "outputId": "d28bcb05-b49d-47a6-86cc-f89b3f723ca2"
      },
      "execution_count": 40,
      "outputs": [
        {
          "output_type": "execute_result",
          "data": {
            "text/plain": [
              "<AxesSubplot:xlabel='age', ylabel='ops_diff'>"
            ]
          },
          "metadata": {},
          "execution_count": 40
        },
        {
          "output_type": "display_data",
          "data": {
            "text/plain": [
              "<Figure size 432x288 with 1 Axes>"
            ],
            "image/png": "[encoded data removed]"
          },
          "metadata": {
            "needs_background": "light"
          }
        }
      ]
    },
    {
      "cell_type": "markdown",
      "source": [
        "- kbo 선수 에이징 커브에 기준에 따라 나이를 범주화 한다.\n",
        "- 23세 29세 38세를 기준으로 범주화\n",
        "  + ..~23세:\n",
        "  + 23~29세: 증가\n",
        "  + 30~..세: 감소"
      ],
      "metadata": {
        "id": "Pm_QTWYB7VLh"
      }
    },
    {
      "cell_type": "code",
      "source": [
        "regular.to_csv(\"Regular_Season_Batter_pre(03-06).csv\", index=None)"
      ],
      "metadata": {
        "id": "765et3j07nr3"
      },
      "execution_count": 43,
      "outputs": []
    }
  ]
}
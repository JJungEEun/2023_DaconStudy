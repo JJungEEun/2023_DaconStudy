{
  "nbformat": 4,
  "nbformat_minor": 0,
  "metadata": {
    "colab": {
      "provenance": [],
      "authorship_tag": "ABX9TyMuoSXbl4qymWtxBidYoHTM",
      "include_colab_link": true
    },
    "kernelspec": {
      "name": "python3",
      "display_name": "Python 3"
    },
    "language_info": {
      "name": "python"
    }
  },
  "cells": [
    {
      "cell_type": "markdown",
      "metadata": {
        "id": "view-in-github",
        "colab_type": "text"
      },
      "source": [
        "<a href=\"https://colab.research.google.com/github/JJungEEun/2023_DaconStudy/blob/main/KBO%20%ED%83%80%EC%9E%90%20OPS%20%EC%98%88%EC%B8%A1%20%EA%B2%BD%EC%A7%84%EB%8C%80%ED%9A%8C/%EC%A0%95%EC%9D%80/01)EDA.ipynb\" target=\"_parent\"><img src=\"https://colab.research.google.com/assets/colab-badge.svg\" alt=\"Open In Colab\"/></a>"
      ]
    },
    {
      "cell_type": "code",
      "source": [
        "!sudo apt-get install -y fonts-nanum\n",
        "!sudo fc-cache -fv\n",
        "!rm ~/.cache/matplotlib -rf"
      ],
      "metadata": {
        "id": "qvm9LH4LriAw"
      },
      "execution_count": null,
      "outputs": []
    },
    {
      "cell_type": "code",
      "execution_count": 1,
      "metadata": {
        "colab": {
          "base_uri": "https://localhost:8080/"
        },
        "id": "FaEX4p6sn2yP",
        "outputId": "cbf5f248-859f-4a39-9333-c7288eebd11d"
      },
      "outputs": [
        {
          "output_type": "stream",
          "name": "stdout",
          "text": [
            "Mounted at /content/drive\n"
          ]
        }
      ],
      "source": [
        "from google.colab import drive\n",
        "drive.mount('/content/drive')"
      ]
    },
    {
      "cell_type": "code",
      "source": [
        "import random\n",
        "import pandas as pd\n",
        "import numpy as np\n",
        "import os\n",
        "import seaborn as sns\n",
        "from tqdm.auto import tqdm\n",
        "\n",
        "import matplotlib.pyplot as plt\n",
        "plt.rc('font', family='NanumBarunGothic') \n",
        "\n",
        "import warnings\n",
        "warnings.filterwarnings(action='ignore') "
      ],
      "metadata": {
        "id": "O2hw9WO0n9P9"
      },
      "execution_count": 1,
      "outputs": []
    },
    {
      "cell_type": "code",
      "source": [
        "cd /content/drive/MyDrive/2023/데이콘/KBO 타자 OPS 예측 경진대회/data"
      ],
      "metadata": {
        "colab": {
          "base_uri": "https://localhost:8080/"
        },
        "id": "myraY4VLoEtr",
        "outputId": "bd7fcabb-6ee1-4b45-e0b9-507148ef4c77"
      },
      "execution_count": 2,
      "outputs": [
        {
          "output_type": "stream",
          "name": "stdout",
          "text": [
            "/content/drive/MyDrive/2023/데이콘/KBO 타자 OPS 예측 경진대회/data\n"
          ]
        }
      ]
    },
    {
      "cell_type": "markdown",
      "source": [
        "### Load Dataset"
      ],
      "metadata": {
        "id": "n_X-qmWBp6VS"
      }
    },
    {
      "cell_type": "markdown",
      "source": [
        "1. Regular_Season_Batter.csv : KBO에서 활약한 타자들의 역대 정규시즌 성적을 포함하여 몸무게, 키 ,생년월일 등의 기본정보\n",
        "\n",
        "2. Regular_Season_Batter_Day_by_Day.csv: KBO에서 활약한 타자들의 일자 별 정규시즌 성적\n",
        "\n",
        "3. Pre_Season_Batter.csv : KBO에서 활약한 타자들의 역대 시범경기(정규시즌 직전에 여는 연습경기) 성적\n",
        "\n",
        "4. submission.csv : 참가자들이 예측해야 할 타자의 이름과 아이디 목록"
      ],
      "metadata": {
        "id": "fpHLNQrIoqV7"
      }
    },
    {
      "cell_type": "code",
      "source": [
        "regular = pd.read_csv('Regular_Season_Batter.csv')\n",
        "daybyday = pd.read_csv('Regular_Season_Batter_Day_by_Day_b4.csv')\n",
        "preseason = pd.read_csv('Pre_Season_Batter.csv')\n",
        "submission = pd.read_csv('submission.csv')"
      ],
      "metadata": {
        "id": "iF2Z7gYUoeHy"
      },
      "execution_count": 86,
      "outputs": []
    },
    {
      "cell_type": "code",
      "source": [
        "regular.head()"
      ],
      "metadata": {
        "colab": {
          "base_uri": "https://localhost:8080/",
          "height": 236
        },
        "id": "YPI6vbLwpL_V",
        "outputId": "002a1d44-7b2c-4e52-a62b-d6440dd0cf24"
      },
      "execution_count": 4,
      "outputs": [
        {
          "output_type": "execute_result",
          "data": {
            "text/plain": [
              "   batter_id batter_name  year team    avg    G   AB   R   H  2B  ...  GDP  \\\n",
              "0          0        가르시아  2018   LG  0.339   50  183  27  62   9  ...    3   \n",
              "1          1         강경학  2011   한화  0.000    2    1   0   0   0  ...    0   \n",
              "2          1         강경학  2014   한화  0.221   41   86  11  19   2  ...    1   \n",
              "3          1         강경학  2015   한화  0.257  120  311  50  80   7  ...    3   \n",
              "4          1         강경학  2016   한화  0.158   46  101  16  16   3  ...    5   \n",
              "\n",
              "     SLG    OBP   E  height/weight      year_born   position  \\\n",
              "0  0.519  0.383   9     177cm/93kg  1985년 04월 12일  내야수(우투우타)   \n",
              "1  0.000  0.000   1     180cm/72kg  1992년 08월 11일  내야수(우투좌타)   \n",
              "2  0.349  0.337   6     180cm/72kg  1992년 08월 11일  내야수(우투좌타)   \n",
              "3  0.325  0.348  15     180cm/72kg  1992년 08월 11일  내야수(우투좌타)   \n",
              "4  0.257  0.232   7     180cm/72kg  1992년 08월 11일  내야수(우투좌타)   \n",
              "\n",
              "                                   career  starting_salary    OPS  \n",
              "0  쿠바 Ciego de Avila Maximo Gomez Baez(대)              NaN  0.902  \n",
              "1                       광주대성초-광주동성중-광주동성고          10000만원  0.000  \n",
              "2                       광주대성초-광주동성중-광주동성고          10000만원  0.686  \n",
              "3                       광주대성초-광주동성중-광주동성고          10000만원  0.673  \n",
              "4                       광주대성초-광주동성중-광주동성고          10000만원  0.489  \n",
              "\n",
              "[5 rows x 29 columns]"
            ],
            "text/html": [
              "\n",
              "  <div id=\"df-4c3674cc-8cae-4534-a8a8-ffe3acc56b88\">\n",
              "    <div class=\"colab-df-container\">\n",
              "      <div>\n",
              "<style scoped>\n",
              "    .dataframe tbody tr th:only-of-type {\n",
              "        vertical-align: middle;\n",
              "    }\n",
              "\n",
              "    .dataframe tbody tr th {\n",
              "        vertical-align: top;\n",
              "    }\n",
              "\n",
              "    .dataframe thead th {\n",
              "        text-align: right;\n",
              "    }\n",
              "</style>\n",
              "<table border=\"1\" class=\"dataframe\">\n",
              "  <thead>\n",
              "    <tr style=\"text-align: right;\">\n",
              "      <th></th>\n",
              "      <th>batter_id</th>\n",
              "      <th>batter_name</th>\n",
              "      <th>year</th>\n",
              "      <th>team</th>\n",
              "      <th>avg</th>\n",
              "      <th>G</th>\n",
              "      <th>AB</th>\n",
              "      <th>R</th>\n",
              "      <th>H</th>\n",
              "      <th>2B</th>\n",
              "      <th>...</th>\n",
              "      <th>GDP</th>\n",
              "      <th>SLG</th>\n",
              "      <th>OBP</th>\n",
              "      <th>E</th>\n",
              "      <th>height/weight</th>\n",
              "      <th>year_born</th>\n",
              "      <th>position</th>\n",
              "      <th>career</th>\n",
              "      <th>starting_salary</th>\n",
              "      <th>OPS</th>\n",
              "    </tr>\n",
              "  </thead>\n",
              "  <tbody>\n",
              "    <tr>\n",
              "      <th>0</th>\n",
              "      <td>0</td>\n",
              "      <td>가르시아</td>\n",
              "      <td>2018</td>\n",
              "      <td>LG</td>\n",
              "      <td>0.339</td>\n",
              "      <td>50</td>\n",
              "      <td>183</td>\n",
              "      <td>27</td>\n",
              "      <td>62</td>\n",
              "      <td>9</td>\n",
              "      <td>...</td>\n",
              "      <td>3</td>\n",
              "      <td>0.519</td>\n",
              "      <td>0.383</td>\n",
              "      <td>9</td>\n",
              "      <td>177cm/93kg</td>\n",
              "      <td>1985년 04월 12일</td>\n",
              "      <td>내야수(우투우타)</td>\n",
              "      <td>쿠바 Ciego de Avila Maximo Gomez Baez(대)</td>\n",
              "      <td>NaN</td>\n",
              "      <td>0.902</td>\n",
              "    </tr>\n",
              "    <tr>\n",
              "      <th>1</th>\n",
              "      <td>1</td>\n",
              "      <td>강경학</td>\n",
              "      <td>2011</td>\n",
              "      <td>한화</td>\n",
              "      <td>0.000</td>\n",
              "      <td>2</td>\n",
              "      <td>1</td>\n",
              "      <td>0</td>\n",
              "      <td>0</td>\n",
              "      <td>0</td>\n",
              "      <td>...</td>\n",
              "      <td>0</td>\n",
              "      <td>0.000</td>\n",
              "      <td>0.000</td>\n",
              "      <td>1</td>\n",
              "      <td>180cm/72kg</td>\n",
              "      <td>1992년 08월 11일</td>\n",
              "      <td>내야수(우투좌타)</td>\n",
              "      <td>광주대성초-광주동성중-광주동성고</td>\n",
              "      <td>10000만원</td>\n",
              "      <td>0.000</td>\n",
              "    </tr>\n",
              "    <tr>\n",
              "      <th>2</th>\n",
              "      <td>1</td>\n",
              "      <td>강경학</td>\n",
              "      <td>2014</td>\n",
              "      <td>한화</td>\n",
              "      <td>0.221</td>\n",
              "      <td>41</td>\n",
              "      <td>86</td>\n",
              "      <td>11</td>\n",
              "      <td>19</td>\n",
              "      <td>2</td>\n",
              "      <td>...</td>\n",
              "      <td>1</td>\n",
              "      <td>0.349</td>\n",
              "      <td>0.337</td>\n",
              "      <td>6</td>\n",
              "      <td>180cm/72kg</td>\n",
              "      <td>1992년 08월 11일</td>\n",
              "      <td>내야수(우투좌타)</td>\n",
              "      <td>광주대성초-광주동성중-광주동성고</td>\n",
              "      <td>10000만원</td>\n",
              "      <td>0.686</td>\n",
              "    </tr>\n",
              "    <tr>\n",
              "      <th>3</th>\n",
              "      <td>1</td>\n",
              "      <td>강경학</td>\n",
              "      <td>2015</td>\n",
              "      <td>한화</td>\n",
              "      <td>0.257</td>\n",
              "      <td>120</td>\n",
              "      <td>311</td>\n",
              "      <td>50</td>\n",
              "      <td>80</td>\n",
              "      <td>7</td>\n",
              "      <td>...</td>\n",
              "      <td>3</td>\n",
              "      <td>0.325</td>\n",
              "      <td>0.348</td>\n",
              "      <td>15</td>\n",
              "      <td>180cm/72kg</td>\n",
              "      <td>1992년 08월 11일</td>\n",
              "      <td>내야수(우투좌타)</td>\n",
              "      <td>광주대성초-광주동성중-광주동성고</td>\n",
              "      <td>10000만원</td>\n",
              "      <td>0.673</td>\n",
              "    </tr>\n",
              "    <tr>\n",
              "      <th>4</th>\n",
              "      <td>1</td>\n",
              "      <td>강경학</td>\n",
              "      <td>2016</td>\n",
              "      <td>한화</td>\n",
              "      <td>0.158</td>\n",
              "      <td>46</td>\n",
              "      <td>101</td>\n",
              "      <td>16</td>\n",
              "      <td>16</td>\n",
              "      <td>3</td>\n",
              "      <td>...</td>\n",
              "      <td>5</td>\n",
              "      <td>0.257</td>\n",
              "      <td>0.232</td>\n",
              "      <td>7</td>\n",
              "      <td>180cm/72kg</td>\n",
              "      <td>1992년 08월 11일</td>\n",
              "      <td>내야수(우투좌타)</td>\n",
              "      <td>광주대성초-광주동성중-광주동성고</td>\n",
              "      <td>10000만원</td>\n",
              "      <td>0.489</td>\n",
              "    </tr>\n",
              "  </tbody>\n",
              "</table>\n",
              "<p>5 rows × 29 columns</p>\n",
              "</div>\n",
              "      <button class=\"colab-df-convert\" onclick=\"convertToInteractive('df-4c3674cc-8cae-4534-a8a8-ffe3acc56b88')\"\n",
              "              title=\"Convert this dataframe to an interactive table.\"\n",
              "              style=\"display:none;\">\n",
              "        \n",
              "  <svg xmlns=\"http://www.w3.org/2000/svg\" height=\"24px\"viewBox=\"0 0 24 24\"\n",
              "       width=\"24px\">\n",
              "    <path d=\"M0 0h24v24H0V0z\" fill=\"none\"/>\n",
              "    <path d=\"M18.56 5.44l.94 2.06.94-2.06 2.06-.94-2.06-.94-.94-2.06-.94 2.06-2.06.94zm-11 1L8.5 8.5l.94-2.06 2.06-.94-2.06-.94L8.5 2.5l-.94 2.06-2.06.94zm10 10l.94 2.06.94-2.06 2.06-.94-2.06-.94-.94-2.06-.94 2.06-2.06.94z\"/><path d=\"M17.41 7.96l-1.37-1.37c-.4-.4-.92-.59-1.43-.59-.52 0-1.04.2-1.43.59L10.3 9.45l-7.72 7.72c-.78.78-.78 2.05 0 2.83L4 21.41c.39.39.9.59 1.41.59.51 0 1.02-.2 1.41-.59l7.78-7.78 2.81-2.81c.8-.78.8-2.07 0-2.86zM5.41 20L4 18.59l7.72-7.72 1.47 1.35L5.41 20z\"/>\n",
              "  </svg>\n",
              "      </button>\n",
              "      \n",
              "  <style>\n",
              "    .colab-df-container {\n",
              "      display:flex;\n",
              "      flex-wrap:wrap;\n",
              "      gap: 12px;\n",
              "    }\n",
              "\n",
              "    .colab-df-convert {\n",
              "      background-color: #E8F0FE;\n",
              "      border: none;\n",
              "      border-radius: 50%;\n",
              "      cursor: pointer;\n",
              "      display: none;\n",
              "      fill: #1967D2;\n",
              "      height: 32px;\n",
              "      padding: 0 0 0 0;\n",
              "      width: 32px;\n",
              "    }\n",
              "\n",
              "    .colab-df-convert:hover {\n",
              "      background-color: #E2EBFA;\n",
              "      box-shadow: 0px 1px 2px rgba(60, 64, 67, 0.3), 0px 1px 3px 1px rgba(60, 64, 67, 0.15);\n",
              "      fill: #174EA6;\n",
              "    }\n",
              "\n",
              "    [theme=dark] .colab-df-convert {\n",
              "      background-color: #3B4455;\n",
              "      fill: #D2E3FC;\n",
              "    }\n",
              "\n",
              "    [theme=dark] .colab-df-convert:hover {\n",
              "      background-color: #434B5C;\n",
              "      box-shadow: 0px 1px 3px 1px rgba(0, 0, 0, 0.15);\n",
              "      filter: drop-shadow(0px 1px 2px rgba(0, 0, 0, 0.3));\n",
              "      fill: #FFFFFF;\n",
              "    }\n",
              "  </style>\n",
              "\n",
              "      <script>\n",
              "        const buttonEl =\n",
              "          document.querySelector('#df-4c3674cc-8cae-4534-a8a8-ffe3acc56b88 button.colab-df-convert');\n",
              "        buttonEl.style.display =\n",
              "          google.colab.kernel.accessAllowed ? 'block' : 'none';\n",
              "\n",
              "        async function convertToInteractive(key) {\n",
              "          const element = document.querySelector('#df-4c3674cc-8cae-4534-a8a8-ffe3acc56b88');\n",
              "          const dataTable =\n",
              "            await google.colab.kernel.invokeFunction('convertToInteractive',\n",
              "                                                     [key], {});\n",
              "          if (!dataTable) return;\n",
              "\n",
              "          const docLinkHtml = 'Like what you see? Visit the ' +\n",
              "            '<a target=\"_blank\" href=https://colab.research.google.com/notebooks/data_table.ipynb>data table notebook</a>'\n",
              "            + ' to learn more about interactive tables.';\n",
              "          element.innerHTML = '';\n",
              "          dataTable['output_type'] = 'display_data';\n",
              "          await google.colab.output.renderOutput(dataTable, element);\n",
              "          const docLink = document.createElement('div');\n",
              "          docLink.innerHTML = docLinkHtml;\n",
              "          element.appendChild(docLink);\n",
              "        }\n",
              "      </script>\n",
              "    </div>\n",
              "  </div>\n",
              "  "
            ]
          },
          "metadata": {},
          "execution_count": 4
        }
      ]
    },
    {
      "cell_type": "code",
      "source": [
        "daybyday.head()"
      ],
      "metadata": {
        "colab": {
          "base_uri": "https://localhost:8080/",
          "height": 206
        },
        "id": "Fel8aMC8pSK6",
        "outputId": "18c7cd0c-974b-45f5-8e89-abf7ad8763db"
      },
      "execution_count": 5,
      "outputs": [
        {
          "output_type": "execute_result",
          "data": {
            "text/plain": [
              "   batter_id batter_name  date opposing_team   avg1  AB  R  H  2B  3B  HR  \\\n",
              "0          0        가르시아  3.24            NC  0.333   3  1  1   0   0   0   \n",
              "1          0        가르시아  3.25            NC  0.000   4  0  0   0   0   0   \n",
              "2          0        가르시아  3.27            넥센  0.200   5  0  1   0   0   0   \n",
              "3          0        가르시아  3.28            넥센  0.200   5  1  1   0   0   0   \n",
              "4          0        가르시아  3.29            넥센  0.250   4  0  1   0   0   0   \n",
              "\n",
              "   RBI  SB  CS  BB  HBP  SO  GDP   avg2  year  \n",
              "0    0   0   0   1    0   1    0  0.333  2018  \n",
              "1    0   0   0   0    0   1    0  0.143  2018  \n",
              "2    0   0   0   0    0   0    0  0.167  2018  \n",
              "3    1   0   0   0    0   0    0  0.176  2018  \n",
              "4    3   0   0   0    0   0    1  0.190  2018  "
            ],
            "text/html": [
              "\n",
              "  <div id=\"df-7b1b1536-a999-4094-a209-3fcfad6d18d6\">\n",
              "    <div class=\"colab-df-container\">\n",
              "      <div>\n",
              "<style scoped>\n",
              "    .dataframe tbody tr th:only-of-type {\n",
              "        vertical-align: middle;\n",
              "    }\n",
              "\n",
              "    .dataframe tbody tr th {\n",
              "        vertical-align: top;\n",
              "    }\n",
              "\n",
              "    .dataframe thead th {\n",
              "        text-align: right;\n",
              "    }\n",
              "</style>\n",
              "<table border=\"1\" class=\"dataframe\">\n",
              "  <thead>\n",
              "    <tr style=\"text-align: right;\">\n",
              "      <th></th>\n",
              "      <th>batter_id</th>\n",
              "      <th>batter_name</th>\n",
              "      <th>date</th>\n",
              "      <th>opposing_team</th>\n",
              "      <th>avg1</th>\n",
              "      <th>AB</th>\n",
              "      <th>R</th>\n",
              "      <th>H</th>\n",
              "      <th>2B</th>\n",
              "      <th>3B</th>\n",
              "      <th>HR</th>\n",
              "      <th>RBI</th>\n",
              "      <th>SB</th>\n",
              "      <th>CS</th>\n",
              "      <th>BB</th>\n",
              "      <th>HBP</th>\n",
              "      <th>SO</th>\n",
              "      <th>GDP</th>\n",
              "      <th>avg2</th>\n",
              "      <th>year</th>\n",
              "    </tr>\n",
              "  </thead>\n",
              "  <tbody>\n",
              "    <tr>\n",
              "      <th>0</th>\n",
              "      <td>0</td>\n",
              "      <td>가르시아</td>\n",
              "      <td>3.24</td>\n",
              "      <td>NC</td>\n",
              "      <td>0.333</td>\n",
              "      <td>3</td>\n",
              "      <td>1</td>\n",
              "      <td>1</td>\n",
              "      <td>0</td>\n",
              "      <td>0</td>\n",
              "      <td>0</td>\n",
              "      <td>0</td>\n",
              "      <td>0</td>\n",
              "      <td>0</td>\n",
              "      <td>1</td>\n",
              "      <td>0</td>\n",
              "      <td>1</td>\n",
              "      <td>0</td>\n",
              "      <td>0.333</td>\n",
              "      <td>2018</td>\n",
              "    </tr>\n",
              "    <tr>\n",
              "      <th>1</th>\n",
              "      <td>0</td>\n",
              "      <td>가르시아</td>\n",
              "      <td>3.25</td>\n",
              "      <td>NC</td>\n",
              "      <td>0.000</td>\n",
              "      <td>4</td>\n",
              "      <td>0</td>\n",
              "      <td>0</td>\n",
              "      <td>0</td>\n",
              "      <td>0</td>\n",
              "      <td>0</td>\n",
              "      <td>0</td>\n",
              "      <td>0</td>\n",
              "      <td>0</td>\n",
              "      <td>0</td>\n",
              "      <td>0</td>\n",
              "      <td>1</td>\n",
              "      <td>0</td>\n",
              "      <td>0.143</td>\n",
              "      <td>2018</td>\n",
              "    </tr>\n",
              "    <tr>\n",
              "      <th>2</th>\n",
              "      <td>0</td>\n",
              "      <td>가르시아</td>\n",
              "      <td>3.27</td>\n",
              "      <td>넥센</td>\n",
              "      <td>0.200</td>\n",
              "      <td>5</td>\n",
              "      <td>0</td>\n",
              "      <td>1</td>\n",
              "      <td>0</td>\n",
              "      <td>0</td>\n",
              "      <td>0</td>\n",
              "      <td>0</td>\n",
              "      <td>0</td>\n",
              "      <td>0</td>\n",
              "      <td>0</td>\n",
              "      <td>0</td>\n",
              "      <td>0</td>\n",
              "      <td>0</td>\n",
              "      <td>0.167</td>\n",
              "      <td>2018</td>\n",
              "    </tr>\n",
              "    <tr>\n",
              "      <th>3</th>\n",
              "      <td>0</td>\n",
              "      <td>가르시아</td>\n",
              "      <td>3.28</td>\n",
              "      <td>넥센</td>\n",
              "      <td>0.200</td>\n",
              "      <td>5</td>\n",
              "      <td>1</td>\n",
              "      <td>1</td>\n",
              "      <td>0</td>\n",
              "      <td>0</td>\n",
              "      <td>0</td>\n",
              "      <td>1</td>\n",
              "      <td>0</td>\n",
              "      <td>0</td>\n",
              "      <td>0</td>\n",
              "      <td>0</td>\n",
              "      <td>0</td>\n",
              "      <td>0</td>\n",
              "      <td>0.176</td>\n",
              "      <td>2018</td>\n",
              "    </tr>\n",
              "    <tr>\n",
              "      <th>4</th>\n",
              "      <td>0</td>\n",
              "      <td>가르시아</td>\n",
              "      <td>3.29</td>\n",
              "      <td>넥센</td>\n",
              "      <td>0.250</td>\n",
              "      <td>4</td>\n",
              "      <td>0</td>\n",
              "      <td>1</td>\n",
              "      <td>0</td>\n",
              "      <td>0</td>\n",
              "      <td>0</td>\n",
              "      <td>3</td>\n",
              "      <td>0</td>\n",
              "      <td>0</td>\n",
              "      <td>0</td>\n",
              "      <td>0</td>\n",
              "      <td>0</td>\n",
              "      <td>1</td>\n",
              "      <td>0.190</td>\n",
              "      <td>2018</td>\n",
              "    </tr>\n",
              "  </tbody>\n",
              "</table>\n",
              "</div>\n",
              "      <button class=\"colab-df-convert\" onclick=\"convertToInteractive('df-7b1b1536-a999-4094-a209-3fcfad6d18d6')\"\n",
              "              title=\"Convert this dataframe to an interactive table.\"\n",
              "              style=\"display:none;\">\n",
              "        \n",
              "  <svg xmlns=\"http://www.w3.org/2000/svg\" height=\"24px\"viewBox=\"0 0 24 24\"\n",
              "       width=\"24px\">\n",
              "    <path d=\"M0 0h24v24H0V0z\" fill=\"none\"/>\n",
              "    <path d=\"M18.56 5.44l.94 2.06.94-2.06 2.06-.94-2.06-.94-.94-2.06-.94 2.06-2.06.94zm-11 1L8.5 8.5l.94-2.06 2.06-.94-2.06-.94L8.5 2.5l-.94 2.06-2.06.94zm10 10l.94 2.06.94-2.06 2.06-.94-2.06-.94-.94-2.06-.94 2.06-2.06.94z\"/><path d=\"M17.41 7.96l-1.37-1.37c-.4-.4-.92-.59-1.43-.59-.52 0-1.04.2-1.43.59L10.3 9.45l-7.72 7.72c-.78.78-.78 2.05 0 2.83L4 21.41c.39.39.9.59 1.41.59.51 0 1.02-.2 1.41-.59l7.78-7.78 2.81-2.81c.8-.78.8-2.07 0-2.86zM5.41 20L4 18.59l7.72-7.72 1.47 1.35L5.41 20z\"/>\n",
              "  </svg>\n",
              "      </button>\n",
              "      \n",
              "  <style>\n",
              "    .colab-df-container {\n",
              "      display:flex;\n",
              "      flex-wrap:wrap;\n",
              "      gap: 12px;\n",
              "    }\n",
              "\n",
              "    .colab-df-convert {\n",
              "      background-color: #E8F0FE;\n",
              "      border: none;\n",
              "      border-radius: 50%;\n",
              "      cursor: pointer;\n",
              "      display: none;\n",
              "      fill: #1967D2;\n",
              "      height: 32px;\n",
              "      padding: 0 0 0 0;\n",
              "      width: 32px;\n",
              "    }\n",
              "\n",
              "    .colab-df-convert:hover {\n",
              "      background-color: #E2EBFA;\n",
              "      box-shadow: 0px 1px 2px rgba(60, 64, 67, 0.3), 0px 1px 3px 1px rgba(60, 64, 67, 0.15);\n",
              "      fill: #174EA6;\n",
              "    }\n",
              "\n",
              "    [theme=dark] .colab-df-convert {\n",
              "      background-color: #3B4455;\n",
              "      fill: #D2E3FC;\n",
              "    }\n",
              "\n",
              "    [theme=dark] .colab-df-convert:hover {\n",
              "      background-color: #434B5C;\n",
              "      box-shadow: 0px 1px 3px 1px rgba(0, 0, 0, 0.15);\n",
              "      filter: drop-shadow(0px 1px 2px rgba(0, 0, 0, 0.3));\n",
              "      fill: #FFFFFF;\n",
              "    }\n",
              "  </style>\n",
              "\n",
              "      <script>\n",
              "        const buttonEl =\n",
              "          document.querySelector('#df-7b1b1536-a999-4094-a209-3fcfad6d18d6 button.colab-df-convert');\n",
              "        buttonEl.style.display =\n",
              "          google.colab.kernel.accessAllowed ? 'block' : 'none';\n",
              "\n",
              "        async function convertToInteractive(key) {\n",
              "          const element = document.querySelector('#df-7b1b1536-a999-4094-a209-3fcfad6d18d6');\n",
              "          const dataTable =\n",
              "            await google.colab.kernel.invokeFunction('convertToInteractive',\n",
              "                                                     [key], {});\n",
              "          if (!dataTable) return;\n",
              "\n",
              "          const docLinkHtml = 'Like what you see? Visit the ' +\n",
              "            '<a target=\"_blank\" href=https://colab.research.google.com/notebooks/data_table.ipynb>data table notebook</a>'\n",
              "            + ' to learn more about interactive tables.';\n",
              "          element.innerHTML = '';\n",
              "          dataTable['output_type'] = 'display_data';\n",
              "          await google.colab.output.renderOutput(dataTable, element);\n",
              "          const docLink = document.createElement('div');\n",
              "          docLink.innerHTML = docLinkHtml;\n",
              "          element.appendChild(docLink);\n",
              "        }\n",
              "      </script>\n",
              "    </div>\n",
              "  </div>\n",
              "  "
            ]
          },
          "metadata": {},
          "execution_count": 5
        }
      ]
    },
    {
      "cell_type": "code",
      "source": [
        "preseason.head()"
      ],
      "metadata": {
        "colab": {
          "base_uri": "https://localhost:8080/",
          "height": 236
        },
        "id": "vchgH7bepyli",
        "outputId": "37800001-0553-4c83-a5cf-430e19ea09e6"
      },
      "execution_count": 6,
      "outputs": [
        {
          "output_type": "execute_result",
          "data": {
            "text/plain": [
              "   batter_id batter_name  year team    avg   G  AB  R  H  2B  ...  GDP    SLG  \\\n",
              "0          0        가르시아  2018   LG  0.350   7  20  1  7   1  ...    1  0.550   \n",
              "1          1         강경학  2011   한화  0.000   4   2  2  0   0  ...    0  0.000   \n",
              "2          1         강경학  2014   한화      -   4   0  2  0   0  ...    0    NaN   \n",
              "3          1         강경학  2015   한화  0.130  10  23  3  3   0  ...    0  0.130   \n",
              "4          1         강경학  2016   한화  0.188  14  32  4  6   1  ...    0  0.281   \n",
              "\n",
              "     OBP  E  height/weight      year_born   position  \\\n",
              "0  0.409  1     177cm/93kg  1985년 04월 12일  내야수(우투우타)   \n",
              "1  0.500  0     180cm/72kg  1992년 08월 11일  내야수(우투좌타)   \n",
              "2    NaN  0     180cm/72kg  1992년 08월 11일  내야수(우투좌타)   \n",
              "3  0.286  2     180cm/72kg  1992년 08월 11일  내야수(우투좌타)   \n",
              "4  0.212  0     180cm/72kg  1992년 08월 11일  내야수(우투좌타)   \n",
              "\n",
              "                                   career  starting_salary    OPS  \n",
              "0  쿠바 Ciego de Avila Maximo Gomez Baez(대)              NaN  0.959  \n",
              "1                       광주대성초-광주동성중-광주동성고          10000만원  0.500  \n",
              "2                       광주대성초-광주동성중-광주동성고          10000만원    NaN  \n",
              "3                       광주대성초-광주동성중-광주동성고          10000만원  0.416  \n",
              "4                       광주대성초-광주동성중-광주동성고          10000만원  0.493  \n",
              "\n",
              "[5 rows x 29 columns]"
            ],
            "text/html": [
              "\n",
              "  <div id=\"df-1139ab1a-d914-434d-9d3a-30bc71044ce4\">\n",
              "    <div class=\"colab-df-container\">\n",
              "      <div>\n",
              "<style scoped>\n",
              "    .dataframe tbody tr th:only-of-type {\n",
              "        vertical-align: middle;\n",
              "    }\n",
              "\n",
              "    .dataframe tbody tr th {\n",
              "        vertical-align: top;\n",
              "    }\n",
              "\n",
              "    .dataframe thead th {\n",
              "        text-align: right;\n",
              "    }\n",
              "</style>\n",
              "<table border=\"1\" class=\"dataframe\">\n",
              "  <thead>\n",
              "    <tr style=\"text-align: right;\">\n",
              "      <th></th>\n",
              "      <th>batter_id</th>\n",
              "      <th>batter_name</th>\n",
              "      <th>year</th>\n",
              "      <th>team</th>\n",
              "      <th>avg</th>\n",
              "      <th>G</th>\n",
              "      <th>AB</th>\n",
              "      <th>R</th>\n",
              "      <th>H</th>\n",
              "      <th>2B</th>\n",
              "      <th>...</th>\n",
              "      <th>GDP</th>\n",
              "      <th>SLG</th>\n",
              "      <th>OBP</th>\n",
              "      <th>E</th>\n",
              "      <th>height/weight</th>\n",
              "      <th>year_born</th>\n",
              "      <th>position</th>\n",
              "      <th>career</th>\n",
              "      <th>starting_salary</th>\n",
              "      <th>OPS</th>\n",
              "    </tr>\n",
              "  </thead>\n",
              "  <tbody>\n",
              "    <tr>\n",
              "      <th>0</th>\n",
              "      <td>0</td>\n",
              "      <td>가르시아</td>\n",
              "      <td>2018</td>\n",
              "      <td>LG</td>\n",
              "      <td>0.350</td>\n",
              "      <td>7</td>\n",
              "      <td>20</td>\n",
              "      <td>1</td>\n",
              "      <td>7</td>\n",
              "      <td>1</td>\n",
              "      <td>...</td>\n",
              "      <td>1</td>\n",
              "      <td>0.550</td>\n",
              "      <td>0.409</td>\n",
              "      <td>1</td>\n",
              "      <td>177cm/93kg</td>\n",
              "      <td>1985년 04월 12일</td>\n",
              "      <td>내야수(우투우타)</td>\n",
              "      <td>쿠바 Ciego de Avila Maximo Gomez Baez(대)</td>\n",
              "      <td>NaN</td>\n",
              "      <td>0.959</td>\n",
              "    </tr>\n",
              "    <tr>\n",
              "      <th>1</th>\n",
              "      <td>1</td>\n",
              "      <td>강경학</td>\n",
              "      <td>2011</td>\n",
              "      <td>한화</td>\n",
              "      <td>0.000</td>\n",
              "      <td>4</td>\n",
              "      <td>2</td>\n",
              "      <td>2</td>\n",
              "      <td>0</td>\n",
              "      <td>0</td>\n",
              "      <td>...</td>\n",
              "      <td>0</td>\n",
              "      <td>0.000</td>\n",
              "      <td>0.500</td>\n",
              "      <td>0</td>\n",
              "      <td>180cm/72kg</td>\n",
              "      <td>1992년 08월 11일</td>\n",
              "      <td>내야수(우투좌타)</td>\n",
              "      <td>광주대성초-광주동성중-광주동성고</td>\n",
              "      <td>10000만원</td>\n",
              "      <td>0.500</td>\n",
              "    </tr>\n",
              "    <tr>\n",
              "      <th>2</th>\n",
              "      <td>1</td>\n",
              "      <td>강경학</td>\n",
              "      <td>2014</td>\n",
              "      <td>한화</td>\n",
              "      <td>-</td>\n",
              "      <td>4</td>\n",
              "      <td>0</td>\n",
              "      <td>2</td>\n",
              "      <td>0</td>\n",
              "      <td>0</td>\n",
              "      <td>...</td>\n",
              "      <td>0</td>\n",
              "      <td>NaN</td>\n",
              "      <td>NaN</td>\n",
              "      <td>0</td>\n",
              "      <td>180cm/72kg</td>\n",
              "      <td>1992년 08월 11일</td>\n",
              "      <td>내야수(우투좌타)</td>\n",
              "      <td>광주대성초-광주동성중-광주동성고</td>\n",
              "      <td>10000만원</td>\n",
              "      <td>NaN</td>\n",
              "    </tr>\n",
              "    <tr>\n",
              "      <th>3</th>\n",
              "      <td>1</td>\n",
              "      <td>강경학</td>\n",
              "      <td>2015</td>\n",
              "      <td>한화</td>\n",
              "      <td>0.130</td>\n",
              "      <td>10</td>\n",
              "      <td>23</td>\n",
              "      <td>3</td>\n",
              "      <td>3</td>\n",
              "      <td>0</td>\n",
              "      <td>...</td>\n",
              "      <td>0</td>\n",
              "      <td>0.130</td>\n",
              "      <td>0.286</td>\n",
              "      <td>2</td>\n",
              "      <td>180cm/72kg</td>\n",
              "      <td>1992년 08월 11일</td>\n",
              "      <td>내야수(우투좌타)</td>\n",
              "      <td>광주대성초-광주동성중-광주동성고</td>\n",
              "      <td>10000만원</td>\n",
              "      <td>0.416</td>\n",
              "    </tr>\n",
              "    <tr>\n",
              "      <th>4</th>\n",
              "      <td>1</td>\n",
              "      <td>강경학</td>\n",
              "      <td>2016</td>\n",
              "      <td>한화</td>\n",
              "      <td>0.188</td>\n",
              "      <td>14</td>\n",
              "      <td>32</td>\n",
              "      <td>4</td>\n",
              "      <td>6</td>\n",
              "      <td>1</td>\n",
              "      <td>...</td>\n",
              "      <td>0</td>\n",
              "      <td>0.281</td>\n",
              "      <td>0.212</td>\n",
              "      <td>0</td>\n",
              "      <td>180cm/72kg</td>\n",
              "      <td>1992년 08월 11일</td>\n",
              "      <td>내야수(우투좌타)</td>\n",
              "      <td>광주대성초-광주동성중-광주동성고</td>\n",
              "      <td>10000만원</td>\n",
              "      <td>0.493</td>\n",
              "    </tr>\n",
              "  </tbody>\n",
              "</table>\n",
              "<p>5 rows × 29 columns</p>\n",
              "</div>\n",
              "      <button class=\"colab-df-convert\" onclick=\"convertToInteractive('df-1139ab1a-d914-434d-9d3a-30bc71044ce4')\"\n",
              "              title=\"Convert this dataframe to an interactive table.\"\n",
              "              style=\"display:none;\">\n",
              "        \n",
              "  <svg xmlns=\"http://www.w3.org/2000/svg\" height=\"24px\"viewBox=\"0 0 24 24\"\n",
              "       width=\"24px\">\n",
              "    <path d=\"M0 0h24v24H0V0z\" fill=\"none\"/>\n",
              "    <path d=\"M18.56 5.44l.94 2.06.94-2.06 2.06-.94-2.06-.94-.94-2.06-.94 2.06-2.06.94zm-11 1L8.5 8.5l.94-2.06 2.06-.94-2.06-.94L8.5 2.5l-.94 2.06-2.06.94zm10 10l.94 2.06.94-2.06 2.06-.94-2.06-.94-.94-2.06-.94 2.06-2.06.94z\"/><path d=\"M17.41 7.96l-1.37-1.37c-.4-.4-.92-.59-1.43-.59-.52 0-1.04.2-1.43.59L10.3 9.45l-7.72 7.72c-.78.78-.78 2.05 0 2.83L4 21.41c.39.39.9.59 1.41.59.51 0 1.02-.2 1.41-.59l7.78-7.78 2.81-2.81c.8-.78.8-2.07 0-2.86zM5.41 20L4 18.59l7.72-7.72 1.47 1.35L5.41 20z\"/>\n",
              "  </svg>\n",
              "      </button>\n",
              "      \n",
              "  <style>\n",
              "    .colab-df-container {\n",
              "      display:flex;\n",
              "      flex-wrap:wrap;\n",
              "      gap: 12px;\n",
              "    }\n",
              "\n",
              "    .colab-df-convert {\n",
              "      background-color: #E8F0FE;\n",
              "      border: none;\n",
              "      border-radius: 50%;\n",
              "      cursor: pointer;\n",
              "      display: none;\n",
              "      fill: #1967D2;\n",
              "      height: 32px;\n",
              "      padding: 0 0 0 0;\n",
              "      width: 32px;\n",
              "    }\n",
              "\n",
              "    .colab-df-convert:hover {\n",
              "      background-color: #E2EBFA;\n",
              "      box-shadow: 0px 1px 2px rgba(60, 64, 67, 0.3), 0px 1px 3px 1px rgba(60, 64, 67, 0.15);\n",
              "      fill: #174EA6;\n",
              "    }\n",
              "\n",
              "    [theme=dark] .colab-df-convert {\n",
              "      background-color: #3B4455;\n",
              "      fill: #D2E3FC;\n",
              "    }\n",
              "\n",
              "    [theme=dark] .colab-df-convert:hover {\n",
              "      background-color: #434B5C;\n",
              "      box-shadow: 0px 1px 3px 1px rgba(0, 0, 0, 0.15);\n",
              "      filter: drop-shadow(0px 1px 2px rgba(0, 0, 0, 0.3));\n",
              "      fill: #FFFFFF;\n",
              "    }\n",
              "  </style>\n",
              "\n",
              "      <script>\n",
              "        const buttonEl =\n",
              "          document.querySelector('#df-1139ab1a-d914-434d-9d3a-30bc71044ce4 button.colab-df-convert');\n",
              "        buttonEl.style.display =\n",
              "          google.colab.kernel.accessAllowed ? 'block' : 'none';\n",
              "\n",
              "        async function convertToInteractive(key) {\n",
              "          const element = document.querySelector('#df-1139ab1a-d914-434d-9d3a-30bc71044ce4');\n",
              "          const dataTable =\n",
              "            await google.colab.kernel.invokeFunction('convertToInteractive',\n",
              "                                                     [key], {});\n",
              "          if (!dataTable) return;\n",
              "\n",
              "          const docLinkHtml = 'Like what you see? Visit the ' +\n",
              "            '<a target=\"_blank\" href=https://colab.research.google.com/notebooks/data_table.ipynb>data table notebook</a>'\n",
              "            + ' to learn more about interactive tables.';\n",
              "          element.innerHTML = '';\n",
              "          dataTable['output_type'] = 'display_data';\n",
              "          await google.colab.output.renderOutput(dataTable, element);\n",
              "          const docLink = document.createElement('div');\n",
              "          docLink.innerHTML = docLinkHtml;\n",
              "          element.appendChild(docLink);\n",
              "        }\n",
              "      </script>\n",
              "    </div>\n",
              "  </div>\n",
              "  "
            ]
          },
          "metadata": {},
          "execution_count": 6
        }
      ]
    },
    {
      "cell_type": "markdown",
      "source": [
        "OPS\n",
        "- OPS: 출루율 + 장타율\n",
        "- 출루율: (안타+볼넷+몸에 맞는공) / (타수+볼넷+몸에맞는공+희생플라이)\n",
        "- 장타율: (단타+2X2루타+3X3루타+4X홈런) / 타수\n",
        "- OPS 범위 기준\n",
        "\n",
        "|구분|기준 OPS|\n",
        "|---|---|\n",
        "|A+|1.000|\n",
        "|A|.950|\n",
        "|B|.850|\n",
        "|C|.770|\n",
        "|D|.666|\n",
        "|F|그이하|"
      ],
      "metadata": {
        "id": "xQBFFFt62E0a"
      }
    },
    {
      "cell_type": "markdown",
      "source": [
        "### EDA"
      ],
      "metadata": {
        "id": "grkCA9gkp9Bq"
      }
    },
    {
      "cell_type": "markdown",
      "source": [
        "#### 프리시즌"
      ],
      "metadata": {
        "id": "lRRldGHX0bFw"
      }
    },
    {
      "cell_type": "code",
      "source": [
        "plt.figure(figsize=(15,6))\n",
        "plt.subplot(3,2,1) \n",
        "g= sns.boxplot(x='year', y='OPS', data=preseason, showfliers=False)\n",
        "g.set_title('연도별 OPS 상자그림', size=10)\n",
        "g.set_xticklabels(g.get_xticklabels(), rotation=90)\n",
        "plt.subplot(3,2,2)\n",
        "plt.plot(preseason.groupby('year')['OPS'].mean()) \n",
        "plt.title('연도별 OPS 평균값:', size=10)\n",
        "plt.show()\n",
        "\n",
        "plt.figure(figsize=(15,6))\n",
        "plt.subplot(3,2,3) \n",
        "g = sns.boxplot(x='team', y='OPS', data=preseason, showfliers=False)\n",
        "g.set_title('팀별 OPS 상자그림', size=10)\n",
        "g.set_xticklabels(g.get_xticklabels(), rotation=90)\n",
        "plt.subplot(3,2,4)\n",
        "plt.plot(preseason.groupby('team')['OPS'].mean()) \n",
        "plt.title('팀별 OPS 평균값:', size=10)\n",
        "plt.xticks(rotation=90)\n",
        "plt.show()\n",
        "\n",
        "\n",
        "plt.figure(figsize=(15,6))\n",
        "plt.subplot(3,2,5) \n",
        "g = sns.boxplot(x='position', y='OPS', data=preseason, showfliers=False)\n",
        "g.set_title('포지션별 OPS 상자그림', size=10)\n",
        "g.set_xticklabels(g.get_xticklabels(), rotation=90)\n",
        "plt.subplot(3,2,6)\n",
        "plt.plot(preseason.groupby('position')['OPS'].mean()) \n",
        "plt.title('포지션별 OPS 평균값:', size=10)\n",
        "plt.xticks(rotation=90)\n",
        "plt.show()"
      ],
      "metadata": {
        "colab": {
          "base_uri": "https://localhost:8080/",
          "height": 578
        },
        "id": "y1SYwoEhqXUx",
        "outputId": "efb73d22-6853-4f10-95e0-9b281f3a5282"
      },
      "execution_count": 7,
      "outputs": [
        {
          "output_type": "display_data",
          "data": {
            "text/plain": [
              "<Figure size 1080x432 with 2 Axes>"
            ],
            "image/png": "[encoded data removed]"
          },
          "metadata": {
            "needs_background": "light"
          }
        },
        {
          "output_type": "display_data",
          "data": {
            "text/plain": [
              "<Figure size 1080x432 with 2 Axes>"
            ],
            "image/png": "[encoded data removed]"
          },
          "metadata": {
            "needs_background": "light"
          }
        },
        {
          "output_type": "display_data",
          "data": {
            "text/plain": [
              "<Figure size 1080x432 with 2 Axes>"
            ],
            "image/png": "[encoded data removed]"
          },
          "metadata": {
            "needs_background": "light"
          }
        }
      ]
    },
    {
      "cell_type": "code",
      "source": [
        "preseason['year'].value_counts()"
      ],
      "metadata": {
        "colab": {
          "base_uri": "https://localhost:8080/"
        },
        "id": "yonI3XX7sgQc",
        "outputId": "6ffbc00f-b275-4c7d-f20a-172050000fe8"
      },
      "execution_count": null,
      "outputs": [
        {
          "output_type": "execute_result",
          "data": {
            "text/plain": [
              "2018    182\n",
              "2017    167\n",
              "2016    153\n",
              "2015    134\n",
              "2014    117\n",
              "2013    104\n",
              "2012     87\n",
              "2011     75\n",
              "2010     72\n",
              "2009     66\n",
              "2008     61\n",
              "2007     43\n",
              "2005     37\n",
              "2006     36\n",
              "2004     28\n",
              "2003     19\n",
              "2002     12\n",
              "Name: year, dtype: int64"
            ]
          },
          "metadata": {},
          "execution_count": 57
        }
      ]
    },
    {
      "cell_type": "code",
      "source": [
        "preseason['team'].value_counts()"
      ],
      "metadata": {
        "colab": {
          "base_uri": "https://localhost:8080/"
        },
        "id": "tEDzU3hkt51R",
        "outputId": "a3165e07-2ffc-4b45-cef6-0f6bab99561c"
      },
      "execution_count": null,
      "outputs": [
        {
          "output_type": "execute_result",
          "data": {
            "text/plain": [
              "두산      186\n",
              "LG      174\n",
              "SK      169\n",
              "롯데      166\n",
              "삼성      149\n",
              "KIA     132\n",
              "한화      131\n",
              "넥센      112\n",
              "NC       88\n",
              "KT       57\n",
              "현대       18\n",
              "우리        6\n",
              "히어로즈      5\n",
              "Name: team, dtype: int64"
            ]
          },
          "metadata": {},
          "execution_count": 58
        }
      ]
    },
    {
      "cell_type": "code",
      "source": [
        "preseason['position'].value_counts()"
      ],
      "metadata": {
        "colab": {
          "base_uri": "https://localhost:8080/"
        },
        "id": "sjsnoNuRvISH",
        "outputId": "d57d9861-9039-4089-ccd1-c67ac58d9045"
      },
      "execution_count": null,
      "outputs": [
        {
          "output_type": "execute_result",
          "data": {
            "text/plain": [
              "내야수(우투우타)    548\n",
              "외야수(우투우타)    198\n",
              "외야수(좌투좌타)    169\n",
              "외야수(우투좌타)    162\n",
              "포수(우투우타)     154\n",
              "내야수(우투좌타)    108\n",
              "내야수(좌투좌타)     33\n",
              "포수(우투좌타)      14\n",
              "외야수(우투양타)      6\n",
              "내야수(우투양타)      1\n",
              "Name: position, dtype: int64"
            ]
          },
          "metadata": {},
          "execution_count": 59
        }
      ]
    },
    {
      "cell_type": "code",
      "source": [
        "preseason.columns"
      ],
      "metadata": {
        "colab": {
          "base_uri": "https://localhost:8080/"
        },
        "id": "3gXHM92rvO2K",
        "outputId": "a6c301cb-de52-4239-ae84-489ad7fc4559"
      },
      "execution_count": null,
      "outputs": [
        {
          "output_type": "execute_result",
          "data": {
            "text/plain": [
              "Index(['batter_id', 'batter_name', 'year', 'team', 'avg', 'G', 'AB', 'R', 'H',\n",
              "       '2B', '3B', 'HR', 'TB', 'RBI', 'SB', 'CS', 'BB', 'HBP', 'SO', 'GDP',\n",
              "       'SLG', 'OBP', 'E', 'height/weight', 'year_born', 'position', 'career',\n",
              "       'starting_salary', 'OPS'],\n",
              "      dtype='object')"
            ]
          },
          "metadata": {},
          "execution_count": 53
        }
      ]
    },
    {
      "cell_type": "code",
      "source": [
        "preseason = preseason.rename(columns={\"G\": \"게임출전수\", \"AB\": \"타수\",\"R\":\"득점\",\"H\":\"안타\",\"2B\":\"2루타\",\"3B\":\"3루타\",\"HR\":\"홈런\",\"TB\":\"토탈베이스\",\n",
        "                          \"RBI\":\"타점\",\"SB\":\"도루\",\"CS\":\"도루실패\",\"BB\":\"볼넷\", \"HBP\":\"데드볼\", \"SO\":\"삼진\", \"GDP\":\"병살타\",\"SLG\":\"장타율\",\n",
        "                          \"OBP\":\"출루율\",\"E\":\"실책\", \"OPS\":\"출루율-장타율\"})"
      ],
      "metadata": {
        "id": "lkxQiflkvjAb"
      },
      "execution_count": 8,
      "outputs": []
    },
    {
      "cell_type": "code",
      "source": [
        "preseason.corr()['출루율-장타율'].sort_values(ascending=False)"
      ],
      "metadata": {
        "colab": {
          "base_uri": "https://localhost:8080/"
        },
        "id": "bUXKJss1xzjg",
        "outputId": "509e0f30-46d5-46b7-9c68-640a5ba9f22c"
      },
      "execution_count": 19,
      "outputs": [
        {
          "output_type": "execute_result",
          "data": {
            "text/plain": [
              "출루율-장타율      1.000000\n",
              "장타율          0.961944\n",
              "출루율          0.865307\n",
              "토탈베이스        0.464214\n",
              "안타           0.397155\n",
              "홈런           0.394804\n",
              "타점           0.378170\n",
              "2루타          0.307295\n",
              "득점           0.301075\n",
              "볼넷           0.201346\n",
              "타수           0.148324\n",
              "3루타          0.117101\n",
              "데드볼          0.079176\n",
              "도루           0.063304\n",
              "게임출전수        0.058661\n",
              "year         0.051496\n",
              "도루실패         0.042884\n",
              "병살타          0.042631\n",
              "삼진           0.015086\n",
              "실책           0.014341\n",
              "batter_id   -0.067036\n",
              "Name: 출루율-장타율, dtype: float64"
            ]
          },
          "metadata": {},
          "execution_count": 19
        }
      ]
    },
    {
      "cell_type": "code",
      "source": [
        "correlation=regular[\"OPS\"].corr(preseason[\"출루율-장타율\"])\n",
        "sns.scatterplot(regular[\"OPS\"], preseason[\"출루율-장타율\"])\n",
        "plt.title('correlation(상관계수):'+str(np.round(correlation,2)), fontsize=20)\n",
        "plt.xlabel('정규시즌 OPS:', fontsize=12)\n",
        "plt.ylabel('프리시즌 OPS:', fontsize=12)\n",
        "plt.show()"
      ],
      "metadata": {
        "colab": {
          "base_uri": "https://localhost:8080/",
          "height": 303
        },
        "id": "j3-fHUcX0hZT",
        "outputId": "45bcaa06-2bf0-4966-99f4-eba86be99b19"
      },
      "execution_count": 10,
      "outputs": [
        {
          "output_type": "display_data",
          "data": {
            "text/plain": [
              "<Figure size 432x288 with 1 Axes>"
            ],
            "image/png": "[encoded data removed]"
          },
          "metadata": {
            "needs_background": "light"
          }
        }
      ]
    },
    {
      "cell_type": "markdown",
      "source": [
        "#### 정규시즌"
      ],
      "metadata": {
        "id": "87iAQ18W0dXX"
      }
    },
    {
      "cell_type": "code",
      "source": [
        "plt.figure(figsize=(15,6))\n",
        "plt.subplot(3,2,1) \n",
        "g= sns.boxplot(x='year', y='OPS', data=regular, showfliers=False)\n",
        "g.set_title('연도별 OPS 상자그림', size=10)\n",
        "g.set_xticklabels(g.get_xticklabels(), rotation=90)\n",
        "plt.subplot(3,2,2)\n",
        "plt.plot(regular.groupby('year')['OPS'].mean()) \n",
        "plt.title('연도별 OPS 평균값:', size=10)\n",
        "plt.show()\n",
        "\n",
        "plt.figure(figsize=(15,6))\n",
        "plt.subplot(3,2,3) \n",
        "g = sns.boxplot(x='team', y='OPS', data=regular, showfliers=False)\n",
        "g.set_title('팀별 OPS 상자그림', size=10)\n",
        "g.set_xticklabels(g.get_xticklabels(), rotation=90)\n",
        "plt.subplot(3,2,4)\n",
        "plt.plot(regular.groupby('team')['OPS'].mean()) \n",
        "plt.title('팀별 OPS 평균값:', size=10)\n",
        "plt.xticks(rotation=90)\n",
        "plt.show()\n",
        "\n",
        "\n",
        "plt.figure(figsize=(15,6))\n",
        "plt.subplot(3,2,5) \n",
        "g = sns.boxplot(x='position', y='OPS', data=regular, showfliers=False)\n",
        "g.set_title('포지션별 OPS 상자그림', size=10)\n",
        "g.set_xticklabels(g.get_xticklabels(), rotation=90)\n",
        "plt.subplot(3,2,6)\n",
        "plt.plot(regular.groupby('position')['OPS'].mean()) \n",
        "plt.title('포지션별 OPS 평균값:', size=10)\n",
        "plt.xticks(rotation=90)\n",
        "plt.show()"
      ],
      "metadata": {
        "colab": {
          "base_uri": "https://localhost:8080/",
          "height": 578
        },
        "id": "4Vx5MBruzp4W",
        "outputId": "830eb3b1-00af-405d-b7e9-2fc70142dfeb"
      },
      "execution_count": 11,
      "outputs": [
        {
          "output_type": "display_data",
          "data": {
            "text/plain": [
              "<Figure size 1080x432 with 2 Axes>"
            ],
            "image/png": "[encoded data removed]"
          },
          "metadata": {
            "needs_background": "light"
          }
        },
        {
          "output_type": "display_data",
          "data": {
            "text/plain": [
              "<Figure size 1080x432 with 2 Axes>"
            ],
            "image/png": "[encoded data removed]"
          },
          "metadata": {
            "needs_background": "light"
          }
        },
        {
          "output_type": "display_data",
          "data": {
            "text/plain": [
              "<Figure size 1080x432 with 2 Axes>"
            ],
            "image/png": "[encoded data removed]"
          },
          "metadata": {
            "needs_background": "light"
          }
        }
      ]
    },
    {
      "cell_type": "code",
      "source": [
        "regular['year'].value_counts()"
      ],
      "metadata": {
        "id": "ZRo5wpfd1MoO",
        "colab": {
          "base_uri": "https://localhost:8080/"
        },
        "outputId": "9d842eff-b437-4e8d-cabf-7a30fe0bddad"
      },
      "execution_count": 12,
      "outputs": [
        {
          "output_type": "execute_result",
          "data": {
            "text/plain": [
              "2018    227\n",
              "2017    217\n",
              "2016    213\n",
              "2015    207\n",
              "2013    194\n",
              "2014    186\n",
              "2012    174\n",
              "2011    151\n",
              "2010    130\n",
              "2009    124\n",
              "2008    115\n",
              "2007     98\n",
              "2006     85\n",
              "2005     73\n",
              "2004     68\n",
              "2003     54\n",
              "2002     43\n",
              "2001     32\n",
              "2000     20\n",
              "1999     14\n",
              "1998     10\n",
              "1997      8\n",
              "1996      7\n",
              "1994      2\n",
              "1993      1\n",
              "1995      1\n",
              "Name: year, dtype: int64"
            ]
          },
          "metadata": {},
          "execution_count": 12
        }
      ]
    },
    {
      "cell_type": "code",
      "source": [
        "regular['team'].value_counts()"
      ],
      "metadata": {
        "colab": {
          "base_uri": "https://localhost:8080/"
        },
        "id": "PU6MAVbCAD69",
        "outputId": "c77ba99d-f481-4bdb-ceca-e9834196cef1"
      },
      "execution_count": 13,
      "outputs": [
        {
          "output_type": "execute_result",
          "data": {
            "text/plain": [
              "한화      302\n",
              "롯데      298\n",
              "LG      294\n",
              "두산      282\n",
              "삼성      280\n",
              "SK      254\n",
              "KIA     254\n",
              "넥센      172\n",
              "NC      131\n",
              "KT       85\n",
              "현대       60\n",
              "우리       13\n",
              "히어로즈     13\n",
              "해태       12\n",
              "OB        3\n",
              "쌍방울       1\n",
              "Name: team, dtype: int64"
            ]
          },
          "metadata": {},
          "execution_count": 13
        }
      ]
    },
    {
      "cell_type": "code",
      "source": [
        "regular['position'].value_counts()"
      ],
      "metadata": {
        "colab": {
          "base_uri": "https://localhost:8080/"
        },
        "id": "D2mjai3FA0Wb",
        "outputId": "f16070c1-1e0b-4290-ef6d-ba7da9fc25e1"
      },
      "execution_count": 14,
      "outputs": [
        {
          "output_type": "execute_result",
          "data": {
            "text/plain": [
              "내야수(우투우타)    643\n",
              "외야수(우투우타)    230\n",
              "외야수(좌투좌타)    201\n",
              "포수(우투우타)     189\n",
              "외야수(우투좌타)    184\n",
              "내야수(우투좌타)    141\n",
              "내야수(좌투좌타)     36\n",
              "포수(우투좌타)      14\n",
              "외야수(우투양타)      7\n",
              "내야수(우투양타)      7\n",
              "Name: position, dtype: int64"
            ]
          },
          "metadata": {},
          "execution_count": 14
        }
      ]
    },
    {
      "cell_type": "code",
      "source": [
        "regular = regular.rename(columns={\"G\": \"게임출전수\", \"AB\": \"타수\",\"R\":\"득점\",\"H\":\"안타\",\"2B\":\"2루타\",\"3B\":\"3루타\",\"HR\":\"홈런\",\"TB\":\"토탈베이스\",\n",
        "                          \"RBI\":\"타점\",\"SB\":\"도루\",\"CS\":\"도루실패\",\"BB\":\"볼넷\", \"HBP\":\"데드볼\", \"SO\":\"삼진\", \"GDP\":\"병살타\",\"SLG\":\"장타율\",\n",
        "                          \"OBP\":\"출루율\",\"E\":\"실책\", \"OPS\":\"출루율-장타율\"})"
      ],
      "metadata": {
        "id": "HxUJSrb0BReW"
      },
      "execution_count": 23,
      "outputs": []
    },
    {
      "cell_type": "code",
      "source": [
        "regular.corr()['출루율-장타율'].sort_values(ascending=False)"
      ],
      "metadata": {
        "colab": {
          "base_uri": "https://localhost:8080/"
        },
        "id": "JQt9SAosA5rw",
        "outputId": "d64a11e4-8c22-470b-bcdb-6694fd5b3b25"
      },
      "execution_count": 25,
      "outputs": [
        {
          "output_type": "execute_result",
          "data": {
            "text/plain": [
              "출루율-장타율      1.000000\n",
              "장타율          0.971387\n",
              "출루율          0.935797\n",
              "avg          0.919696\n",
              "토탈베이스        0.589841\n",
              "타점           0.576652\n",
              "안타           0.571506\n",
              "득점           0.558242\n",
              "2루타          0.556933\n",
              "타수           0.546879\n",
              "볼넷           0.546328\n",
              "게임출전수        0.534539\n",
              "홈런           0.525660\n",
              "삼진           0.507726\n",
              "병살타          0.460984\n",
              "데드볼          0.418250\n",
              "도루실패         0.283267\n",
              "실책           0.280126\n",
              "3루타          0.269084\n",
              "도루           0.240282\n",
              "year         0.054094\n",
              "batter_id   -0.039554\n",
              "Name: 출루율-장타율, dtype: float64"
            ]
          },
          "metadata": {},
          "execution_count": 25
        }
      ]
    },
    {
      "cell_type": "code",
      "source": [
        "regular.columns"
      ],
      "metadata": {
        "colab": {
          "base_uri": "https://localhost:8080/"
        },
        "id": "kqyDEi_2GPWs",
        "outputId": "3754cf63-47de-4eb1-818b-2669b9150a97"
      },
      "execution_count": 87,
      "outputs": [
        {
          "output_type": "execute_result",
          "data": {
            "text/plain": [
              "Index(['batter_id', 'batter_name', 'year', 'team', 'avg', 'G', 'AB', 'R', 'H',\n",
              "       '2B', '3B', 'HR', 'TB', 'RBI', 'SB', 'CS', 'BB', 'HBP', 'SO', 'GDP',\n",
              "       'SLG', 'OBP', 'E', 'height/weight', 'year_born', 'position', 'career',\n",
              "       'starting_salary', 'OPS'],\n",
              "      dtype='object')"
            ]
          },
          "metadata": {},
          "execution_count": 87
        }
      ]
    },
    {
      "cell_type": "markdown",
      "source": [
        "https://m.blog.naver.com/PostView.naver?isHttpsRedirect=true&blogId=padosori60&logNo=220716970587"
      ],
      "metadata": {
        "id": "-m5kzfnMGpok"
      }
    },
    {
      "cell_type": "code",
      "source": [
        "regular2 = regular[:]"
      ],
      "metadata": {
        "id": "9pc-iDvTHKwN"
      },
      "execution_count": 99,
      "outputs": []
    },
    {
      "cell_type": "code",
      "source": [
        "regular2.isna().sum()"
      ],
      "metadata": {
        "colab": {
          "base_uri": "https://localhost:8080/"
        },
        "id": "qCKX2HkxI_xb",
        "outputId": "f2e7990d-9053-4362-c480-c9182758336e"
      },
      "execution_count": 100,
      "outputs": [
        {
          "output_type": "execute_result",
          "data": {
            "text/plain": [
              "batter_id             0\n",
              "batter_name           0\n",
              "year                  0\n",
              "team                  0\n",
              "avg                  26\n",
              "G                     0\n",
              "AB                    0\n",
              "R                     0\n",
              "H                     0\n",
              "2B                    0\n",
              "3B                    0\n",
              "HR                    0\n",
              "TB                    0\n",
              "RBI                   0\n",
              "SB                    0\n",
              "CS                    0\n",
              "BB                    0\n",
              "HBP                   0\n",
              "SO                    0\n",
              "GDP                   0\n",
              "SLG                  26\n",
              "OBP                  24\n",
              "E                     0\n",
              "height/weight       802\n",
              "year_born             0\n",
              "position            802\n",
              "career                0\n",
              "starting_salary    1067\n",
              "OPS                  26\n",
              "dtype: int64"
            ]
          },
          "metadata": {},
          "execution_count": 100
        }
      ]
    },
    {
      "cell_type": "code",
      "source": [
        "regular2['f1'] = ((regular['SB']+3) +(regular['SB']+regular['CS']+7)-0.4)*20\n",
        "regular2['f2'] = np.sqrt((regular['SB']+regular['CS']) / (regular['H'] - regular['2B'] - regular['3B'] -regular['HR']) + regular['BB'] + regular['HBP'])/0.07\n",
        "regular2['f3'] = regular['3B'] / (regular['AB'] - regular['HR'] - regular['SO']) / 0.02 * 10\n",
        "regular2['f4'] = ((regular['R']-regular['HR']) / (regular['H'] + regular['BB'] + regular['HR'] - regular['HBP']) - 0.1) / 0.04\n",
        "regular2['f5'] = (0.005-regular['GDP']) / (regular['AB']-regular['HR']-regular['SO']) / 0.005\n",
        "\n",
        "regular2['spd'] = (regular2['f1'] + regular2['f2'] + regular2['f3'] + regular2['f4'] + regular2['f5']) / 5\n",
        "regular2 = regular2.fillna(0)\n",
        "regular2.head(3)"
      ],
      "metadata": {
        "colab": {
          "base_uri": "https://localhost:8080/",
          "height": 173
        },
        "id": "5nYjEJFsGCTU",
        "outputId": "fe24ea2a-d8b7-4687-c92c-5d174ba65a2f"
      },
      "execution_count": 116,
      "outputs": [
        {
          "output_type": "execute_result",
          "data": {
            "text/plain": [
              "   batter_id batter_name  year team    avg   G   AB   R   H  2B  ...  \\\n",
              "0          0        가르시아  2018   LG  0.339  50  183  27  62   9  ...   \n",
              "1          1         강경학  2011   한화  0.000   2    1   0   0   0  ...   \n",
              "2          1         강경학  2014   한화  0.221  41   86  11  19   2  ...   \n",
              "\n",
              "    position                                  career  starting_salary    OPS  \\\n",
              "0  내야수(우투우타)  쿠바 Ciego de Avila Maximo Gomez Baez(대)                0  0.902   \n",
              "1  내야수(우투좌타)                       광주대성초-광주동성중-광주동성고          10000만원  0.000   \n",
              "2  내야수(우투좌타)                       광주대성초-광주동성중-광주동성고          10000만원  0.686   \n",
              "\n",
              "      f1         f2         f3        f4        f5        spd  \n",
              "0  392.0  59.093684   0.000000  4.190141 -3.993333  90.258098  \n",
              "1  192.0   0.000000   0.000000  0.000000       inf   0.000000  \n",
              "2  192.0  55.328334  26.315789  5.564516 -3.491228  55.143482  \n",
              "\n",
              "[3 rows x 35 columns]"
            ],
            "text/html": [
              "\n",
              "  <div id=\"df-a3d3ccf4-af6b-4c71-9d87-a4bfcc1b97a0\">\n",
              "    <div class=\"colab-df-container\">\n",
              "      <div>\n",
              "<style scoped>\n",
              "    .dataframe tbody tr th:only-of-type {\n",
              "        vertical-align: middle;\n",
              "    }\n",
              "\n",
              "    .dataframe tbody tr th {\n",
              "        vertical-align: top;\n",
              "    }\n",
              "\n",
              "    .dataframe thead th {\n",
              "        text-align: right;\n",
              "    }\n",
              "</style>\n",
              "<table border=\"1\" class=\"dataframe\">\n",
              "  <thead>\n",
              "    <tr style=\"text-align: right;\">\n",
              "      <th></th>\n",
              "      <th>batter_id</th>\n",
              "      <th>batter_name</th>\n",
              "      <th>year</th>\n",
              "      <th>team</th>\n",
              "      <th>avg</th>\n",
              "      <th>G</th>\n",
              "      <th>AB</th>\n",
              "      <th>R</th>\n",
              "      <th>H</th>\n",
              "      <th>2B</th>\n",
              "      <th>...</th>\n",
              "      <th>position</th>\n",
              "      <th>career</th>\n",
              "      <th>starting_salary</th>\n",
              "      <th>OPS</th>\n",
              "      <th>f1</th>\n",
              "      <th>f2</th>\n",
              "      <th>f3</th>\n",
              "      <th>f4</th>\n",
              "      <th>f5</th>\n",
              "      <th>spd</th>\n",
              "    </tr>\n",
              "  </thead>\n",
              "  <tbody>\n",
              "    <tr>\n",
              "      <th>0</th>\n",
              "      <td>0</td>\n",
              "      <td>가르시아</td>\n",
              "      <td>2018</td>\n",
              "      <td>LG</td>\n",
              "      <td>0.339</td>\n",
              "      <td>50</td>\n",
              "      <td>183</td>\n",
              "      <td>27</td>\n",
              "      <td>62</td>\n",
              "      <td>9</td>\n",
              "      <td>...</td>\n",
              "      <td>내야수(우투우타)</td>\n",
              "      <td>쿠바 Ciego de Avila Maximo Gomez Baez(대)</td>\n",
              "      <td>0</td>\n",
              "      <td>0.902</td>\n",
              "      <td>392.0</td>\n",
              "      <td>59.093684</td>\n",
              "      <td>0.000000</td>\n",
              "      <td>4.190141</td>\n",
              "      <td>-3.993333</td>\n",
              "      <td>90.258098</td>\n",
              "    </tr>\n",
              "    <tr>\n",
              "      <th>1</th>\n",
              "      <td>1</td>\n",
              "      <td>강경학</td>\n",
              "      <td>2011</td>\n",
              "      <td>한화</td>\n",
              "      <td>0.000</td>\n",
              "      <td>2</td>\n",
              "      <td>1</td>\n",
              "      <td>0</td>\n",
              "      <td>0</td>\n",
              "      <td>0</td>\n",
              "      <td>...</td>\n",
              "      <td>내야수(우투좌타)</td>\n",
              "      <td>광주대성초-광주동성중-광주동성고</td>\n",
              "      <td>10000만원</td>\n",
              "      <td>0.000</td>\n",
              "      <td>192.0</td>\n",
              "      <td>0.000000</td>\n",
              "      <td>0.000000</td>\n",
              "      <td>0.000000</td>\n",
              "      <td>inf</td>\n",
              "      <td>0.000000</td>\n",
              "    </tr>\n",
              "    <tr>\n",
              "      <th>2</th>\n",
              "      <td>1</td>\n",
              "      <td>강경학</td>\n",
              "      <td>2014</td>\n",
              "      <td>한화</td>\n",
              "      <td>0.221</td>\n",
              "      <td>41</td>\n",
              "      <td>86</td>\n",
              "      <td>11</td>\n",
              "      <td>19</td>\n",
              "      <td>2</td>\n",
              "      <td>...</td>\n",
              "      <td>내야수(우투좌타)</td>\n",
              "      <td>광주대성초-광주동성중-광주동성고</td>\n",
              "      <td>10000만원</td>\n",
              "      <td>0.686</td>\n",
              "      <td>192.0</td>\n",
              "      <td>55.328334</td>\n",
              "      <td>26.315789</td>\n",
              "      <td>5.564516</td>\n",
              "      <td>-3.491228</td>\n",
              "      <td>55.143482</td>\n",
              "    </tr>\n",
              "  </tbody>\n",
              "</table>\n",
              "<p>3 rows × 35 columns</p>\n",
              "</div>\n",
              "      <button class=\"colab-df-convert\" onclick=\"convertToInteractive('df-a3d3ccf4-af6b-4c71-9d87-a4bfcc1b97a0')\"\n",
              "              title=\"Convert this dataframe to an interactive table.\"\n",
              "              style=\"display:none;\">\n",
              "        \n",
              "  <svg xmlns=\"http://www.w3.org/2000/svg\" height=\"24px\"viewBox=\"0 0 24 24\"\n",
              "       width=\"24px\">\n",
              "    <path d=\"M0 0h24v24H0V0z\" fill=\"none\"/>\n",
              "    <path d=\"M18.56 5.44l.94 2.06.94-2.06 2.06-.94-2.06-.94-.94-2.06-.94 2.06-2.06.94zm-11 1L8.5 8.5l.94-2.06 2.06-.94-2.06-.94L8.5 2.5l-.94 2.06-2.06.94zm10 10l.94 2.06.94-2.06 2.06-.94-2.06-.94-.94-2.06-.94 2.06-2.06.94z\"/><path d=\"M17.41 7.96l-1.37-1.37c-.4-.4-.92-.59-1.43-.59-.52 0-1.04.2-1.43.59L10.3 9.45l-7.72 7.72c-.78.78-.78 2.05 0 2.83L4 21.41c.39.39.9.59 1.41.59.51 0 1.02-.2 1.41-.59l7.78-7.78 2.81-2.81c.8-.78.8-2.07 0-2.86zM5.41 20L4 18.59l7.72-7.72 1.47 1.35L5.41 20z\"/>\n",
              "  </svg>\n",
              "      </button>\n",
              "      \n",
              "  <style>\n",
              "    .colab-df-container {\n",
              "      display:flex;\n",
              "      flex-wrap:wrap;\n",
              "      gap: 12px;\n",
              "    }\n",
              "\n",
              "    .colab-df-convert {\n",
              "      background-color: #E8F0FE;\n",
              "      border: none;\n",
              "      border-radius: 50%;\n",
              "      cursor: pointer;\n",
              "      display: none;\n",
              "      fill: #1967D2;\n",
              "      height: 32px;\n",
              "      padding: 0 0 0 0;\n",
              "      width: 32px;\n",
              "    }\n",
              "\n",
              "    .colab-df-convert:hover {\n",
              "      background-color: #E2EBFA;\n",
              "      box-shadow: 0px 1px 2px rgba(60, 64, 67, 0.3), 0px 1px 3px 1px rgba(60, 64, 67, 0.15);\n",
              "      fill: #174EA6;\n",
              "    }\n",
              "\n",
              "    [theme=dark] .colab-df-convert {\n",
              "      background-color: #3B4455;\n",
              "      fill: #D2E3FC;\n",
              "    }\n",
              "\n",
              "    [theme=dark] .colab-df-convert:hover {\n",
              "      background-color: #434B5C;\n",
              "      box-shadow: 0px 1px 3px 1px rgba(0, 0, 0, 0.15);\n",
              "      filter: drop-shadow(0px 1px 2px rgba(0, 0, 0, 0.3));\n",
              "      fill: #FFFFFF;\n",
              "    }\n",
              "  </style>\n",
              "\n",
              "      <script>\n",
              "        const buttonEl =\n",
              "          document.querySelector('#df-a3d3ccf4-af6b-4c71-9d87-a4bfcc1b97a0 button.colab-df-convert');\n",
              "        buttonEl.style.display =\n",
              "          google.colab.kernel.accessAllowed ? 'block' : 'none';\n",
              "\n",
              "        async function convertToInteractive(key) {\n",
              "          const element = document.querySelector('#df-a3d3ccf4-af6b-4c71-9d87-a4bfcc1b97a0');\n",
              "          const dataTable =\n",
              "            await google.colab.kernel.invokeFunction('convertToInteractive',\n",
              "                                                     [key], {});\n",
              "          if (!dataTable) return;\n",
              "\n",
              "          const docLinkHtml = 'Like what you see? Visit the ' +\n",
              "            '<a target=\"_blank\" href=https://colab.research.google.com/notebooks/data_table.ipynb>data table notebook</a>'\n",
              "            + ' to learn more about interactive tables.';\n",
              "          element.innerHTML = '';\n",
              "          dataTable['output_type'] = 'display_data';\n",
              "          await google.colab.output.renderOutput(dataTable, element);\n",
              "          const docLink = document.createElement('div');\n",
              "          docLink.innerHTML = docLinkHtml;\n",
              "          element.appendChild(docLink);\n",
              "        }\n",
              "      </script>\n",
              "    </div>\n",
              "  </div>\n",
              "  "
            ]
          },
          "metadata": {},
          "execution_count": 116
        }
      ]
    },
    {
      "cell_type": "code",
      "source": [
        "plt.plot(regular2['spd']/1000)"
      ],
      "metadata": {
        "colab": {
          "base_uri": "https://localhost:8080/",
          "height": 283
        },
        "id": "QmOJ_41zL9UJ",
        "outputId": "e1652bc8-5a03-4b43-8493-ccd268e69467"
      },
      "execution_count": 140,
      "outputs": [
        {
          "output_type": "execute_result",
          "data": {
            "text/plain": [
              "[<matplotlib.lines.Line2D at 0x7f95de7ca040>]"
            ]
          },
          "metadata": {},
          "execution_count": 140
        },
        {
          "output_type": "display_data",
          "data": {
            "text/plain": [
              "<Figure size 432x288 with 1 Axes>"
            ],
            "image/png": "[encoded data removed]"
          },
          "metadata": {
            "needs_background": "light"
          }
        }
      ]
    },
    {
      "cell_type": "code",
      "source": [
        "plt.plot(regular2.groupby('batter_id').mean()[['spd','OPS']])"
      ],
      "metadata": {
        "colab": {
          "base_uri": "https://localhost:8080/",
          "height": 303
        },
        "id": "TwiXmCZnKEFn",
        "outputId": "8763fdad-3c3f-4f76-acf8-2cd8bff6961c"
      },
      "execution_count": 119,
      "outputs": [
        {
          "output_type": "execute_result",
          "data": {
            "text/plain": [
              "[<matplotlib.lines.Line2D at 0x7f95de6c35e0>,\n",
              " <matplotlib.lines.Line2D at 0x7f95de6c3af0>]"
            ]
          },
          "metadata": {},
          "execution_count": 119
        },
        {
          "output_type": "display_data",
          "data": {
            "text/plain": [
              "<Figure size 432x288 with 1 Axes>"
            ],
            "image/png": "[encoded data removed]"
          },
          "metadata": {
            "needs_background": "light"
          }
        }
      ]
    },
    {
      "cell_type": "markdown",
      "source": [
        "### 정규시즌과 프리시즌 차이"
      ],
      "metadata": {
        "id": "twceqsceBbBh"
      }
    },
    {
      "cell_type": "code",
      "source": [
        "regular_ops = regular.groupby('year')['출루율-장타율'].mean()\n",
        "preseason_ops = preseason.groupby('year')['출루율-장타율'].mean()\n",
        "ops_df = pd.concat([regular_ops, preseason_ops],axis=1)[9:]\n",
        "\n",
        "plt.plot(ops_df)\n",
        "plt.title('정규시즌과 프리시즌 OPS 차이')\n",
        "plt.xlabel('year')\n",
        "plt.ylabel('ops')\n",
        "plt.legend(['regular', 'preseason'], loc=4)\n",
        "plt.show()"
      ],
      "metadata": {
        "colab": {
          "base_uri": "https://localhost:8080/",
          "height": 294
        },
        "id": "j7WgqGI5BK7x",
        "outputId": "e93636f1-8ab7-4a2c-e02b-5b54c3e543d8"
      },
      "execution_count": 60,
      "outputs": [
        {
          "output_type": "display_data",
          "data": {
            "text/plain": [
              "<Figure size 432x288 with 1 Axes>"
            ],
            "image/png": "[encoded data removed]"
          },
          "metadata": {
            "needs_background": "light"
          }
        }
      ]
    },
    {
      "cell_type": "code",
      "source": [
        "regular_cnt = regular.groupby('year')['batter_name'].count()\n",
        "preseason_cnt = preseason.groupby('year')['batter_name'].count()\n",
        "ops_cnt = pd.concat([regular_cnt, preseason_cnt],axis=1)[9:]\n",
        "\n",
        "ops_cnt\n",
        "plt.plot(ops_cnt)\n",
        "plt.title('정규시즌과 프리시즌 선수의 수 차이')\n",
        "plt.xlabel('year')\n",
        "plt.ylabel('ops')\n",
        "plt.legend(['regular', 'preseason'], loc=4)\n",
        "plt.show()"
      ],
      "metadata": {
        "colab": {
          "base_uri": "https://localhost:8080/",
          "height": 294
        },
        "id": "WM2G6fS1Cze-",
        "outputId": "e25dc5ef-8ac2-47be-d85a-7ed33c596b4c"
      },
      "execution_count": 63,
      "outputs": [
        {
          "output_type": "display_data",
          "data": {
            "text/plain": [
              "<Figure size 432x288 with 1 Axes>"
            ],
            "image/png": "[encoded data removed]"
          },
          "metadata": {
            "needs_background": "light"
          }
        }
      ]
    },
    {
      "cell_type": "code",
      "source": [
        "regular_Tops = regular.groupby('team')['출루율-장타율'].mean()\n",
        "preseason_Tops = preseason.groupby('team')['출루율-장타율'].mean()\n",
        "Tops_df = pd.concat([regular_Tops, preseason_Tops],axis=1).dropna(axis=0)\n",
        "\n",
        "\n",
        "Tops_df\n",
        "plt.plot(Tops_df)\n",
        "plt.title('정규시즌과 프리시즌 OPS 차이')\n",
        "plt.xlabel('team')\n",
        "plt.ylabel('ops')\n",
        "plt.legend(['regular', 'preseason'], loc=4)\n",
        "plt.show()"
      ],
      "metadata": {
        "colab": {
          "base_uri": "https://localhost:8080/",
          "height": 294
        },
        "id": "Xu7z5wVLDuDN",
        "outputId": "b774b751-9c0a-485a-b031-168cb3049c60"
      },
      "execution_count": 80,
      "outputs": [
        {
          "output_type": "display_data",
          "data": {
            "text/plain": [
              "<Figure size 432x288 with 1 Axes>"
            ],
            "image/png": "[encoded data removed]"
          },
          "metadata": {
            "needs_background": "light"
          }
        }
      ]
    },
    {
      "cell_type": "code",
      "source": [
        "print(\"프리\", preseason['team'].unique())\n",
        "print(\"정규\", regular['team'].unique())"
      ],
      "metadata": {
        "colab": {
          "base_uri": "https://localhost:8080/"
        },
        "id": "wxJ7ytpqEb-R",
        "outputId": "3e2103a6-5b57-49fa-c80b-067a46e158ba"
      },
      "execution_count": 68,
      "outputs": [
        {
          "output_type": "stream",
          "name": "stdout",
          "text": [
            "프리 ['LG' '한화' 'NC' '넥센' '롯데' '삼성' 'KT' 'SK' 'KIA' '두산' '히어로즈' '우리' '현대']\n",
            "정규 ['LG' '한화' 'NC' 'OB' '삼성' '롯데' 'KT' '현대' '우리' '히어로즈' '넥센' '두산' 'SK' 'KIA'\n",
            " '해태' '쌍방울']\n"
          ]
        }
      ]
    },
    {
      "cell_type": "markdown",
      "source": [
        "### 일자별"
      ],
      "metadata": {
        "id": "17mGWAiuMT71"
      }
    },
    {
      "cell_type": "code",
      "source": [
        "daybyday"
      ],
      "metadata": {
        "colab": {
          "base_uri": "https://localhost:8080/",
          "height": 424
        },
        "id": "cBW9PQBsFqeg",
        "outputId": "93842017-71b2-4c57-a559-1787bead960f"
      },
      "execution_count": 141,
      "outputs": [
        {
          "output_type": "execute_result",
          "data": {
            "text/plain": [
              "        batter_id batter_name  date opposing_team   avg1  AB  R  H  2B  3B  \\\n",
              "0               0        가르시아  3.24            NC  0.333   3  1  1   0   0   \n",
              "1               0        가르시아  3.25            NC  0.000   4  0  0   0   0   \n",
              "2               0        가르시아  3.27            넥센  0.200   5  0  1   0   0   \n",
              "3               0        가르시아  3.28            넥센  0.200   5  1  1   0   0   \n",
              "4               0        가르시아  3.29            넥센  0.250   4  0  1   0   0   \n",
              "...           ...         ...   ...           ...    ...  .. .. ..  ..  ..   \n",
              "112268        344         황진수  6.23            LG      -   0  0  0   0   0   \n",
              "112269        344         황진수  6.26            넥센  0.000   1  0  0   0   0   \n",
              "112270        344         황진수  6.27            넥센  0.500   2  1  1   1   0   \n",
              "112271        344         황진수  6.28            넥센      -   0  0  0   0   0   \n",
              "112272        344         황진수  6.30            한화  0.000   2  0  0   0   0   \n",
              "\n",
              "        HR  RBI  SB  CS  BB  HBP  SO  GDP   avg2  year  \n",
              "0        0    0   0   0   1    0   1    0  0.333  2018  \n",
              "1        0    0   0   0   0    0   1    0  0.143  2018  \n",
              "2        0    0   0   0   0    0   0    0  0.167  2018  \n",
              "3        0    1   0   0   0    0   0    0  0.176  2018  \n",
              "4        0    3   0   0   0    0   0    1  0.190  2018  \n",
              "...     ..  ...  ..  ..  ..  ...  ..  ...    ...   ...  \n",
              "112268   0    0   0   0   1    0   0    0  0.158  2018  \n",
              "112269   0    0   0   0   0    0   1    0  0.150  2018  \n",
              "112270   0    0   0   0   0    0   1    0  0.182  2018  \n",
              "112271   0    0   0   0   0    0   0    0  0.182  2018  \n",
              "112272   0    0   0   0   0    0   0    0  0.167  2018  \n",
              "\n",
              "[112273 rows x 20 columns]"
            ],
            "text/html": [
              "\n",
              "  <div id=\"df-bbaff707-b118-464e-ac32-7339eb4415b9\">\n",
              "    <div class=\"colab-df-container\">\n",
              "      <div>\n",
              "<style scoped>\n",
              "    .dataframe tbody tr th:only-of-type {\n",
              "        vertical-align: middle;\n",
              "    }\n",
              "\n",
              "    .dataframe tbody tr th {\n",
              "        vertical-align: top;\n",
              "    }\n",
              "\n",
              "    .dataframe thead th {\n",
              "        text-align: right;\n",
              "    }\n",
              "</style>\n",
              "<table border=\"1\" class=\"dataframe\">\n",
              "  <thead>\n",
              "    <tr style=\"text-align: right;\">\n",
              "      <th></th>\n",
              "      <th>batter_id</th>\n",
              "      <th>batter_name</th>\n",
              "      <th>date</th>\n",
              "      <th>opposing_team</th>\n",
              "      <th>avg1</th>\n",
              "      <th>AB</th>\n",
              "      <th>R</th>\n",
              "      <th>H</th>\n",
              "      <th>2B</th>\n",
              "      <th>3B</th>\n",
              "      <th>HR</th>\n",
              "      <th>RBI</th>\n",
              "      <th>SB</th>\n",
              "      <th>CS</th>\n",
              "      <th>BB</th>\n",
              "      <th>HBP</th>\n",
              "      <th>SO</th>\n",
              "      <th>GDP</th>\n",
              "      <th>avg2</th>\n",
              "      <th>year</th>\n",
              "    </tr>\n",
              "  </thead>\n",
              "  <tbody>\n",
              "    <tr>\n",
              "      <th>0</th>\n",
              "      <td>0</td>\n",
              "      <td>가르시아</td>\n",
              "      <td>3.24</td>\n",
              "      <td>NC</td>\n",
              "      <td>0.333</td>\n",
              "      <td>3</td>\n",
              "      <td>1</td>\n",
              "      <td>1</td>\n",
              "      <td>0</td>\n",
              "      <td>0</td>\n",
              "      <td>0</td>\n",
              "      <td>0</td>\n",
              "      <td>0</td>\n",
              "      <td>0</td>\n",
              "      <td>1</td>\n",
              "      <td>0</td>\n",
              "      <td>1</td>\n",
              "      <td>0</td>\n",
              "      <td>0.333</td>\n",
              "      <td>2018</td>\n",
              "    </tr>\n",
              "    <tr>\n",
              "      <th>1</th>\n",
              "      <td>0</td>\n",
              "      <td>가르시아</td>\n",
              "      <td>3.25</td>\n",
              "      <td>NC</td>\n",
              "      <td>0.000</td>\n",
              "      <td>4</td>\n",
              "      <td>0</td>\n",
              "      <td>0</td>\n",
              "      <td>0</td>\n",
              "      <td>0</td>\n",
              "      <td>0</td>\n",
              "      <td>0</td>\n",
              "      <td>0</td>\n",
              "      <td>0</td>\n",
              "      <td>0</td>\n",
              "      <td>0</td>\n",
              "      <td>1</td>\n",
              "      <td>0</td>\n",
              "      <td>0.143</td>\n",
              "      <td>2018</td>\n",
              "    </tr>\n",
              "    <tr>\n",
              "      <th>2</th>\n",
              "      <td>0</td>\n",
              "      <td>가르시아</td>\n",
              "      <td>3.27</td>\n",
              "      <td>넥센</td>\n",
              "      <td>0.200</td>\n",
              "      <td>5</td>\n",
              "      <td>0</td>\n",
              "      <td>1</td>\n",
              "      <td>0</td>\n",
              "      <td>0</td>\n",
              "      <td>0</td>\n",
              "      <td>0</td>\n",
              "      <td>0</td>\n",
              "      <td>0</td>\n",
              "      <td>0</td>\n",
              "      <td>0</td>\n",
              "      <td>0</td>\n",
              "      <td>0</td>\n",
              "      <td>0.167</td>\n",
              "      <td>2018</td>\n",
              "    </tr>\n",
              "    <tr>\n",
              "      <th>3</th>\n",
              "      <td>0</td>\n",
              "      <td>가르시아</td>\n",
              "      <td>3.28</td>\n",
              "      <td>넥센</td>\n",
              "      <td>0.200</td>\n",
              "      <td>5</td>\n",
              "      <td>1</td>\n",
              "      <td>1</td>\n",
              "      <td>0</td>\n",
              "      <td>0</td>\n",
              "      <td>0</td>\n",
              "      <td>1</td>\n",
              "      <td>0</td>\n",
              "      <td>0</td>\n",
              "      <td>0</td>\n",
              "      <td>0</td>\n",
              "      <td>0</td>\n",
              "      <td>0</td>\n",
              "      <td>0.176</td>\n",
              "      <td>2018</td>\n",
              "    </tr>\n",
              "    <tr>\n",
              "      <th>4</th>\n",
              "      <td>0</td>\n",
              "      <td>가르시아</td>\n",
              "      <td>3.29</td>\n",
              "      <td>넥센</td>\n",
              "      <td>0.250</td>\n",
              "      <td>4</td>\n",
              "      <td>0</td>\n",
              "      <td>1</td>\n",
              "      <td>0</td>\n",
              "      <td>0</td>\n",
              "      <td>0</td>\n",
              "      <td>3</td>\n",
              "      <td>0</td>\n",
              "      <td>0</td>\n",
              "      <td>0</td>\n",
              "      <td>0</td>\n",
              "      <td>0</td>\n",
              "      <td>1</td>\n",
              "      <td>0.190</td>\n",
              "      <td>2018</td>\n",
              "    </tr>\n",
              "    <tr>\n",
              "      <th>...</th>\n",
              "      <td>...</td>\n",
              "      <td>...</td>\n",
              "      <td>...</td>\n",
              "      <td>...</td>\n",
              "      <td>...</td>\n",
              "      <td>...</td>\n",
              "      <td>...</td>\n",
              "      <td>...</td>\n",
              "      <td>...</td>\n",
              "      <td>...</td>\n",
              "      <td>...</td>\n",
              "      <td>...</td>\n",
              "      <td>...</td>\n",
              "      <td>...</td>\n",
              "      <td>...</td>\n",
              "      <td>...</td>\n",
              "      <td>...</td>\n",
              "      <td>...</td>\n",
              "      <td>...</td>\n",
              "      <td>...</td>\n",
              "    </tr>\n",
              "    <tr>\n",
              "      <th>112268</th>\n",
              "      <td>344</td>\n",
              "      <td>황진수</td>\n",
              "      <td>6.23</td>\n",
              "      <td>LG</td>\n",
              "      <td>-</td>\n",
              "      <td>0</td>\n",
              "      <td>0</td>\n",
              "      <td>0</td>\n",
              "      <td>0</td>\n",
              "      <td>0</td>\n",
              "      <td>0</td>\n",
              "      <td>0</td>\n",
              "      <td>0</td>\n",
              "      <td>0</td>\n",
              "      <td>1</td>\n",
              "      <td>0</td>\n",
              "      <td>0</td>\n",
              "      <td>0</td>\n",
              "      <td>0.158</td>\n",
              "      <td>2018</td>\n",
              "    </tr>\n",
              "    <tr>\n",
              "      <th>112269</th>\n",
              "      <td>344</td>\n",
              "      <td>황진수</td>\n",
              "      <td>6.26</td>\n",
              "      <td>넥센</td>\n",
              "      <td>0.000</td>\n",
              "      <td>1</td>\n",
              "      <td>0</td>\n",
              "      <td>0</td>\n",
              "      <td>0</td>\n",
              "      <td>0</td>\n",
              "      <td>0</td>\n",
              "      <td>0</td>\n",
              "      <td>0</td>\n",
              "      <td>0</td>\n",
              "      <td>0</td>\n",
              "      <td>0</td>\n",
              "      <td>1</td>\n",
              "      <td>0</td>\n",
              "      <td>0.150</td>\n",
              "      <td>2018</td>\n",
              "    </tr>\n",
              "    <tr>\n",
              "      <th>112270</th>\n",
              "      <td>344</td>\n",
              "      <td>황진수</td>\n",
              "      <td>6.27</td>\n",
              "      <td>넥센</td>\n",
              "      <td>0.500</td>\n",
              "      <td>2</td>\n",
              "      <td>1</td>\n",
              "      <td>1</td>\n",
              "      <td>1</td>\n",
              "      <td>0</td>\n",
              "      <td>0</td>\n",
              "      <td>0</td>\n",
              "      <td>0</td>\n",
              "      <td>0</td>\n",
              "      <td>0</td>\n",
              "      <td>0</td>\n",
              "      <td>1</td>\n",
              "      <td>0</td>\n",
              "      <td>0.182</td>\n",
              "      <td>2018</td>\n",
              "    </tr>\n",
              "    <tr>\n",
              "      <th>112271</th>\n",
              "      <td>344</td>\n",
              "      <td>황진수</td>\n",
              "      <td>6.28</td>\n",
              "      <td>넥센</td>\n",
              "      <td>-</td>\n",
              "      <td>0</td>\n",
              "      <td>0</td>\n",
              "      <td>0</td>\n",
              "      <td>0</td>\n",
              "      <td>0</td>\n",
              "      <td>0</td>\n",
              "      <td>0</td>\n",
              "      <td>0</td>\n",
              "      <td>0</td>\n",
              "      <td>0</td>\n",
              "      <td>0</td>\n",
              "      <td>0</td>\n",
              "      <td>0</td>\n",
              "      <td>0.182</td>\n",
              "      <td>2018</td>\n",
              "    </tr>\n",
              "    <tr>\n",
              "      <th>112272</th>\n",
              "      <td>344</td>\n",
              "      <td>황진수</td>\n",
              "      <td>6.30</td>\n",
              "      <td>한화</td>\n",
              "      <td>0.000</td>\n",
              "      <td>2</td>\n",
              "      <td>0</td>\n",
              "      <td>0</td>\n",
              "      <td>0</td>\n",
              "      <td>0</td>\n",
              "      <td>0</td>\n",
              "      <td>0</td>\n",
              "      <td>0</td>\n",
              "      <td>0</td>\n",
              "      <td>0</td>\n",
              "      <td>0</td>\n",
              "      <td>0</td>\n",
              "      <td>0</td>\n",
              "      <td>0.167</td>\n",
              "      <td>2018</td>\n",
              "    </tr>\n",
              "  </tbody>\n",
              "</table>\n",
              "<p>112273 rows × 20 columns</p>\n",
              "</div>\n",
              "      <button class=\"colab-df-convert\" onclick=\"convertToInteractive('df-bbaff707-b118-464e-ac32-7339eb4415b9')\"\n",
              "              title=\"Convert this dataframe to an interactive table.\"\n",
              "              style=\"display:none;\">\n",
              "        \n",
              "  <svg xmlns=\"http://www.w3.org/2000/svg\" height=\"24px\"viewBox=\"0 0 24 24\"\n",
              "       width=\"24px\">\n",
              "    <path d=\"M0 0h24v24H0V0z\" fill=\"none\"/>\n",
              "    <path d=\"M18.56 5.44l.94 2.06.94-2.06 2.06-.94-2.06-.94-.94-2.06-.94 2.06-2.06.94zm-11 1L8.5 8.5l.94-2.06 2.06-.94-2.06-.94L8.5 2.5l-.94 2.06-2.06.94zm10 10l.94 2.06.94-2.06 2.06-.94-2.06-.94-.94-2.06-.94 2.06-2.06.94z\"/><path d=\"M17.41 7.96l-1.37-1.37c-.4-.4-.92-.59-1.43-.59-.52 0-1.04.2-1.43.59L10.3 9.45l-7.72 7.72c-.78.78-.78 2.05 0 2.83L4 21.41c.39.39.9.59 1.41.59.51 0 1.02-.2 1.41-.59l7.78-7.78 2.81-2.81c.8-.78.8-2.07 0-2.86zM5.41 20L4 18.59l7.72-7.72 1.47 1.35L5.41 20z\"/>\n",
              "  </svg>\n",
              "      </button>\n",
              "      \n",
              "  <style>\n",
              "    .colab-df-container {\n",
              "      display:flex;\n",
              "      flex-wrap:wrap;\n",
              "      gap: 12px;\n",
              "    }\n",
              "\n",
              "    .colab-df-convert {\n",
              "      background-color: #E8F0FE;\n",
              "      border: none;\n",
              "      border-radius: 50%;\n",
              "      cursor: pointer;\n",
              "      display: none;\n",
              "      fill: #1967D2;\n",
              "      height: 32px;\n",
              "      padding: 0 0 0 0;\n",
              "      width: 32px;\n",
              "    }\n",
              "\n",
              "    .colab-df-convert:hover {\n",
              "      background-color: #E2EBFA;\n",
              "      box-shadow: 0px 1px 2px rgba(60, 64, 67, 0.3), 0px 1px 3px 1px rgba(60, 64, 67, 0.15);\n",
              "      fill: #174EA6;\n",
              "    }\n",
              "\n",
              "    [theme=dark] .colab-df-convert {\n",
              "      background-color: #3B4455;\n",
              "      fill: #D2E3FC;\n",
              "    }\n",
              "\n",
              "    [theme=dark] .colab-df-convert:hover {\n",
              "      background-color: #434B5C;\n",
              "      box-shadow: 0px 1px 3px 1px rgba(0, 0, 0, 0.15);\n",
              "      filter: drop-shadow(0px 1px 2px rgba(0, 0, 0, 0.3));\n",
              "      fill: #FFFFFF;\n",
              "    }\n",
              "  </style>\n",
              "\n",
              "      <script>\n",
              "        const buttonEl =\n",
              "          document.querySelector('#df-bbaff707-b118-464e-ac32-7339eb4415b9 button.colab-df-convert');\n",
              "        buttonEl.style.display =\n",
              "          google.colab.kernel.accessAllowed ? 'block' : 'none';\n",
              "\n",
              "        async function convertToInteractive(key) {\n",
              "          const element = document.querySelector('#df-bbaff707-b118-464e-ac32-7339eb4415b9');\n",
              "          const dataTable =\n",
              "            await google.colab.kernel.invokeFunction('convertToInteractive',\n",
              "                                                     [key], {});\n",
              "          if (!dataTable) return;\n",
              "\n",
              "          const docLinkHtml = 'Like what you see? Visit the ' +\n",
              "            '<a target=\"_blank\" href=https://colab.research.google.com/notebooks/data_table.ipynb>data table notebook</a>'\n",
              "            + ' to learn more about interactive tables.';\n",
              "          element.innerHTML = '';\n",
              "          dataTable['output_type'] = 'display_data';\n",
              "          await google.colab.output.renderOutput(dataTable, element);\n",
              "          const docLink = document.createElement('div');\n",
              "          docLink.innerHTML = docLinkHtml;\n",
              "          element.appendChild(docLink);\n",
              "        }\n",
              "      </script>\n",
              "    </div>\n",
              "  </div>\n",
              "  "
            ]
          },
          "metadata": {},
          "execution_count": 141
        }
      ]
    },
    {
      "cell_type": "markdown",
      "source": [
        "- 초봉과 OPS 관계\n",
        "- 나이와 OPS 관계\n",
        "- spd와 OPS 관계\n",
        "- 일자별 성적과 일자별 온도 습도의 관계\n",
        "  + https://blog.naver.com/kma_131/221846278683\n",
        "  + 이게 진짜일까 ..."
      ],
      "metadata": {
        "id": "LEBTj6kJMqkl"
      }
    }
  ]
}
{
  "nbformat": 4,
  "nbformat_minor": 0,
  "metadata": {
    "colab": {
      "provenance": [],
      "authorship_tag": "ABX9TyM3PEL6C88qJmEySh3bNw/G",
      "include_colab_link": true
    },
    "kernelspec": {
      "name": "python3",
      "display_name": "Python 3"
    },
    "language_info": {
      "name": "python"
    }
  },
  "cells": [
    {
      "cell_type": "markdown",
      "metadata": {
        "id": "view-in-github",
        "colab_type": "text"
      },
      "source": [
        "<a href=\"https://colab.research.google.com/github/JJungEEun/2023_DaconStudy/blob/main/KBO%20%ED%83%80%EC%9E%90%20OPS%20%EC%98%88%EC%B8%A1%20%EA%B2%BD%EC%A7%84%EB%8C%80%ED%9A%8C/%EC%A0%95%EC%9D%80/02)preprocessing.ipynb\" target=\"_parent\"><img src=\"https://colab.research.google.com/assets/colab-badge.svg\" alt=\"Open In Colab\"/></a>"
      ]
    },
    {
      "cell_type": "code",
      "execution_count": null,
      "metadata": {
        "id": "LlwhsTmfpadA"
      },
      "outputs": [],
      "source": [
        "!sudo apt-get install -y fonts-nanum\n",
        "!sudo fc-cache -fv\n",
        "!rm ~/.cache/matplotlib -rf"
      ]
    },
    {
      "cell_type": "code",
      "source": [
        "from google.colab import drive\n",
        "drive.mount('/content/drive')"
      ],
      "metadata": {
        "colab": {
          "base_uri": "https://localhost:8080/"
        },
        "id": "o7yuWYGcpeI6",
        "outputId": "c38d5513-bcb6-474d-d2dc-9e158ccee12f"
      },
      "execution_count": null,
      "outputs": [
        {
          "output_type": "stream",
          "name": "stdout",
          "text": [
            "Mounted at /content/drive\n"
          ]
        }
      ]
    },
    {
      "cell_type": "code",
      "source": [
        "import random\n",
        "import pandas as pd\n",
        "import numpy as np\n",
        "import os\n",
        "import seaborn as sns\n",
        "from tqdm.auto import tqdm\n",
        "\n",
        "import matplotlib.pyplot as plt\n",
        "plt.rc('font', family='NanumBarunGothic') \n",
        "\n",
        "import warnings\n",
        "warnings.filterwarnings(action='ignore') "
      ],
      "metadata": {
        "id": "c9erMK7ypfRy"
      },
      "execution_count": null,
      "outputs": []
    },
    {
      "cell_type": "code",
      "source": [
        "cd /content/drive/MyDrive/2023/데이콘/KBO 타자 OPS 예측 경진대회/data"
      ],
      "metadata": {
        "colab": {
          "base_uri": "https://localhost:8080/"
        },
        "id": "cWLYrbZ3pgUw",
        "outputId": "f62cd301-635e-4d5c-a1f4-e3c884f8f303"
      },
      "execution_count": null,
      "outputs": [
        {
          "output_type": "stream",
          "name": "stdout",
          "text": [
            "/content/drive/MyDrive/2023/데이콘/KBO 타자 OPS 예측 경진대회/data\n"
          ]
        }
      ]
    },
    {
      "cell_type": "markdown",
      "source": [
        "## Data "
      ],
      "metadata": {
        "id": "BfIafQg6K4AI"
      }
    },
    {
      "cell_type": "code",
      "source": [
        "regular = pd.read_csv('Regular_Season_Batter.csv')\n",
        "pre = pd.read_csv('Pre_Season_Batter.csv')"
      ],
      "metadata": {
        "id": "qUgRlQrUpiCG"
      },
      "execution_count": null,
      "outputs": []
    },
    {
      "cell_type": "markdown",
      "source": [
        "## 정규시즌 전처리"
      ],
      "metadata": {
        "id": "9UTUke6IsHbg"
      }
    },
    {
      "cell_type": "markdown",
      "source": [
        "### 팀"
      ],
      "metadata": {
        "id": "TcTLd4GMpkB-"
      }
    },
    {
      "cell_type": "code",
      "source": [
        "regular[\"team\"] = regular[\"team\"].apply(team_change)"
      ],
      "metadata": {
        "id": "9YQsLC90pmLm"
      },
      "execution_count": null,
      "outputs": []
    },
    {
      "cell_type": "markdown",
      "source": [
        "### 외국인 선수"
      ],
      "metadata": {
        "id": "QysHE8c9povt"
      }
    },
    {
      "cell_type": "code",
      "source": [
        "foreign = pd.DataFrame({\"name\":[\"가르시아\", \"고메즈\", \"대니돈\", \"러프\", \"로맥\", \"로메로\",\n",
        "                                \"로사리오\", \"로티노\", \"로하스\", \"스나이더\", \"스크럭스\", \"알드리지\",\n",
        "                                \"초이스\", \"칸투\", \"테임즈\", \"피에\", \"호잉\"]})"
      ],
      "metadata": {
        "id": "lGyDsK8TpqcK"
      },
      "execution_count": null,
      "outputs": []
    },
    {
      "cell_type": "code",
      "source": [
        "regular.loc[regular[\"batter_name\"].isin(foreign[\"name\"]), \"외국인\"] = 0\n",
        "regular.loc[~regular[\"batter_name\"].isin(foreign[\"name\"]), \"외국인\"] = 1"
      ],
      "metadata": {
        "id": "K6uwK4Rkpr3F"
      },
      "execution_count": null,
      "outputs": []
    },
    {
      "cell_type": "code",
      "source": [
        "regular[\"외국인\"] = regular[\"외국인\"].astype(\"int\")"
      ],
      "metadata": {
        "id": "7SgGWEeQpslP"
      },
      "execution_count": null,
      "outputs": []
    },
    {
      "cell_type": "markdown",
      "source": [
        "### 나이"
      ],
      "metadata": {
        "id": "mNSqUIl7qDW3"
      }
    },
    {
      "cell_type": "markdown",
      "source": [
        "#### 노화곡선"
      ],
      "metadata": {
        "id": "IID2Pr3oK5ra"
      }
    },
    {
      "cell_type": "markdown",
      "source": [
        "- 연령에 따른 OPS 평균값 확인 > 생존자 편향 문제 발생\n",
        "  + 19-22살 타자들의 평균 OPS는 프로 입단 초기부터 성적이 좋은 이정후같은 엘리트들이 주로 대상이 됨\n",
        "  + 반면 39-42살 평균 OPS는 노화가 천천히 진행된 특수한 타자들만 대상이 됨\n",
        "- 연령별 OPS 평균 X, OPS 평균 변화값 O\n",
        "\n",
        "```\n",
        "1) 19살에서 20살로 증가할 때, 해당 선수들의 OPS 평균 변화값\n",
        "\n",
        "2) 20살에서 21살로 증가할 때, 해당 선수들의 OPS 평균 변화값\n",
        "\n",
        "3) ...\n",
        "\n",
        "4) 각 나이별 OPS 평균 변화값 평균\n",
        "```"
      ],
      "metadata": {
        "id": "h2u6I1lVK9VX"
      }
    },
    {
      "cell_type": "code",
      "source": [
        "print(regular['batter_id'].value_counts().unique())\n",
        "print(regular['batter_id'].value_counts().mean())\n",
        "print(regular['batter_id'].value_counts().median())"
      ],
      "metadata": {
        "colab": {
          "base_uri": "https://localhost:8080/"
        },
        "id": "BSwMr770GfqH",
        "outputId": "0d59ccc9-bdf6-40d3-9605-960396757a0b"
      },
      "execution_count": null,
      "outputs": [
        {
          "output_type": "stream",
          "name": "stdout",
          "text": [
            "[20 19 18 17 16 15 14 13 12 11 10  9  8  7  6  5  4  3  2  1]\n",
            "7.113043478260869\n",
            "6.0\n"
          ]
        }
      ]
    },
    {
      "cell_type": "code",
      "source": [
        "regular2 = regular.groupby(['batter_id']).filter(lambda x: len(x)>=6)\n",
        "regular2.shape"
      ],
      "metadata": {
        "colab": {
          "base_uri": "https://localhost:8080/"
        },
        "id": "mmf1vaQtFUSL",
        "outputId": "0b1af60a-af6b-40e9-9334-e9e974e1bf08"
      },
      "execution_count": null,
      "outputs": [
        {
          "output_type": "execute_result",
          "data": {
            "text/plain": [
              "(1972, 31)"
            ]
          },
          "metadata": {},
          "execution_count": 101
        }
      ]
    },
    {
      "cell_type": "code",
      "source": [
        "regular2.head()"
      ],
      "metadata": {
        "colab": {
          "base_uri": "https://localhost:8080/",
          "height": 236
        },
        "id": "0u8XVCpRG0M3",
        "outputId": "ca886eaa-a53e-48e6-cdac-bed4a38cc635"
      },
      "execution_count": null,
      "outputs": [
        {
          "output_type": "execute_result",
          "data": {
            "text/plain": [
              "   batter_id batter_name  year team    avg    G   AB   R   H  2B  ...    OBP  \\\n",
              "1          1         강경학  2011   한화  0.000    2    1   0   0   0  ...  0.000   \n",
              "2          1         강경학  2014   한화  0.221   41   86  11  19   2  ...  0.337   \n",
              "3          1         강경학  2015   한화  0.257  120  311  50  80   7  ...  0.348   \n",
              "4          1         강경학  2016   한화  0.158   46  101  16  16   3  ...  0.232   \n",
              "5          1         강경학  2017   한화  0.214   59   84  17  18   2  ...  0.290   \n",
              "\n",
              "    E  height/weight  year_born    OPS  외국인  weight  weight_category  age  \\\n",
              "1   1     180cm/72kg       1992  0.000    1    72.0              0.0   19   \n",
              "2   6     180cm/72kg       1992  0.686    1    72.0              0.0   22   \n",
              "3  15     180cm/72kg       1992  0.673    1    72.0              0.0   23   \n",
              "4   7     180cm/72kg       1992  0.489    1    72.0              0.0   24   \n",
              "5   4     180cm/72kg       1992  0.552    1    72.0              0.0   25   \n",
              "\n",
              "   age_category  \n",
              "1             0  \n",
              "2             0  \n",
              "3             1  \n",
              "4             1  \n",
              "5             1  \n",
              "\n",
              "[5 rows x 31 columns]"
            ],
            "text/html": [
              "\n",
              "  <div id=\"df-0f113c62-561d-4568-b1fc-65ea8ff1195a\">\n",
              "    <div class=\"colab-df-container\">\n",
              "      <div>\n",
              "<style scoped>\n",
              "    .dataframe tbody tr th:only-of-type {\n",
              "        vertical-align: middle;\n",
              "    }\n",
              "\n",
              "    .dataframe tbody tr th {\n",
              "        vertical-align: top;\n",
              "    }\n",
              "\n",
              "    .dataframe thead th {\n",
              "        text-align: right;\n",
              "    }\n",
              "</style>\n",
              "<table border=\"1\" class=\"dataframe\">\n",
              "  <thead>\n",
              "    <tr style=\"text-align: right;\">\n",
              "      <th></th>\n",
              "      <th>batter_id</th>\n",
              "      <th>batter_name</th>\n",
              "      <th>year</th>\n",
              "      <th>team</th>\n",
              "      <th>avg</th>\n",
              "      <th>G</th>\n",
              "      <th>AB</th>\n",
              "      <th>R</th>\n",
              "      <th>H</th>\n",
              "      <th>2B</th>\n",
              "      <th>...</th>\n",
              "      <th>OBP</th>\n",
              "      <th>E</th>\n",
              "      <th>height/weight</th>\n",
              "      <th>year_born</th>\n",
              "      <th>OPS</th>\n",
              "      <th>외국인</th>\n",
              "      <th>weight</th>\n",
              "      <th>weight_category</th>\n",
              "      <th>age</th>\n",
              "      <th>age_category</th>\n",
              "    </tr>\n",
              "  </thead>\n",
              "  <tbody>\n",
              "    <tr>\n",
              "      <th>1</th>\n",
              "      <td>1</td>\n",
              "      <td>강경학</td>\n",
              "      <td>2011</td>\n",
              "      <td>한화</td>\n",
              "      <td>0.000</td>\n",
              "      <td>2</td>\n",
              "      <td>1</td>\n",
              "      <td>0</td>\n",
              "      <td>0</td>\n",
              "      <td>0</td>\n",
              "      <td>...</td>\n",
              "      <td>0.000</td>\n",
              "      <td>1</td>\n",
              "      <td>180cm/72kg</td>\n",
              "      <td>1992</td>\n",
              "      <td>0.000</td>\n",
              "      <td>1</td>\n",
              "      <td>72.0</td>\n",
              "      <td>0.0</td>\n",
              "      <td>19</td>\n",
              "      <td>0</td>\n",
              "    </tr>\n",
              "    <tr>\n",
              "      <th>2</th>\n",
              "      <td>1</td>\n",
              "      <td>강경학</td>\n",
              "      <td>2014</td>\n",
              "      <td>한화</td>\n",
              "      <td>0.221</td>\n",
              "      <td>41</td>\n",
              "      <td>86</td>\n",
              "      <td>11</td>\n",
              "      <td>19</td>\n",
              "      <td>2</td>\n",
              "      <td>...</td>\n",
              "      <td>0.337</td>\n",
              "      <td>6</td>\n",
              "      <td>180cm/72kg</td>\n",
              "      <td>1992</td>\n",
              "      <td>0.686</td>\n",
              "      <td>1</td>\n",
              "      <td>72.0</td>\n",
              "      <td>0.0</td>\n",
              "      <td>22</td>\n",
              "      <td>0</td>\n",
              "    </tr>\n",
              "    <tr>\n",
              "      <th>3</th>\n",
              "      <td>1</td>\n",
              "      <td>강경학</td>\n",
              "      <td>2015</td>\n",
              "      <td>한화</td>\n",
              "      <td>0.257</td>\n",
              "      <td>120</td>\n",
              "      <td>311</td>\n",
              "      <td>50</td>\n",
              "      <td>80</td>\n",
              "      <td>7</td>\n",
              "      <td>...</td>\n",
              "      <td>0.348</td>\n",
              "      <td>15</td>\n",
              "      <td>180cm/72kg</td>\n",
              "      <td>1992</td>\n",
              "      <td>0.673</td>\n",
              "      <td>1</td>\n",
              "      <td>72.0</td>\n",
              "      <td>0.0</td>\n",
              "      <td>23</td>\n",
              "      <td>1</td>\n",
              "    </tr>\n",
              "    <tr>\n",
              "      <th>4</th>\n",
              "      <td>1</td>\n",
              "      <td>강경학</td>\n",
              "      <td>2016</td>\n",
              "      <td>한화</td>\n",
              "      <td>0.158</td>\n",
              "      <td>46</td>\n",
              "      <td>101</td>\n",
              "      <td>16</td>\n",
              "      <td>16</td>\n",
              "      <td>3</td>\n",
              "      <td>...</td>\n",
              "      <td>0.232</td>\n",
              "      <td>7</td>\n",
              "      <td>180cm/72kg</td>\n",
              "      <td>1992</td>\n",
              "      <td>0.489</td>\n",
              "      <td>1</td>\n",
              "      <td>72.0</td>\n",
              "      <td>0.0</td>\n",
              "      <td>24</td>\n",
              "      <td>1</td>\n",
              "    </tr>\n",
              "    <tr>\n",
              "      <th>5</th>\n",
              "      <td>1</td>\n",
              "      <td>강경학</td>\n",
              "      <td>2017</td>\n",
              "      <td>한화</td>\n",
              "      <td>0.214</td>\n",
              "      <td>59</td>\n",
              "      <td>84</td>\n",
              "      <td>17</td>\n",
              "      <td>18</td>\n",
              "      <td>2</td>\n",
              "      <td>...</td>\n",
              "      <td>0.290</td>\n",
              "      <td>4</td>\n",
              "      <td>180cm/72kg</td>\n",
              "      <td>1992</td>\n",
              "      <td>0.552</td>\n",
              "      <td>1</td>\n",
              "      <td>72.0</td>\n",
              "      <td>0.0</td>\n",
              "      <td>25</td>\n",
              "      <td>1</td>\n",
              "    </tr>\n",
              "  </tbody>\n",
              "</table>\n",
              "<p>5 rows × 31 columns</p>\n",
              "</div>\n",
              "      <button class=\"colab-df-convert\" onclick=\"convertToInteractive('df-0f113c62-561d-4568-b1fc-65ea8ff1195a')\"\n",
              "              title=\"Convert this dataframe to an interactive table.\"\n",
              "              style=\"display:none;\">\n",
              "        \n",
              "  <svg xmlns=\"http://www.w3.org/2000/svg\" height=\"24px\"viewBox=\"0 0 24 24\"\n",
              "       width=\"24px\">\n",
              "    <path d=\"M0 0h24v24H0V0z\" fill=\"none\"/>\n",
              "    <path d=\"M18.56 5.44l.94 2.06.94-2.06 2.06-.94-2.06-.94-.94-2.06-.94 2.06-2.06.94zm-11 1L8.5 8.5l.94-2.06 2.06-.94-2.06-.94L8.5 2.5l-.94 2.06-2.06.94zm10 10l.94 2.06.94-2.06 2.06-.94-2.06-.94-.94-2.06-.94 2.06-2.06.94z\"/><path d=\"M17.41 7.96l-1.37-1.37c-.4-.4-.92-.59-1.43-.59-.52 0-1.04.2-1.43.59L10.3 9.45l-7.72 7.72c-.78.78-.78 2.05 0 2.83L4 21.41c.39.39.9.59 1.41.59.51 0 1.02-.2 1.41-.59l7.78-7.78 2.81-2.81c.8-.78.8-2.07 0-2.86zM5.41 20L4 18.59l7.72-7.72 1.47 1.35L5.41 20z\"/>\n",
              "  </svg>\n",
              "      </button>\n",
              "      \n",
              "  <style>\n",
              "    .colab-df-container {\n",
              "      display:flex;\n",
              "      flex-wrap:wrap;\n",
              "      gap: 12px;\n",
              "    }\n",
              "\n",
              "    .colab-df-convert {\n",
              "      background-color: #E8F0FE;\n",
              "      border: none;\n",
              "      border-radius: 50%;\n",
              "      cursor: pointer;\n",
              "      display: none;\n",
              "      fill: #1967D2;\n",
              "      height: 32px;\n",
              "      padding: 0 0 0 0;\n",
              "      width: 32px;\n",
              "    }\n",
              "\n",
              "    .colab-df-convert:hover {\n",
              "      background-color: #E2EBFA;\n",
              "      box-shadow: 0px 1px 2px rgba(60, 64, 67, 0.3), 0px 1px 3px 1px rgba(60, 64, 67, 0.15);\n",
              "      fill: #174EA6;\n",
              "    }\n",
              "\n",
              "    [theme=dark] .colab-df-convert {\n",
              "      background-color: #3B4455;\n",
              "      fill: #D2E3FC;\n",
              "    }\n",
              "\n",
              "    [theme=dark] .colab-df-convert:hover {\n",
              "      background-color: #434B5C;\n",
              "      box-shadow: 0px 1px 3px 1px rgba(0, 0, 0, 0.15);\n",
              "      filter: drop-shadow(0px 1px 2px rgba(0, 0, 0, 0.3));\n",
              "      fill: #FFFFFF;\n",
              "    }\n",
              "  </style>\n",
              "\n",
              "      <script>\n",
              "        const buttonEl =\n",
              "          document.querySelector('#df-0f113c62-561d-4568-b1fc-65ea8ff1195a button.colab-df-convert');\n",
              "        buttonEl.style.display =\n",
              "          google.colab.kernel.accessAllowed ? 'block' : 'none';\n",
              "\n",
              "        async function convertToInteractive(key) {\n",
              "          const element = document.querySelector('#df-0f113c62-561d-4568-b1fc-65ea8ff1195a');\n",
              "          const dataTable =\n",
              "            await google.colab.kernel.invokeFunction('convertToInteractive',\n",
              "                                                     [key], {});\n",
              "          if (!dataTable) return;\n",
              "\n",
              "          const docLinkHtml = 'Like what you see? Visit the ' +\n",
              "            '<a target=\"_blank\" href=https://colab.research.google.com/notebooks/data_table.ipynb>data table notebook</a>'\n",
              "            + ' to learn more about interactive tables.';\n",
              "          element.innerHTML = '';\n",
              "          dataTable['output_type'] = 'display_data';\n",
              "          await google.colab.output.renderOutput(dataTable, element);\n",
              "          const docLink = document.createElement('div');\n",
              "          docLink.innerHTML = docLinkHtml;\n",
              "          element.appendChild(docLink);\n",
              "        }\n",
              "      </script>\n",
              "    </div>\n",
              "  </div>\n",
              "  "
            ]
          },
          "metadata": {},
          "execution_count": 8
        }
      ]
    },
    {
      "cell_type": "code",
      "source": [
        "regular2['mean_ops'] = regular2.groupby(['batter_id'])['OPS'].transform('mean')"
      ],
      "metadata": {
        "id": "q2NuaQMMTr31"
      },
      "execution_count": null,
      "outputs": []
    },
    {
      "cell_type": "code",
      "source": [
        "regular2.head()"
      ],
      "metadata": {
        "colab": {
          "base_uri": "https://localhost:8080/",
          "height": 236
        },
        "id": "AGYBOjGBUmur",
        "outputId": "79ea7005-bd88-4f29-86f4-ea43fa3ba5b1"
      },
      "execution_count": null,
      "outputs": [
        {
          "output_type": "execute_result",
          "data": {
            "text/plain": [
              "   batter_id batter_name  year team    avg    G   AB   R   H  2B  ...   E  \\\n",
              "1          1         강경학  2011   한화  0.000    2    1   0   0   0  ...   1   \n",
              "2          1         강경학  2014   한화  0.221   41   86  11  19   2  ...   6   \n",
              "3          1         강경학  2015   한화  0.257  120  311  50  80   7  ...  15   \n",
              "4          1         강경학  2016   한화  0.158   46  101  16  16   3  ...   7   \n",
              "5          1         강경학  2017   한화  0.214   59   84  17  18   2  ...   4   \n",
              "\n",
              "   height/weight  year_born    OPS  외국인  weight  weight_category  age  \\\n",
              "1     180cm/72kg       1992  0.000    1    72.0              0.0   19   \n",
              "2     180cm/72kg       1992  0.686    1    72.0              0.0   22   \n",
              "3     180cm/72kg       1992  0.673    1    72.0              0.0   23   \n",
              "4     180cm/72kg       1992  0.489    1    72.0              0.0   24   \n",
              "5     180cm/72kg       1992  0.552    1    72.0              0.0   25   \n",
              "\n",
              "   age_category  mean_ops  \n",
              "1             0     0.529  \n",
              "2             0     0.529  \n",
              "3             1     0.529  \n",
              "4             1     0.529  \n",
              "5             1     0.529  \n",
              "\n",
              "[5 rows x 32 columns]"
            ],
            "text/html": [
              "\n",
              "  <div id=\"df-cdf4efc0-85c3-40d5-9660-74f836ef8a13\">\n",
              "    <div class=\"colab-df-container\">\n",
              "      <div>\n",
              "<style scoped>\n",
              "    .dataframe tbody tr th:only-of-type {\n",
              "        vertical-align: middle;\n",
              "    }\n",
              "\n",
              "    .dataframe tbody tr th {\n",
              "        vertical-align: top;\n",
              "    }\n",
              "\n",
              "    .dataframe thead th {\n",
              "        text-align: right;\n",
              "    }\n",
              "</style>\n",
              "<table border=\"1\" class=\"dataframe\">\n",
              "  <thead>\n",
              "    <tr style=\"text-align: right;\">\n",
              "      <th></th>\n",
              "      <th>batter_id</th>\n",
              "      <th>batter_name</th>\n",
              "      <th>year</th>\n",
              "      <th>team</th>\n",
              "      <th>avg</th>\n",
              "      <th>G</th>\n",
              "      <th>AB</th>\n",
              "      <th>R</th>\n",
              "      <th>H</th>\n",
              "      <th>2B</th>\n",
              "      <th>...</th>\n",
              "      <th>E</th>\n",
              "      <th>height/weight</th>\n",
              "      <th>year_born</th>\n",
              "      <th>OPS</th>\n",
              "      <th>외국인</th>\n",
              "      <th>weight</th>\n",
              "      <th>weight_category</th>\n",
              "      <th>age</th>\n",
              "      <th>age_category</th>\n",
              "      <th>mean_ops</th>\n",
              "    </tr>\n",
              "  </thead>\n",
              "  <tbody>\n",
              "    <tr>\n",
              "      <th>1</th>\n",
              "      <td>1</td>\n",
              "      <td>강경학</td>\n",
              "      <td>2011</td>\n",
              "      <td>한화</td>\n",
              "      <td>0.000</td>\n",
              "      <td>2</td>\n",
              "      <td>1</td>\n",
              "      <td>0</td>\n",
              "      <td>0</td>\n",
              "      <td>0</td>\n",
              "      <td>...</td>\n",
              "      <td>1</td>\n",
              "      <td>180cm/72kg</td>\n",
              "      <td>1992</td>\n",
              "      <td>0.000</td>\n",
              "      <td>1</td>\n",
              "      <td>72.0</td>\n",
              "      <td>0.0</td>\n",
              "      <td>19</td>\n",
              "      <td>0</td>\n",
              "      <td>0.529</td>\n",
              "    </tr>\n",
              "    <tr>\n",
              "      <th>2</th>\n",
              "      <td>1</td>\n",
              "      <td>강경학</td>\n",
              "      <td>2014</td>\n",
              "      <td>한화</td>\n",
              "      <td>0.221</td>\n",
              "      <td>41</td>\n",
              "      <td>86</td>\n",
              "      <td>11</td>\n",
              "      <td>19</td>\n",
              "      <td>2</td>\n",
              "      <td>...</td>\n",
              "      <td>6</td>\n",
              "      <td>180cm/72kg</td>\n",
              "      <td>1992</td>\n",
              "      <td>0.686</td>\n",
              "      <td>1</td>\n",
              "      <td>72.0</td>\n",
              "      <td>0.0</td>\n",
              "      <td>22</td>\n",
              "      <td>0</td>\n",
              "      <td>0.529</td>\n",
              "    </tr>\n",
              "    <tr>\n",
              "      <th>3</th>\n",
              "      <td>1</td>\n",
              "      <td>강경학</td>\n",
              "      <td>2015</td>\n",
              "      <td>한화</td>\n",
              "      <td>0.257</td>\n",
              "      <td>120</td>\n",
              "      <td>311</td>\n",
              "      <td>50</td>\n",
              "      <td>80</td>\n",
              "      <td>7</td>\n",
              "      <td>...</td>\n",
              "      <td>15</td>\n",
              "      <td>180cm/72kg</td>\n",
              "      <td>1992</td>\n",
              "      <td>0.673</td>\n",
              "      <td>1</td>\n",
              "      <td>72.0</td>\n",
              "      <td>0.0</td>\n",
              "      <td>23</td>\n",
              "      <td>1</td>\n",
              "      <td>0.529</td>\n",
              "    </tr>\n",
              "    <tr>\n",
              "      <th>4</th>\n",
              "      <td>1</td>\n",
              "      <td>강경학</td>\n",
              "      <td>2016</td>\n",
              "      <td>한화</td>\n",
              "      <td>0.158</td>\n",
              "      <td>46</td>\n",
              "      <td>101</td>\n",
              "      <td>16</td>\n",
              "      <td>16</td>\n",
              "      <td>3</td>\n",
              "      <td>...</td>\n",
              "      <td>7</td>\n",
              "      <td>180cm/72kg</td>\n",
              "      <td>1992</td>\n",
              "      <td>0.489</td>\n",
              "      <td>1</td>\n",
              "      <td>72.0</td>\n",
              "      <td>0.0</td>\n",
              "      <td>24</td>\n",
              "      <td>1</td>\n",
              "      <td>0.529</td>\n",
              "    </tr>\n",
              "    <tr>\n",
              "      <th>5</th>\n",
              "      <td>1</td>\n",
              "      <td>강경학</td>\n",
              "      <td>2017</td>\n",
              "      <td>한화</td>\n",
              "      <td>0.214</td>\n",
              "      <td>59</td>\n",
              "      <td>84</td>\n",
              "      <td>17</td>\n",
              "      <td>18</td>\n",
              "      <td>2</td>\n",
              "      <td>...</td>\n",
              "      <td>4</td>\n",
              "      <td>180cm/72kg</td>\n",
              "      <td>1992</td>\n",
              "      <td>0.552</td>\n",
              "      <td>1</td>\n",
              "      <td>72.0</td>\n",
              "      <td>0.0</td>\n",
              "      <td>25</td>\n",
              "      <td>1</td>\n",
              "      <td>0.529</td>\n",
              "    </tr>\n",
              "  </tbody>\n",
              "</table>\n",
              "<p>5 rows × 32 columns</p>\n",
              "</div>\n",
              "      <button class=\"colab-df-convert\" onclick=\"convertToInteractive('df-cdf4efc0-85c3-40d5-9660-74f836ef8a13')\"\n",
              "              title=\"Convert this dataframe to an interactive table.\"\n",
              "              style=\"display:none;\">\n",
              "        \n",
              "  <svg xmlns=\"http://www.w3.org/2000/svg\" height=\"24px\"viewBox=\"0 0 24 24\"\n",
              "       width=\"24px\">\n",
              "    <path d=\"M0 0h24v24H0V0z\" fill=\"none\"/>\n",
              "    <path d=\"M18.56 5.44l.94 2.06.94-2.06 2.06-.94-2.06-.94-.94-2.06-.94 2.06-2.06.94zm-11 1L8.5 8.5l.94-2.06 2.06-.94-2.06-.94L8.5 2.5l-.94 2.06-2.06.94zm10 10l.94 2.06.94-2.06 2.06-.94-2.06-.94-.94-2.06-.94 2.06-2.06.94z\"/><path d=\"M17.41 7.96l-1.37-1.37c-.4-.4-.92-.59-1.43-.59-.52 0-1.04.2-1.43.59L10.3 9.45l-7.72 7.72c-.78.78-.78 2.05 0 2.83L4 21.41c.39.39.9.59 1.41.59.51 0 1.02-.2 1.41-.59l7.78-7.78 2.81-2.81c.8-.78.8-2.07 0-2.86zM5.41 20L4 18.59l7.72-7.72 1.47 1.35L5.41 20z\"/>\n",
              "  </svg>\n",
              "      </button>\n",
              "      \n",
              "  <style>\n",
              "    .colab-df-container {\n",
              "      display:flex;\n",
              "      flex-wrap:wrap;\n",
              "      gap: 12px;\n",
              "    }\n",
              "\n",
              "    .colab-df-convert {\n",
              "      background-color: #E8F0FE;\n",
              "      border: none;\n",
              "      border-radius: 50%;\n",
              "      cursor: pointer;\n",
              "      display: none;\n",
              "      fill: #1967D2;\n",
              "      height: 32px;\n",
              "      padding: 0 0 0 0;\n",
              "      width: 32px;\n",
              "    }\n",
              "\n",
              "    .colab-df-convert:hover {\n",
              "      background-color: #E2EBFA;\n",
              "      box-shadow: 0px 1px 2px rgba(60, 64, 67, 0.3), 0px 1px 3px 1px rgba(60, 64, 67, 0.15);\n",
              "      fill: #174EA6;\n",
              "    }\n",
              "\n",
              "    [theme=dark] .colab-df-convert {\n",
              "      background-color: #3B4455;\n",
              "      fill: #D2E3FC;\n",
              "    }\n",
              "\n",
              "    [theme=dark] .colab-df-convert:hover {\n",
              "      background-color: #434B5C;\n",
              "      box-shadow: 0px 1px 3px 1px rgba(0, 0, 0, 0.15);\n",
              "      filter: drop-shadow(0px 1px 2px rgba(0, 0, 0, 0.3));\n",
              "      fill: #FFFFFF;\n",
              "    }\n",
              "  </style>\n",
              "\n",
              "      <script>\n",
              "        const buttonEl =\n",
              "          document.querySelector('#df-cdf4efc0-85c3-40d5-9660-74f836ef8a13 button.colab-df-convert');\n",
              "        buttonEl.style.display =\n",
              "          google.colab.kernel.accessAllowed ? 'block' : 'none';\n",
              "\n",
              "        async function convertToInteractive(key) {\n",
              "          const element = document.querySelector('#df-cdf4efc0-85c3-40d5-9660-74f836ef8a13');\n",
              "          const dataTable =\n",
              "            await google.colab.kernel.invokeFunction('convertToInteractive',\n",
              "                                                     [key], {});\n",
              "          if (!dataTable) return;\n",
              "\n",
              "          const docLinkHtml = 'Like what you see? Visit the ' +\n",
              "            '<a target=\"_blank\" href=https://colab.research.google.com/notebooks/data_table.ipynb>data table notebook</a>'\n",
              "            + ' to learn more about interactive tables.';\n",
              "          element.innerHTML = '';\n",
              "          dataTable['output_type'] = 'display_data';\n",
              "          await google.colab.output.renderOutput(dataTable, element);\n",
              "          const docLink = document.createElement('div');\n",
              "          docLink.innerHTML = docLinkHtml;\n",
              "          element.appendChild(docLink);\n",
              "        }\n",
              "      </script>\n",
              "    </div>\n",
              "  </div>\n",
              "  "
            ]
          },
          "metadata": {},
          "execution_count": 11
        }
      ]
    },
    {
      "cell_type": "code",
      "source": [
        "df = regular2.sort_values(['batter_id','age'])\n",
        "df['ops_diff'] = df['OPS'] - df['mean_ops']"
      ],
      "metadata": {
        "id": "nFvv2KEGqz16"
      },
      "execution_count": null,
      "outputs": []
    },
    {
      "cell_type": "code",
      "source": [
        "df['ops_diff'].isna().sum()"
      ],
      "metadata": {
        "colab": {
          "base_uri": "https://localhost:8080/"
        },
        "id": "C8gwE3mHFMW5",
        "outputId": "05e9067e-ad82-4ec8-ef61-45530b1fcef4"
      },
      "execution_count": null,
      "outputs": [
        {
          "output_type": "execute_result",
          "data": {
            "text/plain": [
              "17"
            ]
          },
          "metadata": {},
          "execution_count": 14
        }
      ]
    },
    {
      "cell_type": "code",
      "source": [
        "df['ops_diff'] = df['ops_diff'].fillna(0)"
      ],
      "metadata": {
        "id": "C-R6L3Z0L0zr"
      },
      "execution_count": null,
      "outputs": []
    },
    {
      "cell_type": "code",
      "source": [
        "sns.set(style='darkgrid')"
      ],
      "metadata": {
        "id": "tCXo_loJQ_Vx"
      },
      "execution_count": null,
      "outputs": []
    },
    {
      "cell_type": "code",
      "source": [
        "mean_df = df.groupby(['age'])['ops_diff'].mean().reset_index()\n",
        "sns.lineplot(x='age',y='ops_diff', data=mean_df[3:-3])"
      ],
      "metadata": {
        "colab": {
          "base_uri": "https://localhost:8080/",
          "height": 303
        },
        "id": "Gd-gLennL5tE",
        "outputId": "2c800148-0b4e-4aa5-a5fc-f53079de9478"
      },
      "execution_count": null,
      "outputs": [
        {
          "output_type": "execute_result",
          "data": {
            "text/plain": [
              "<AxesSubplot:xlabel='age', ylabel='ops_diff'>"
            ]
          },
          "metadata": {},
          "execution_count": 19
        },
        {
          "output_type": "display_data",
          "data": {
            "text/plain": [
              "<Figure size 432x288 with 1 Axes>"
            ],
            "image/png": "[encoded data removed]"
          },
          "metadata": {}
        }
      ]
    },
    {
      "cell_type": "markdown",
      "source": [
        "- ..~23세:\n",
        "- 23~29세: 증가\n",
        "- 30~..세: 감소"
      ],
      "metadata": {
        "id": "tjsBSyf4ZH1z"
      }
    },
    {
      "cell_type": "markdown",
      "source": [
        "### 나이 범주화\n",
        "- 위 노화곡선을 바탕으로 나이 범주화"
      ],
      "metadata": {
        "id": "0dZ35zD_qJzS"
      }
    },
    {
      "cell_type": "code",
      "source": [
        "regular[\"year_born\"] = regular[\"year_born\"].apply(lambda x: int(str(x)[:4]))\n",
        "regular[\"age\"] = regular[\"year\"] - regular[\"year_born\"]\n",
        "regular[\"age_category\"] = regular[\"age\"].apply(age_to_category)"
      ],
      "metadata": {
        "id": "1eAh66BMqITM"
      },
      "execution_count": null,
      "outputs": []
    },
    {
      "cell_type": "markdown",
      "source": [
        "### 몸무게 결측치"
      ],
      "metadata": {
        "id": "rXQvB4MKXxug"
      }
    },
    {
      "cell_type": "code",
      "source": [
        "regular[regular['height/weight'].isna()==True]['batter_name'].unique()"
      ],
      "metadata": {
        "colab": {
          "base_uri": "https://localhost:8080/"
        },
        "id": "Q1HUP6drSc2p",
        "outputId": "8692a9b0-c95a-4dd9-9f88-05ba73f7396e"
      },
      "execution_count": null,
      "outputs": [
        {
          "output_type": "execute_result",
          "data": {
            "text/plain": [
              "array(['진갑용', '강병식', '강봉규', '강정호', '고도현', '고동진', '고메즈', '고영민', '이종환',\n",
              "       '박재홍', '권용관', '김경모', '김경언', '김광연', '박재상', '김대륙', '김동주', '신현철',\n",
              "       '김연훈', '연경흠', '김원석', '김원섭', '나바로', '김종찬', '김종호', '나성용', '대니돈',\n",
              "       '로메로', '로사리오', '로티노', '마낙길', '모상기', '문우람', '박계현', '박기남', '박노민',\n",
              "       '박상규', '박용근', '박준서', '박진만', '박진원', '성의준', '손용석', '송지만', '스나이더',\n",
              "       '신경현', '신명철', '안치용', '알드리지', '양영동', '오재필', '용덕한', '우동균', '유선정',\n",
              "       '이종범', '유재혁', '윤완주', '윤요섭', '이명환', '이민재', '이승재', '이양기', '이여상',\n",
              "       '이우민', '이인구', '이정식', '이태원', '한상훈', '이현곤', '이홍구', '이희근', '임재철',\n",
              "       '장성호', '전현태', '정보명', '정상교', '정수성', '정현석', '정형식', '조성환', '조영훈',\n",
              "       '조인성', '조중근', '지재옥', '차일목', '채상병', '최경철', '최동수', '최민구', '최선호',\n",
              "       '최훈락', '칸투', '테임즈', '피에', '한윤섭', '현재윤', '홍성흔', '황목치승', '황선일',\n",
              "       '황정립'], dtype=object)"
            ]
          },
          "metadata": {},
          "execution_count": 108
        }
      ]
    },
    {
      "cell_type": "code",
      "source": [
        "regular2.head()"
      ],
      "metadata": {
        "colab": {
          "base_uri": "https://localhost:8080/",
          "height": 236
        },
        "id": "WPXdee2laIu8",
        "outputId": "ffaa382f-32a2-419f-f7b1-f596b955c0be"
      },
      "execution_count": null,
      "outputs": [
        {
          "output_type": "execute_result",
          "data": {
            "text/plain": [
              "   batter_id batter_name  year team    avg    G   AB   R   H  2B  ...   E  \\\n",
              "1          1         강경학  2011   한화  0.000    2    1   0   0   0  ...   1   \n",
              "2          1         강경학  2014   한화  0.221   41   86  11  19   2  ...   6   \n",
              "3          1         강경학  2015   한화  0.257  120  311  50  80   7  ...  15   \n",
              "4          1         강경학  2016   한화  0.158   46  101  16  16   3  ...   7   \n",
              "5          1         강경학  2017   한화  0.214   59   84  17  18   2  ...   4   \n",
              "\n",
              "   height/weight  year_born    OPS  외국인  weight  weight_category  age  \\\n",
              "1     180cm/72kg       1992  0.000    1    72.0              0.0   19   \n",
              "2     180cm/72kg       1992  0.686    1    72.0              0.0   22   \n",
              "3     180cm/72kg       1992  0.673    1    72.0              0.0   23   \n",
              "4     180cm/72kg       1992  0.489    1    72.0              0.0   24   \n",
              "5     180cm/72kg       1992  0.552    1    72.0              0.0   25   \n",
              "\n",
              "   age_category  mean_ops  \n",
              "1             0     0.529  \n",
              "2             0     0.529  \n",
              "3             1     0.529  \n",
              "4             1     0.529  \n",
              "5             1     0.529  \n",
              "\n",
              "[5 rows x 32 columns]"
            ],
            "text/html": [
              "\n",
              "  <div id=\"df-a0830400-f655-43e6-b124-8db56c24af35\">\n",
              "    <div class=\"colab-df-container\">\n",
              "      <div>\n",
              "<style scoped>\n",
              "    .dataframe tbody tr th:only-of-type {\n",
              "        vertical-align: middle;\n",
              "    }\n",
              "\n",
              "    .dataframe tbody tr th {\n",
              "        vertical-align: top;\n",
              "    }\n",
              "\n",
              "    .dataframe thead th {\n",
              "        text-align: right;\n",
              "    }\n",
              "</style>\n",
              "<table border=\"1\" class=\"dataframe\">\n",
              "  <thead>\n",
              "    <tr style=\"text-align: right;\">\n",
              "      <th></th>\n",
              "      <th>batter_id</th>\n",
              "      <th>batter_name</th>\n",
              "      <th>year</th>\n",
              "      <th>team</th>\n",
              "      <th>avg</th>\n",
              "      <th>G</th>\n",
              "      <th>AB</th>\n",
              "      <th>R</th>\n",
              "      <th>H</th>\n",
              "      <th>2B</th>\n",
              "      <th>...</th>\n",
              "      <th>E</th>\n",
              "      <th>height/weight</th>\n",
              "      <th>year_born</th>\n",
              "      <th>OPS</th>\n",
              "      <th>외국인</th>\n",
              "      <th>weight</th>\n",
              "      <th>weight_category</th>\n",
              "      <th>age</th>\n",
              "      <th>age_category</th>\n",
              "      <th>mean_ops</th>\n",
              "    </tr>\n",
              "  </thead>\n",
              "  <tbody>\n",
              "    <tr>\n",
              "      <th>1</th>\n",
              "      <td>1</td>\n",
              "      <td>강경학</td>\n",
              "      <td>2011</td>\n",
              "      <td>한화</td>\n",
              "      <td>0.000</td>\n",
              "      <td>2</td>\n",
              "      <td>1</td>\n",
              "      <td>0</td>\n",
              "      <td>0</td>\n",
              "      <td>0</td>\n",
              "      <td>...</td>\n",
              "      <td>1</td>\n",
              "      <td>180cm/72kg</td>\n",
              "      <td>1992</td>\n",
              "      <td>0.000</td>\n",
              "      <td>1</td>\n",
              "      <td>72.0</td>\n",
              "      <td>0.0</td>\n",
              "      <td>19</td>\n",
              "      <td>0</td>\n",
              "      <td>0.529</td>\n",
              "    </tr>\n",
              "    <tr>\n",
              "      <th>2</th>\n",
              "      <td>1</td>\n",
              "      <td>강경학</td>\n",
              "      <td>2014</td>\n",
              "      <td>한화</td>\n",
              "      <td>0.221</td>\n",
              "      <td>41</td>\n",
              "      <td>86</td>\n",
              "      <td>11</td>\n",
              "      <td>19</td>\n",
              "      <td>2</td>\n",
              "      <td>...</td>\n",
              "      <td>6</td>\n",
              "      <td>180cm/72kg</td>\n",
              "      <td>1992</td>\n",
              "      <td>0.686</td>\n",
              "      <td>1</td>\n",
              "      <td>72.0</td>\n",
              "      <td>0.0</td>\n",
              "      <td>22</td>\n",
              "      <td>0</td>\n",
              "      <td>0.529</td>\n",
              "    </tr>\n",
              "    <tr>\n",
              "      <th>3</th>\n",
              "      <td>1</td>\n",
              "      <td>강경학</td>\n",
              "      <td>2015</td>\n",
              "      <td>한화</td>\n",
              "      <td>0.257</td>\n",
              "      <td>120</td>\n",
              "      <td>311</td>\n",
              "      <td>50</td>\n",
              "      <td>80</td>\n",
              "      <td>7</td>\n",
              "      <td>...</td>\n",
              "      <td>15</td>\n",
              "      <td>180cm/72kg</td>\n",
              "      <td>1992</td>\n",
              "      <td>0.673</td>\n",
              "      <td>1</td>\n",
              "      <td>72.0</td>\n",
              "      <td>0.0</td>\n",
              "      <td>23</td>\n",
              "      <td>1</td>\n",
              "      <td>0.529</td>\n",
              "    </tr>\n",
              "    <tr>\n",
              "      <th>4</th>\n",
              "      <td>1</td>\n",
              "      <td>강경학</td>\n",
              "      <td>2016</td>\n",
              "      <td>한화</td>\n",
              "      <td>0.158</td>\n",
              "      <td>46</td>\n",
              "      <td>101</td>\n",
              "      <td>16</td>\n",
              "      <td>16</td>\n",
              "      <td>3</td>\n",
              "      <td>...</td>\n",
              "      <td>7</td>\n",
              "      <td>180cm/72kg</td>\n",
              "      <td>1992</td>\n",
              "      <td>0.489</td>\n",
              "      <td>1</td>\n",
              "      <td>72.0</td>\n",
              "      <td>0.0</td>\n",
              "      <td>24</td>\n",
              "      <td>1</td>\n",
              "      <td>0.529</td>\n",
              "    </tr>\n",
              "    <tr>\n",
              "      <th>5</th>\n",
              "      <td>1</td>\n",
              "      <td>강경학</td>\n",
              "      <td>2017</td>\n",
              "      <td>한화</td>\n",
              "      <td>0.214</td>\n",
              "      <td>59</td>\n",
              "      <td>84</td>\n",
              "      <td>17</td>\n",
              "      <td>18</td>\n",
              "      <td>2</td>\n",
              "      <td>...</td>\n",
              "      <td>4</td>\n",
              "      <td>180cm/72kg</td>\n",
              "      <td>1992</td>\n",
              "      <td>0.552</td>\n",
              "      <td>1</td>\n",
              "      <td>72.0</td>\n",
              "      <td>0.0</td>\n",
              "      <td>25</td>\n",
              "      <td>1</td>\n",
              "      <td>0.529</td>\n",
              "    </tr>\n",
              "  </tbody>\n",
              "</table>\n",
              "<p>5 rows × 32 columns</p>\n",
              "</div>\n",
              "      <button class=\"colab-df-convert\" onclick=\"convertToInteractive('df-a0830400-f655-43e6-b124-8db56c24af35')\"\n",
              "              title=\"Convert this dataframe to an interactive table.\"\n",
              "              style=\"display:none;\">\n",
              "        \n",
              "  <svg xmlns=\"http://www.w3.org/2000/svg\" height=\"24px\"viewBox=\"0 0 24 24\"\n",
              "       width=\"24px\">\n",
              "    <path d=\"M0 0h24v24H0V0z\" fill=\"none\"/>\n",
              "    <path d=\"M18.56 5.44l.94 2.06.94-2.06 2.06-.94-2.06-.94-.94-2.06-.94 2.06-2.06.94zm-11 1L8.5 8.5l.94-2.06 2.06-.94-2.06-.94L8.5 2.5l-.94 2.06-2.06.94zm10 10l.94 2.06.94-2.06 2.06-.94-2.06-.94-.94-2.06-.94 2.06-2.06.94z\"/><path d=\"M17.41 7.96l-1.37-1.37c-.4-.4-.92-.59-1.43-.59-.52 0-1.04.2-1.43.59L10.3 9.45l-7.72 7.72c-.78.78-.78 2.05 0 2.83L4 21.41c.39.39.9.59 1.41.59.51 0 1.02-.2 1.41-.59l7.78-7.78 2.81-2.81c.8-.78.8-2.07 0-2.86zM5.41 20L4 18.59l7.72-7.72 1.47 1.35L5.41 20z\"/>\n",
              "  </svg>\n",
              "      </button>\n",
              "      \n",
              "  <style>\n",
              "    .colab-df-container {\n",
              "      display:flex;\n",
              "      flex-wrap:wrap;\n",
              "      gap: 12px;\n",
              "    }\n",
              "\n",
              "    .colab-df-convert {\n",
              "      background-color: #E8F0FE;\n",
              "      border: none;\n",
              "      border-radius: 50%;\n",
              "      cursor: pointer;\n",
              "      display: none;\n",
              "      fill: #1967D2;\n",
              "      height: 32px;\n",
              "      padding: 0 0 0 0;\n",
              "      width: 32px;\n",
              "    }\n",
              "\n",
              "    .colab-df-convert:hover {\n",
              "      background-color: #E2EBFA;\n",
              "      box-shadow: 0px 1px 2px rgba(60, 64, 67, 0.3), 0px 1px 3px 1px rgba(60, 64, 67, 0.15);\n",
              "      fill: #174EA6;\n",
              "    }\n",
              "\n",
              "    [theme=dark] .colab-df-convert {\n",
              "      background-color: #3B4455;\n",
              "      fill: #D2E3FC;\n",
              "    }\n",
              "\n",
              "    [theme=dark] .colab-df-convert:hover {\n",
              "      background-color: #434B5C;\n",
              "      box-shadow: 0px 1px 3px 1px rgba(0, 0, 0, 0.15);\n",
              "      filter: drop-shadow(0px 1px 2px rgba(0, 0, 0, 0.3));\n",
              "      fill: #FFFFFF;\n",
              "    }\n",
              "  </style>\n",
              "\n",
              "      <script>\n",
              "        const buttonEl =\n",
              "          document.querySelector('#df-a0830400-f655-43e6-b124-8db56c24af35 button.colab-df-convert');\n",
              "        buttonEl.style.display =\n",
              "          google.colab.kernel.accessAllowed ? 'block' : 'none';\n",
              "\n",
              "        async function convertToInteractive(key) {\n",
              "          const element = document.querySelector('#df-a0830400-f655-43e6-b124-8db56c24af35');\n",
              "          const dataTable =\n",
              "            await google.colab.kernel.invokeFunction('convertToInteractive',\n",
              "                                                     [key], {});\n",
              "          if (!dataTable) return;\n",
              "\n",
              "          const docLinkHtml = 'Like what you see? Visit the ' +\n",
              "            '<a target=\"_blank\" href=https://colab.research.google.com/notebooks/data_table.ipynb>data table notebook</a>'\n",
              "            + ' to learn more about interactive tables.';\n",
              "          element.innerHTML = '';\n",
              "          dataTable['output_type'] = 'display_data';\n",
              "          await google.colab.output.renderOutput(dataTable, element);\n",
              "          const docLink = document.createElement('div');\n",
              "          docLink.innerHTML = docLinkHtml;\n",
              "          element.appendChild(docLink);\n",
              "        }\n",
              "      </script>\n",
              "    </div>\n",
              "  </div>\n",
              "  "
            ]
          },
          "metadata": {},
          "execution_count": 21
        }
      ]
    },
    {
      "cell_type": "code",
      "source": [
        "import requests\n",
        "from bs4 import BeautifulSoup\n",
        "import collections"
      ],
      "metadata": {
        "id": "1105-BXcamGw"
      },
      "execution_count": null,
      "outputs": []
    },
    {
      "cell_type": "code",
      "source": [
        "noHW_batter = regular[regular['height/weight'].isna()==True]['batter_name'].unique()"
      ],
      "metadata": {
        "id": "z6nafTUsgH0R"
      },
      "execution_count": null,
      "outputs": []
    },
    {
      "cell_type": "code",
      "source": [
        "for batter in noHW_batter:\n",
        "  response = requests.get('https://search.naver.com/search.naver?where=nexearch&sm=top_hty&fbm=0&ie=utf8&query='+batter+'야구')\n",
        "  soup = BeautifulSoup(response.content, 'html.parser')\n",
        "  table = soup.select(\".detail_info > .txt_3 > .info_group > dd\")\n",
        "  \n",
        "  for a in table:\n",
        "    if a.string:\n",
        "      if a.string.endswith('kg'):\n",
        "        print(batter,a.string[1:])\n",
        "        regular.loc[regular['batter_name']==batter, 'height/weight']=a.string[1:]"
      ],
      "metadata": {
        "colab": {
          "base_uri": "https://localhost:8080/"
        },
        "id": "X5dR0Lf-gxBV",
        "outputId": "1ccda139-aa75-4653-e997-5509666e9202"
      },
      "execution_count": null,
      "outputs": [
        {
          "output_type": "stream",
          "name": "stdout",
          "text": [
            "백승룡 180cm, 80kg\n",
            "진갑용 182cm, 90kg\n",
            "강병식 182cm, 85kg\n",
            "강봉규 183cm, 88kg\n",
            "강정호 183cm, 99.8kg\n",
            "고도현 182cm, 97kg\n",
            "고동진 183cm, 85kg\n",
            "고영민 182cm, 72kg\n",
            "이종환 175cm, 90kg\n",
            "권용관 180cm, 80kg\n",
            "김경모 177cm, 72kg\n",
            "김경언 188cm, 84kg\n",
            "김광연 181cm, 76kg\n",
            "박재상 178cm, 83kg\n",
            "김대륙 185cm, 82kg\n",
            "김동주 190cm, 90kg\n",
            "신현철 179cm, 73kg\n",
            "김연훈 180cm, 80kg\n",
            "연경흠 176cm, 78kg\n",
            "김원석 182cm, 83kg\n",
            "김원섭 180cm, 75kg\n",
            "김종호 183cm, 82kg\n",
            "나성용 183cm, 94kg\n",
            "대니돈 186cm, 92kg\n",
            "마낙길 178cm, 75kg\n",
            "모상기 193cm, 100kg\n",
            "문우람 177cm, 80kg\n",
            "박계현 181cm, 82kg\n",
            "박기남 175cm, 80kg\n",
            "박상규 185cm, 88kg\n",
            "박용근 172cm, 76kg\n",
            "박준서 180cm, 80kg\n",
            "박진만 178cm, 82kg\n",
            "성의준 178cm, 76kg\n",
            "손용석 176cm, 88kg\n",
            "송지만 178cm, 85kg\n",
            "신경현 186cm, 95kg\n",
            "신명철 181cm, 77kg\n",
            "안치용 183cm, 90kg\n",
            "양영동 173cm, 70kg\n",
            "용덕한 176cm, 82kg\n",
            "우동균 175cm, 68kg\n",
            "유선정 180cm, 82kg\n",
            "이종범 178cm, 73kg\n",
            "유재혁 182cm, 70kg\n",
            "윤요섭 180cm, 96kg\n",
            "이명환 188cm, 94kg\n",
            "이민재 177cm, 77kg\n",
            "이승재 182cm, 82kg\n",
            "이양기 185cm, 88kg\n",
            "이정식 183cm, 90kg\n",
            "이태원 177cm, 78kg\n",
            "한상훈 178cm, 78kg\n",
            "이현곤 183cm, 83kg\n",
            "이홍구 180cm, 95kg\n",
            "이희근 178cm, 84kg\n",
            "임재철 182cm, 89kg\n",
            "정보명 177cm, 80kg\n",
            "정상교 177cm, 73kg\n",
            "정수성 173cm, 72kg\n",
            "정현석 182cm, 93kg\n",
            "정형식 178cm, 74kg\n",
            "조성환 180cm, 83kg\n",
            "조영훈 185cm, 90kg\n",
            "조인성 182cm, 107kg\n",
            "조중근 183cm, 98kg\n",
            "지재옥 181cm, 78kg\n",
            "차일목 176cm, 81kg\n",
            "채상병 185cm, 95kg\n",
            "최경철 188cm, 86kg\n",
            "최민구 178cm, 75kg\n",
            "최선호 179cm, 70kg\n",
            "최훈락 189cm, 82kg\n",
            "한윤섭 183cm, 82kg\n",
            "현재윤 174cm, 72kg\n",
            "홍성흔 180cm, 90kg\n",
            "황목치승 173cm, 68kg\n",
            "황선일 186cm, 81kg\n",
            "황정립 182cm, 85kg\n"
          ]
        }
      ]
    },
    {
      "cell_type": "code",
      "source": [
        "regular[regular['height/weight'].isna()==True]['batter_name'].unique()\n",
        "# 네이버 인물검색에 안뜸 !"
      ],
      "metadata": {
        "colab": {
          "base_uri": "https://localhost:8080/"
        },
        "id": "ieWrwNV3kk_Z",
        "outputId": "728ccc38-45b0-4592-d11c-0c2a195cd452"
      },
      "execution_count": null,
      "outputs": [
        {
          "output_type": "execute_result",
          "data": {
            "text/plain": [
              "array(['고메즈', '박재홍', '나바로', '김종찬', '로메로', '로사리오', '로티노', '박노민', '박진원',\n",
              "       '스나이더', '알드리지', '오재필', '윤완주', '이여상', '이우민', '이인구', '장성호', '전현태',\n",
              "       '최동수', '칸투', '테임즈', '피에'], dtype=object)"
            ]
          },
          "metadata": {},
          "execution_count": 17
        }
      ]
    },
    {
      "cell_type": "code",
      "source": [
        "regular.loc[regular['batter_name']=='고메즈', 'height/weight'] = '188cm/88kg'\n",
        "regular.loc[regular['batter_name']=='박재홍', 'height/weight'] = '176cm/85kg'\n",
        "regular.loc[regular['batter_name']=='나바로', 'height/weight'] = '183cm/93kg'\n",
        "regular.loc[regular['batter_name']=='김종찬', 'height/weight'] = '188cm/102kg'\n",
        "regular.loc[regular['batter_name']=='로메로', 'height/weight'] = '188cm/102kg'\n",
        "regular.loc[regular['batter_name']=='로사리오', 'height/weight'] = '180cm/100kg'\n",
        "regular.loc[regular['batter_name']=='로티노', 'height/weight'] = '183cm/86kg'\n",
        "regular.loc[regular['batter_name']=='박노민', 'height/weight'] = '182cm/93kg'\n",
        "regular.loc[regular['batter_name']=='박지원', 'height/weight'] = '186cm, 85kg'\n",
        "regular.loc[regular['batter_name']=='스나이더', 'height/weight'] = '192cm/96kg'\n",
        "regular.loc[regular['batter_name']=='알드리지', 'height/weight'] = '185cm/102kg'\n",
        "regular.loc[regular['batter_name']=='오재필', 'height/weight'] = '181cm/83kg'\n",
        "regular.loc[regular['batter_name']=='윤완주', 'height/weight'] = '178cm, 84kg'\n",
        "regular.loc[regular['batter_name']=='이여상', 'height/weight'] = '183cm/84kg'\n",
        "regular.loc[regular['batter_name']=='이우민', 'height/weight'] = '182cm/85kg'\n",
        "regular.loc[regular['batter_name']=='이인구', 'height/weight'] = '186cm/94kg'\n",
        "regular.loc[regular['batter_name']=='장성호', 'height/weight'] = '183cm/93kg'\n",
        "regular.loc[regular['batter_name']=='전현태', 'height/weight'] = '184cm/87kg'\n",
        "regular.loc[regular['batter_name']=='최동수', 'height/weight'] = '186cm/98kg'\n",
        "regular.loc[regular['batter_name']=='칸투', 'height/weight'] = '192cm/92kg'\n",
        "regular.loc[regular['batter_name']=='테임즈', 'height/weight'] = '180cm/106kg'\n",
        "regular.loc[regular['batter_name']=='피에', 'height/weight'] = '188cm/86kg'\n",
        "regular.loc[regular['batter_name']=='박진원', 'height/weight'] = '179cm, 75kg'\n",
        "\n",
        "# http://www.kbreport.com/main 바탕으로 수기로 넣어줌"
      ],
      "metadata": {
        "id": "u-Zgj6cnaIr-"
      },
      "execution_count": null,
      "outputs": []
    },
    {
      "cell_type": "code",
      "source": [
        "regular['height/weight'].isna().sum()"
      ],
      "metadata": {
        "colab": {
          "base_uri": "https://localhost:8080/"
        },
        "id": "veg4momurKgl",
        "outputId": "fe2fb022-d937-42b9-eae4-52fccecd9549"
      },
      "execution_count": null,
      "outputs": [
        {
          "output_type": "execute_result",
          "data": {
            "text/plain": [
              "0"
            ]
          },
          "metadata": {},
          "execution_count": 23
        }
      ]
    },
    {
      "cell_type": "code",
      "source": [
        "regular['weight'] = regular['height/weight'].apply(weigth)\n",
        "regular[\"weight_category\"] = regular[\"weight\"].apply(weight_to_category)"
      ],
      "metadata": {
        "id": "Zo6iqZwHX4AV"
      },
      "execution_count": null,
      "outputs": []
    },
    {
      "cell_type": "code",
      "source": [
        "regular.head(3)"
      ],
      "metadata": {
        "colab": {
          "base_uri": "https://localhost:8080/",
          "height": 497
        },
        "id": "MB0s2Mm_ryEX",
        "outputId": "b40d0dab-fce7-494d-e9a1-e9893dc789b9"
      },
      "execution_count": null,
      "outputs": [
        {
          "output_type": "execute_result",
          "data": {
            "text/plain": [
              "   batter_id batter_name  year team    avg   G   AB   R   H  2B  ...  \\\n",
              "0          0        가르시아  2018   LG  0.339  50  183  27  62   9  ...   \n",
              "1          1         강경학  2011   한화  0.000   2    1   0   0   0  ...   \n",
              "2          1         강경학  2014   한화  0.221  41   86  11  19   2  ...   \n",
              "\n",
              "   year_born   position                                  career  \\\n",
              "0       1985  내야수(우투우타)  쿠바 Ciego de Avila Maximo Gomez Baez(대)   \n",
              "1       1992  내야수(우투좌타)                       광주대성초-광주동성중-광주동성고   \n",
              "2       1992  내야수(우투좌타)                       광주대성초-광주동성중-광주동성고   \n",
              "\n",
              "   starting_salary    OPS  외국인  age  age_category  weight  weight_category  \n",
              "0              NaN  0.902    0   33             2      93                2  \n",
              "1          10000만원  0.000    1   19             0      72                0  \n",
              "2          10000만원  0.686    1   22             0      72                0  \n",
              "\n",
              "[3 rows x 34 columns]"
            ],
            "text/html": [
              "\n",
              "  <div id=\"df-897ab474-45cc-4d69-81a0-2c3ce56ccc5e\">\n",
              "    <div class=\"colab-df-container\">\n",
              "      <div>\n",
              "<style scoped>\n",
              "    .dataframe tbody tr th:only-of-type {\n",
              "        vertical-align: middle;\n",
              "    }\n",
              "\n",
              "    .dataframe tbody tr th {\n",
              "        vertical-align: top;\n",
              "    }\n",
              "\n",
              "    .dataframe thead th {\n",
              "        text-align: right;\n",
              "    }\n",
              "</style>\n",
              "<table border=\"1\" class=\"dataframe\">\n",
              "  <thead>\n",
              "    <tr style=\"text-align: right;\">\n",
              "      <th></th>\n",
              "      <th>batter_id</th>\n",
              "      <th>batter_name</th>\n",
              "      <th>year</th>\n",
              "      <th>team</th>\n",
              "      <th>avg</th>\n",
              "      <th>G</th>\n",
              "      <th>AB</th>\n",
              "      <th>R</th>\n",
              "      <th>H</th>\n",
              "      <th>2B</th>\n",
              "      <th>...</th>\n",
              "      <th>year_born</th>\n",
              "      <th>position</th>\n",
              "      <th>career</th>\n",
              "      <th>starting_salary</th>\n",
              "      <th>OPS</th>\n",
              "      <th>외국인</th>\n",
              "      <th>age</th>\n",
              "      <th>age_category</th>\n",
              "      <th>weight</th>\n",
              "      <th>weight_category</th>\n",
              "    </tr>\n",
              "  </thead>\n",
              "  <tbody>\n",
              "    <tr>\n",
              "      <th>0</th>\n",
              "      <td>0</td>\n",
              "      <td>가르시아</td>\n",
              "      <td>2018</td>\n",
              "      <td>LG</td>\n",
              "      <td>0.339</td>\n",
              "      <td>50</td>\n",
              "      <td>183</td>\n",
              "      <td>27</td>\n",
              "      <td>62</td>\n",
              "      <td>9</td>\n",
              "      <td>...</td>\n",
              "      <td>1985</td>\n",
              "      <td>내야수(우투우타)</td>\n",
              "      <td>쿠바 Ciego de Avila Maximo Gomez Baez(대)</td>\n",
              "      <td>NaN</td>\n",
              "      <td>0.902</td>\n",
              "      <td>0</td>\n",
              "      <td>33</td>\n",
              "      <td>2</td>\n",
              "      <td>93</td>\n",
              "      <td>2</td>\n",
              "    </tr>\n",
              "    <tr>\n",
              "      <th>1</th>\n",
              "      <td>1</td>\n",
              "      <td>강경학</td>\n",
              "      <td>2011</td>\n",
              "      <td>한화</td>\n",
              "      <td>0.000</td>\n",
              "      <td>2</td>\n",
              "      <td>1</td>\n",
              "      <td>0</td>\n",
              "      <td>0</td>\n",
              "      <td>0</td>\n",
              "      <td>...</td>\n",
              "      <td>1992</td>\n",
              "      <td>내야수(우투좌타)</td>\n",
              "      <td>광주대성초-광주동성중-광주동성고</td>\n",
              "      <td>10000만원</td>\n",
              "      <td>0.000</td>\n",
              "      <td>1</td>\n",
              "      <td>19</td>\n",
              "      <td>0</td>\n",
              "      <td>72</td>\n",
              "      <td>0</td>\n",
              "    </tr>\n",
              "    <tr>\n",
              "      <th>2</th>\n",
              "      <td>1</td>\n",
              "      <td>강경학</td>\n",
              "      <td>2014</td>\n",
              "      <td>한화</td>\n",
              "      <td>0.221</td>\n",
              "      <td>41</td>\n",
              "      <td>86</td>\n",
              "      <td>11</td>\n",
              "      <td>19</td>\n",
              "      <td>2</td>\n",
              "      <td>...</td>\n",
              "      <td>1992</td>\n",
              "      <td>내야수(우투좌타)</td>\n",
              "      <td>광주대성초-광주동성중-광주동성고</td>\n",
              "      <td>10000만원</td>\n",
              "      <td>0.686</td>\n",
              "      <td>1</td>\n",
              "      <td>22</td>\n",
              "      <td>0</td>\n",
              "      <td>72</td>\n",
              "      <td>0</td>\n",
              "    </tr>\n",
              "  </tbody>\n",
              "</table>\n",
              "<p>3 rows × 34 columns</p>\n",
              "</div>\n",
              "      <button class=\"colab-df-convert\" onclick=\"convertToInteractive('df-897ab474-45cc-4d69-81a0-2c3ce56ccc5e')\"\n",
              "              title=\"Convert this dataframe to an interactive table.\"\n",
              "              style=\"display:none;\">\n",
              "        \n",
              "  <svg xmlns=\"http://www.w3.org/2000/svg\" height=\"24px\"viewBox=\"0 0 24 24\"\n",
              "       width=\"24px\">\n",
              "    <path d=\"M0 0h24v24H0V0z\" fill=\"none\"/>\n",
              "    <path d=\"M18.56 5.44l.94 2.06.94-2.06 2.06-.94-2.06-.94-.94-2.06-.94 2.06-2.06.94zm-11 1L8.5 8.5l.94-2.06 2.06-.94-2.06-.94L8.5 2.5l-.94 2.06-2.06.94zm10 10l.94 2.06.94-2.06 2.06-.94-2.06-.94-.94-2.06-.94 2.06-2.06.94z\"/><path d=\"M17.41 7.96l-1.37-1.37c-.4-.4-.92-.59-1.43-.59-.52 0-1.04.2-1.43.59L10.3 9.45l-7.72 7.72c-.78.78-.78 2.05 0 2.83L4 21.41c.39.39.9.59 1.41.59.51 0 1.02-.2 1.41-.59l7.78-7.78 2.81-2.81c.8-.78.8-2.07 0-2.86zM5.41 20L4 18.59l7.72-7.72 1.47 1.35L5.41 20z\"/>\n",
              "  </svg>\n",
              "      </button>\n",
              "      \n",
              "  <style>\n",
              "    .colab-df-container {\n",
              "      display:flex;\n",
              "      flex-wrap:wrap;\n",
              "      gap: 12px;\n",
              "    }\n",
              "\n",
              "    .colab-df-convert {\n",
              "      background-color: #E8F0FE;\n",
              "      border: none;\n",
              "      border-radius: 50%;\n",
              "      cursor: pointer;\n",
              "      display: none;\n",
              "      fill: #1967D2;\n",
              "      height: 32px;\n",
              "      padding: 0 0 0 0;\n",
              "      width: 32px;\n",
              "    }\n",
              "\n",
              "    .colab-df-convert:hover {\n",
              "      background-color: #E2EBFA;\n",
              "      box-shadow: 0px 1px 2px rgba(60, 64, 67, 0.3), 0px 1px 3px 1px rgba(60, 64, 67, 0.15);\n",
              "      fill: #174EA6;\n",
              "    }\n",
              "\n",
              "    [theme=dark] .colab-df-convert {\n",
              "      background-color: #3B4455;\n",
              "      fill: #D2E3FC;\n",
              "    }\n",
              "\n",
              "    [theme=dark] .colab-df-convert:hover {\n",
              "      background-color: #434B5C;\n",
              "      box-shadow: 0px 1px 3px 1px rgba(0, 0, 0, 0.15);\n",
              "      filter: drop-shadow(0px 1px 2px rgba(0, 0, 0, 0.3));\n",
              "      fill: #FFFFFF;\n",
              "    }\n",
              "  </style>\n",
              "\n",
              "      <script>\n",
              "        const buttonEl =\n",
              "          document.querySelector('#df-897ab474-45cc-4d69-81a0-2c3ce56ccc5e button.colab-df-convert');\n",
              "        buttonEl.style.display =\n",
              "          google.colab.kernel.accessAllowed ? 'block' : 'none';\n",
              "\n",
              "        async function convertToInteractive(key) {\n",
              "          const element = document.querySelector('#df-897ab474-45cc-4d69-81a0-2c3ce56ccc5e');\n",
              "          const dataTable =\n",
              "            await google.colab.kernel.invokeFunction('convertToInteractive',\n",
              "                                                     [key], {});\n",
              "          if (!dataTable) return;\n",
              "\n",
              "          const docLinkHtml = 'Like what you see? Visit the ' +\n",
              "            '<a target=\"_blank\" href=https://colab.research.google.com/notebooks/data_table.ipynb>data table notebook</a>'\n",
              "            + ' to learn more about interactive tables.';\n",
              "          element.innerHTML = '';\n",
              "          dataTable['output_type'] = 'display_data';\n",
              "          await google.colab.output.renderOutput(dataTable, element);\n",
              "          const docLink = document.createElement('div');\n",
              "          docLink.innerHTML = docLinkHtml;\n",
              "          element.appendChild(docLink);\n",
              "        }\n",
              "      </script>\n",
              "    </div>\n",
              "  </div>\n",
              "  "
            ]
          },
          "metadata": {},
          "execution_count": 27
        }
      ]
    },
    {
      "cell_type": "code",
      "source": [
        "regular.drop([\"career\", \"starting_salary\", \"position\"], axis=1, inplace=True)"
      ],
      "metadata": {
        "id": "RiYUyPJNr3yD"
      },
      "execution_count": null,
      "outputs": []
    },
    {
      "cell_type": "code",
      "source": [
        "regular.to_csv(\"Regular_Season_Batter_pre(2).csv\", index=None)"
      ],
      "metadata": {
        "id": "UHTCd8dRr8YX"
      },
      "execution_count": null,
      "outputs": []
    },
    {
      "cell_type": "markdown",
      "source": [
        "## 프리시즌 전처리"
      ],
      "metadata": {
        "id": "7x6zj1UusEC0"
      }
    },
    {
      "cell_type": "code",
      "source": [
        "pre[\"team\"] = pre[\"team\"].apply(team_change)"
      ],
      "metadata": {
        "id": "TkSv8JlmsLRp"
      },
      "execution_count": null,
      "outputs": []
    },
    {
      "cell_type": "code",
      "source": [
        "pre.loc[regular[\"batter_name\"].isin(foreign[\"name\"]), \"외국인\"] = 0\n",
        "pre.loc[~regular[\"batter_name\"].isin(foreign[\"name\"]), \"외국인\"] = 1"
      ],
      "metadata": {
        "id": "-rygwkIrsSjR"
      },
      "execution_count": null,
      "outputs": []
    },
    {
      "cell_type": "code",
      "source": [
        "pre['height/weight'].isna().sum()"
      ],
      "metadata": {
        "colab": {
          "base_uri": "https://localhost:8080/"
        },
        "id": "VCQR__5csWTR",
        "outputId": "1237f08b-7339-4cfa-a39a-6a1ed8388337"
      },
      "execution_count": null,
      "outputs": [
        {
          "output_type": "execute_result",
          "data": {
            "text/plain": [
              "0"
            ]
          },
          "metadata": {},
          "execution_count": 33
        }
      ]
    },
    {
      "cell_type": "code",
      "source": [
        "pre[\"weight\"] = pre['height/weight'].apply(weigth)\n",
        "pre[\"weight_category\"] = pre[\"weight\"].apply(weight_to_category)"
      ],
      "metadata": {
        "id": "DRDzJoP2sSw0"
      },
      "execution_count": null,
      "outputs": []
    },
    {
      "cell_type": "code",
      "source": [
        "pre[\"year_born\"] = pre[\"year_born\"].apply(lambda x: int(str(x)[:4]))\n",
        "pre[\"age\"] = pre[\"year\"] - pre[\"year_born\"]\n",
        "pre[\"age_category\"] = pre[\"age\"].apply(age_to_category)"
      ],
      "metadata": {
        "id": "8W1wDJapsSbG"
      },
      "execution_count": null,
      "outputs": []
    },
    {
      "cell_type": "code",
      "source": [
        "pre.drop([\"career\", \"starting_salary\", \"position\"], axis=1, inplace=True)"
      ],
      "metadata": {
        "id": "s6srmzRfsmlL"
      },
      "execution_count": null,
      "outputs": []
    },
    {
      "cell_type": "code",
      "source": [
        "pre.to_csv(\"Pre_Season_Batter_pre(2).csv\", index=None)"
      ],
      "metadata": {
        "id": "8b6oz1KwsrpQ"
      },
      "execution_count": null,
      "outputs": []
    },
    {
      "cell_type": "markdown",
      "source": [
        "## library"
      ],
      "metadata": {
        "id": "Nc518QvDpHE9"
      }
    },
    {
      "cell_type": "code",
      "source": [
        "# 팀 통합\n",
        "def team_change(team):\n",
        "\n",
        "    if team == \"쌍방울\":\n",
        "        team = \"SK\"\n",
        "\n",
        "    elif team == \"OB\":\n",
        "        team = \"두산\"\n",
        "    \n",
        "    elif team == \"해태\":\n",
        "        team = \"KIA\"\n",
        "\n",
        "    elif team == \"우리\":\n",
        "        team = \"넥센\"\n",
        "    \n",
        "    elif team == \"히어로즈\":\n",
        "        team = \"넥센\"\n",
        "\n",
        "    else:\n",
        "        team\n",
        "\n",
        "    return team"
      ],
      "metadata": {
        "id": "2HFgnVVKpJSV"
      },
      "execution_count": null,
      "outputs": []
    },
    {
      "cell_type": "code",
      "source": [
        "# 몸무게로 변환\n",
        "def weigth(kg):\n",
        "\n",
        "    # 몸무게가 3자리인 선수 고려\n",
        "    if len(kg) == 11:\n",
        "\n",
        "        kg = str(kg)[6:9]\n",
        "\n",
        "    else:\n",
        "        kg = str(kg)[6:8]\n",
        "\n",
        "    return int(kg)"
      ],
      "metadata": {
        "id": "EyB325K9pKry"
      },
      "execution_count": null,
      "outputs": []
    },
    {
      "cell_type": "code",
      "source": [
        "# 몸무게 범주화\n",
        "def weight_to_category(kg):\n",
        "\n",
        "    if kg >= 94:\n",
        "        \n",
        "        x = int(3)\n",
        "\n",
        "    elif kg >= 85:\n",
        "\n",
        "        x = int(2)\n",
        "\n",
        "    elif kg >= 78:\n",
        "\n",
        "        x = int(1)\n",
        "\n",
        "    elif kg >= 0 and kg < 78:\n",
        "\n",
        "        x = int(0)\n",
        "\n",
        "    else:\n",
        "\n",
        "        x = np.NaN\n",
        "\n",
        "    return x"
      ],
      "metadata": {
        "id": "_tcoSLuNpL6D"
      },
      "execution_count": null,
      "outputs": []
    },
    {
      "cell_type": "code",
      "source": [
        "# 나이 범주화\n",
        "def age_to_category(age):\n",
        "    if age >= 38:\n",
        "\n",
        "        age = 3\n",
        "\n",
        "    elif age >= 29:\n",
        "        \n",
        "        age = 2\n",
        "\n",
        "    elif age >= 23:\n",
        "\n",
        "        age = 1\n",
        "\n",
        "    else:\n",
        "\n",
        "        age = 0\n",
        "\n",
        "    return age"
      ],
      "metadata": {
        "id": "cCmBJg-XpNK8"
      },
      "execution_count": null,
      "outputs": []
    }
  ]
}